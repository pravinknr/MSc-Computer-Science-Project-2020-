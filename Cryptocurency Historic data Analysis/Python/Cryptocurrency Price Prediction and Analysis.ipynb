{
 "cells": [
  {
   "cell_type": "markdown",
   "metadata": {},
   "source": [
    "# CryptoCurrency Price Prediction\n",
    "* Bitcoin \n",
    "* Bitcoin Cash\n",
    "* Ethereum\n",
    "* Ripple\n",
    "* Iota\n",
    "* Dash\n",
    "* Monero"
   ]
  },
  {
   "cell_type": "code",
   "execution_count": 1,
   "metadata": {},
   "outputs": [],
   "source": [
    "import numpy as np\n",
    "import pandas as pd\n",
    "import seaborn as sns\n",
    "\n",
    "from matplotlib import pyplot as plt\n",
    "%matplotlib inline\n",
    "\n",
    "from statsmodels.tsa.seasonal import seasonal_decompose\n",
    "\n",
    "from statsmodels.tsa.ar_model import AR\n",
    "\n",
    "from sklearn.metrics import mean_squared_error\n",
    "\n",
    "from pandas.plotting import autocorrelation_plot\n",
    "\n",
    "from statsmodels.graphics.tsaplots import plot_pacf, plot_acf\n",
    "\n",
    "from statsmodels.tsa.arima_model import ARIMA"
   ]
  },
  {
   "cell_type": "code",
   "execution_count": 2,
   "metadata": {},
   "outputs": [],
   "source": [
    "bitcoin_price = pd.read_csv('D:/Msc CS Project Final/Dataset/bitcoin_price.csv', header=0, parse_dates=[0])"
   ]
  },
  {
   "cell_type": "code",
   "execution_count": 15,
   "metadata": {},
   "outputs": [
    {
     "data": {
      "text/html": [
       "<div>\n",
       "<style scoped>\n",
       "    .dataframe tbody tr th:only-of-type {\n",
       "        vertical-align: middle;\n",
       "    }\n",
       "\n",
       "    .dataframe tbody tr th {\n",
       "        vertical-align: top;\n",
       "    }\n",
       "\n",
       "    .dataframe thead th {\n",
       "        text-align: right;\n",
       "    }\n",
       "</style>\n",
       "<table border=\"1\" class=\"dataframe\">\n",
       "  <thead>\n",
       "    <tr style=\"text-align: right;\">\n",
       "      <th></th>\n",
       "      <th>Date</th>\n",
       "      <th>Open</th>\n",
       "      <th>High</th>\n",
       "      <th>Low</th>\n",
       "      <th>Close</th>\n",
       "      <th>Volume</th>\n",
       "      <th>Market Cap</th>\n",
       "    </tr>\n",
       "  </thead>\n",
       "  <tbody>\n",
       "    <tr>\n",
       "      <td>0</td>\n",
       "      <td>2013-04-28</td>\n",
       "      <td>135.30</td>\n",
       "      <td>135.98</td>\n",
       "      <td>132.10</td>\n",
       "      <td>134.21</td>\n",
       "      <td>0.0</td>\n",
       "      <td>1.500520e+09</td>\n",
       "    </tr>\n",
       "    <tr>\n",
       "      <td>1</td>\n",
       "      <td>2013-04-29</td>\n",
       "      <td>134.44</td>\n",
       "      <td>147.49</td>\n",
       "      <td>134.00</td>\n",
       "      <td>144.54</td>\n",
       "      <td>0.0</td>\n",
       "      <td>1.491160e+09</td>\n",
       "    </tr>\n",
       "    <tr>\n",
       "      <td>2</td>\n",
       "      <td>2013-04-30</td>\n",
       "      <td>144.00</td>\n",
       "      <td>146.93</td>\n",
       "      <td>134.05</td>\n",
       "      <td>139.00</td>\n",
       "      <td>0.0</td>\n",
       "      <td>1.597780e+09</td>\n",
       "    </tr>\n",
       "    <tr>\n",
       "      <td>3</td>\n",
       "      <td>2013-05-01</td>\n",
       "      <td>139.00</td>\n",
       "      <td>139.89</td>\n",
       "      <td>107.72</td>\n",
       "      <td>116.99</td>\n",
       "      <td>0.0</td>\n",
       "      <td>1.542820e+09</td>\n",
       "    </tr>\n",
       "    <tr>\n",
       "      <td>4</td>\n",
       "      <td>2013-05-02</td>\n",
       "      <td>116.38</td>\n",
       "      <td>125.60</td>\n",
       "      <td>92.28</td>\n",
       "      <td>105.21</td>\n",
       "      <td>0.0</td>\n",
       "      <td>1.292190e+09</td>\n",
       "    </tr>\n",
       "  </tbody>\n",
       "</table>\n",
       "</div>"
      ],
      "text/plain": [
       "        Date    Open    High     Low   Close  Volume    Market Cap\n",
       "0 2013-04-28  135.30  135.98  132.10  134.21     0.0  1.500520e+09\n",
       "1 2013-04-29  134.44  147.49  134.00  144.54     0.0  1.491160e+09\n",
       "2 2013-04-30  144.00  146.93  134.05  139.00     0.0  1.597780e+09\n",
       "3 2013-05-01  139.00  139.89  107.72  116.99     0.0  1.542820e+09\n",
       "4 2013-05-02  116.38  125.60   92.28  105.21     0.0  1.292190e+09"
      ]
     },
     "execution_count": 15,
     "metadata": {},
     "output_type": "execute_result"
    }
   ],
   "source": [
    "bitcoin_price.head()"
   ]
  },
  {
   "cell_type": "code",
   "execution_count": 16,
   "metadata": {},
   "outputs": [
    {
     "data": {
      "text/html": [
       "<div>\n",
       "<style scoped>\n",
       "    .dataframe tbody tr th:only-of-type {\n",
       "        vertical-align: middle;\n",
       "    }\n",
       "\n",
       "    .dataframe tbody tr th {\n",
       "        vertical-align: top;\n",
       "    }\n",
       "\n",
       "    .dataframe thead th {\n",
       "        text-align: right;\n",
       "    }\n",
       "</style>\n",
       "<table border=\"1\" class=\"dataframe\">\n",
       "  <thead>\n",
       "    <tr style=\"text-align: right;\">\n",
       "      <th></th>\n",
       "      <th>Date</th>\n",
       "      <th>Open</th>\n",
       "      <th>High</th>\n",
       "      <th>Low</th>\n",
       "      <th>Close</th>\n",
       "      <th>Volume</th>\n",
       "      <th>Market Cap</th>\n",
       "    </tr>\n",
       "  </thead>\n",
       "  <tbody>\n",
       "    <tr>\n",
       "      <td>1755</td>\n",
       "      <td>2018-02-16</td>\n",
       "      <td>10135.7</td>\n",
       "      <td>10324.1</td>\n",
       "      <td>9824.82</td>\n",
       "      <td>10233.9</td>\n",
       "      <td>7.296160e+09</td>\n",
       "      <td>1.709600e+11</td>\n",
       "    </tr>\n",
       "    <tr>\n",
       "      <td>1756</td>\n",
       "      <td>2018-02-17</td>\n",
       "      <td>10207.5</td>\n",
       "      <td>11139.5</td>\n",
       "      <td>10149.40</td>\n",
       "      <td>11112.7</td>\n",
       "      <td>8.660880e+09</td>\n",
       "      <td>1.721910e+11</td>\n",
       "    </tr>\n",
       "    <tr>\n",
       "      <td>1757</td>\n",
       "      <td>2018-02-18</td>\n",
       "      <td>11123.4</td>\n",
       "      <td>11349.8</td>\n",
       "      <td>10326.00</td>\n",
       "      <td>10551.8</td>\n",
       "      <td>8.744010e+09</td>\n",
       "      <td>1.876630e+11</td>\n",
       "    </tr>\n",
       "    <tr>\n",
       "      <td>1758</td>\n",
       "      <td>2018-02-19</td>\n",
       "      <td>10552.6</td>\n",
       "      <td>11273.8</td>\n",
       "      <td>10513.20</td>\n",
       "      <td>11225.3</td>\n",
       "      <td>7.652090e+09</td>\n",
       "      <td>1.780550e+11</td>\n",
       "    </tr>\n",
       "    <tr>\n",
       "      <td>1759</td>\n",
       "      <td>2018-02-20</td>\n",
       "      <td>11231.8</td>\n",
       "      <td>11958.5</td>\n",
       "      <td>11231.80</td>\n",
       "      <td>11403.7</td>\n",
       "      <td>9.926540e+09</td>\n",
       "      <td>1.895360e+11</td>\n",
       "    </tr>\n",
       "  </tbody>\n",
       "</table>\n",
       "</div>"
      ],
      "text/plain": [
       "           Date     Open     High       Low    Close        Volume  \\\n",
       "1755 2018-02-16  10135.7  10324.1   9824.82  10233.9  7.296160e+09   \n",
       "1756 2018-02-17  10207.5  11139.5  10149.40  11112.7  8.660880e+09   \n",
       "1757 2018-02-18  11123.4  11349.8  10326.00  10551.8  8.744010e+09   \n",
       "1758 2018-02-19  10552.6  11273.8  10513.20  11225.3  7.652090e+09   \n",
       "1759 2018-02-20  11231.8  11958.5  11231.80  11403.7  9.926540e+09   \n",
       "\n",
       "        Market Cap  \n",
       "1755  1.709600e+11  \n",
       "1756  1.721910e+11  \n",
       "1757  1.876630e+11  \n",
       "1758  1.780550e+11  \n",
       "1759  1.895360e+11  "
      ]
     },
     "execution_count": 16,
     "metadata": {},
     "output_type": "execute_result"
    }
   ],
   "source": [
    "bitcoin_price.tail()"
   ]
  },
  {
   "cell_type": "code",
   "execution_count": 17,
   "metadata": {},
   "outputs": [
    {
     "data": {
      "text/plain": [
       "(1760, 7)"
      ]
     },
     "execution_count": 17,
     "metadata": {},
     "output_type": "execute_result"
    }
   ],
   "source": [
    "bitcoin_price.shape"
   ]
  },
  {
   "cell_type": "code",
   "execution_count": 18,
   "metadata": {},
   "outputs": [
    {
     "data": {
      "text/html": [
       "<div>\n",
       "<style scoped>\n",
       "    .dataframe tbody tr th:only-of-type {\n",
       "        vertical-align: middle;\n",
       "    }\n",
       "\n",
       "    .dataframe tbody tr th {\n",
       "        vertical-align: top;\n",
       "    }\n",
       "\n",
       "    .dataframe thead th {\n",
       "        text-align: right;\n",
       "    }\n",
       "</style>\n",
       "<table border=\"1\" class=\"dataframe\">\n",
       "  <thead>\n",
       "    <tr style=\"text-align: right;\">\n",
       "      <th></th>\n",
       "      <th>Open</th>\n",
       "      <th>High</th>\n",
       "      <th>Low</th>\n",
       "      <th>Close</th>\n",
       "      <th>Volume</th>\n",
       "      <th>Market Cap</th>\n",
       "    </tr>\n",
       "  </thead>\n",
       "  <tbody>\n",
       "    <tr>\n",
       "      <td>count</td>\n",
       "      <td>1760.000000</td>\n",
       "      <td>1760.000000</td>\n",
       "      <td>1760.000000</td>\n",
       "      <td>1760.000000</td>\n",
       "      <td>1.760000e+03</td>\n",
       "      <td>1.760000e+03</td>\n",
       "    </tr>\n",
       "    <tr>\n",
       "      <td>mean</td>\n",
       "      <td>1479.574239</td>\n",
       "      <td>1536.991108</td>\n",
       "      <td>1418.251273</td>\n",
       "      <td>1485.747000</td>\n",
       "      <td>8.578610e+08</td>\n",
       "      <td>2.381454e+10</td>\n",
       "    </tr>\n",
       "    <tr>\n",
       "      <td>std</td>\n",
       "      <td>2950.457188</td>\n",
       "      <td>3092.950362</td>\n",
       "      <td>2780.859459</td>\n",
       "      <td>2959.265478</td>\n",
       "      <td>2.796295e+09</td>\n",
       "      <td>4.971185e+10</td>\n",
       "    </tr>\n",
       "    <tr>\n",
       "      <td>min</td>\n",
       "      <td>68.500000</td>\n",
       "      <td>74.560000</td>\n",
       "      <td>65.530000</td>\n",
       "      <td>68.430000</td>\n",
       "      <td>0.000000e+00</td>\n",
       "      <td>7.792550e+08</td>\n",
       "    </tr>\n",
       "    <tr>\n",
       "      <td>25%</td>\n",
       "      <td>274.730000</td>\n",
       "      <td>279.857500</td>\n",
       "      <td>268.640000</td>\n",
       "      <td>274.875000</td>\n",
       "      <td>1.639130e+07</td>\n",
       "      <td>3.890228e+09</td>\n",
       "    </tr>\n",
       "    <tr>\n",
       "      <td>50%</td>\n",
       "      <td>480.715000</td>\n",
       "      <td>495.195000</td>\n",
       "      <td>472.510000</td>\n",
       "      <td>482.810000</td>\n",
       "      <td>4.380440e+07</td>\n",
       "      <td>6.840475e+09</td>\n",
       "    </tr>\n",
       "    <tr>\n",
       "      <td>75%</td>\n",
       "      <td>870.085000</td>\n",
       "      <td>900.222500</td>\n",
       "      <td>831.682500</td>\n",
       "      <td>871.370000</td>\n",
       "      <td>1.320840e+08</td>\n",
       "      <td>1.250202e+10</td>\n",
       "    </tr>\n",
       "    <tr>\n",
       "      <td>max</td>\n",
       "      <td>19475.800000</td>\n",
       "      <td>20089.000000</td>\n",
       "      <td>18974.100000</td>\n",
       "      <td>19497.400000</td>\n",
       "      <td>2.384090e+10</td>\n",
       "      <td>3.261410e+11</td>\n",
       "    </tr>\n",
       "  </tbody>\n",
       "</table>\n",
       "</div>"
      ],
      "text/plain": [
       "               Open          High           Low         Close        Volume  \\\n",
       "count   1760.000000   1760.000000   1760.000000   1760.000000  1.760000e+03   \n",
       "mean    1479.574239   1536.991108   1418.251273   1485.747000  8.578610e+08   \n",
       "std     2950.457188   3092.950362   2780.859459   2959.265478  2.796295e+09   \n",
       "min       68.500000     74.560000     65.530000     68.430000  0.000000e+00   \n",
       "25%      274.730000    279.857500    268.640000    274.875000  1.639130e+07   \n",
       "50%      480.715000    495.195000    472.510000    482.810000  4.380440e+07   \n",
       "75%      870.085000    900.222500    831.682500    871.370000  1.320840e+08   \n",
       "max    19475.800000  20089.000000  18974.100000  19497.400000  2.384090e+10   \n",
       "\n",
       "         Market Cap  \n",
       "count  1.760000e+03  \n",
       "mean   2.381454e+10  \n",
       "std    4.971185e+10  \n",
       "min    7.792550e+08  \n",
       "25%    3.890228e+09  \n",
       "50%    6.840475e+09  \n",
       "75%    1.250202e+10  \n",
       "max    3.261410e+11  "
      ]
     },
     "execution_count": 18,
     "metadata": {},
     "output_type": "execute_result"
    }
   ],
   "source": [
    "bitcoin_price.describe()"
   ]
  },
  {
   "cell_type": "code",
   "execution_count": 19,
   "metadata": {},
   "outputs": [
    {
     "data": {
      "text/plain": [
       "dtype('float64')"
      ]
     },
     "execution_count": 19,
     "metadata": {},
     "output_type": "execute_result"
    }
   ],
   "source": [
    "bitcoin_price.High.dtype"
   ]
  },
  {
   "cell_type": "code",
   "execution_count": 20,
   "metadata": {},
   "outputs": [
    {
     "data": {
      "text/plain": [
       "dtype('float64')"
      ]
     },
     "execution_count": 20,
     "metadata": {},
     "output_type": "execute_result"
    }
   ],
   "source": [
    "bitcoin_price.Volume.dtype"
   ]
  },
  {
   "cell_type": "code",
   "execution_count": 21,
   "metadata": {},
   "outputs": [
    {
     "data": {
      "text/plain": [
       "[<matplotlib.lines.Line2D at 0x1ed33a7de88>]"
      ]
     },
     "execution_count": 21,
     "metadata": {},
     "output_type": "execute_result"
    },
    {
     "data": {
      "image/png": "[encoded data removed]",
      "text/plain": [
       "<Figure size 432x288 with 1 Axes>"
      ]
     },
     "metadata": {
      "needs_background": "light"
     },
     "output_type": "display_data"
    }
   ],
   "source": [
    "plt.plot(bitcoin_price.Open, color='blue')\n",
    "plt.plot(bitcoin_price.Close, color='red')\n",
    "plt.plot(bitcoin_price.High, color = 'green')"
   ]
  },
  {
   "cell_type": "code",
   "execution_count": 121,
   "metadata": {},
   "outputs": [
    {
     "data": {
      "text/plain": [
       "<matplotlib.axes._subplots.AxesSubplot at 0x273f56ee4c8>"
      ]
     },
     "execution_count": 121,
     "metadata": {},
     "output_type": "execute_result"
    },
    {
     "data": {
      "image/png": "[encoded data removed]",
      "text/plain": [
       "<Figure size 432x288 with 1 Axes>"
      ]
     },
     "metadata": {
      "needs_background": "light"
     },
     "output_type": "display_data"
    }
   ],
   "source": [
    "sns.boxplot(bitcoin_price.High)"
   ]
  },
  {
   "cell_type": "code",
   "execution_count": 122,
   "metadata": {},
   "outputs": [
    {
     "data": {
      "text/plain": [
       "<matplotlib.axes._subplots.AxesSubplot at 0x273f575d408>"
      ]
     },
     "execution_count": 122,
     "metadata": {},
     "output_type": "execute_result"
    },
    {
     "data": {
      "image/png": "[encoded data removed]",
      "text/plain": [
       "<Figure size 432x288 with 1 Axes>"
      ]
     },
     "metadata": {
      "needs_background": "light"
     },
     "output_type": "display_data"
    }
   ],
   "source": [
    "sns.boxplot(bitcoin_price.Low)"
   ]
  },
  {
   "cell_type": "code",
   "execution_count": 22,
   "metadata": {},
   "outputs": [
    {
     "data": {
      "text/html": [
       "<div>\n",
       "<style scoped>\n",
       "    .dataframe tbody tr th:only-of-type {\n",
       "        vertical-align: middle;\n",
       "    }\n",
       "\n",
       "    .dataframe tbody tr th {\n",
       "        vertical-align: top;\n",
       "    }\n",
       "\n",
       "    .dataframe thead th {\n",
       "        text-align: right;\n",
       "    }\n",
       "</style>\n",
       "<table border=\"1\" class=\"dataframe\">\n",
       "  <thead>\n",
       "    <tr style=\"text-align: right;\">\n",
       "      <th></th>\n",
       "      <th>Date</th>\n",
       "      <th>High</th>\n",
       "    </tr>\n",
       "    <tr>\n",
       "      <th>Date</th>\n",
       "      <th></th>\n",
       "      <th></th>\n",
       "    </tr>\n",
       "  </thead>\n",
       "  <tbody>\n",
       "    <tr>\n",
       "      <td>2013-04-28</td>\n",
       "      <td>2013-04-28</td>\n",
       "      <td>135.98</td>\n",
       "    </tr>\n",
       "    <tr>\n",
       "      <td>2013-04-29</td>\n",
       "      <td>2013-04-29</td>\n",
       "      <td>147.49</td>\n",
       "    </tr>\n",
       "    <tr>\n",
       "      <td>2013-04-30</td>\n",
       "      <td>2013-04-30</td>\n",
       "      <td>146.93</td>\n",
       "    </tr>\n",
       "    <tr>\n",
       "      <td>2013-05-01</td>\n",
       "      <td>2013-05-01</td>\n",
       "      <td>139.89</td>\n",
       "    </tr>\n",
       "    <tr>\n",
       "      <td>2013-05-02</td>\n",
       "      <td>2013-05-02</td>\n",
       "      <td>125.60</td>\n",
       "    </tr>\n",
       "  </tbody>\n",
       "</table>\n",
       "</div>"
      ],
      "text/plain": [
       "                 Date    High\n",
       "Date                         \n",
       "2013-04-28 2013-04-28  135.98\n",
       "2013-04-29 2013-04-29  147.49\n",
       "2013-04-30 2013-04-30  146.93\n",
       "2013-05-01 2013-05-01  139.89\n",
       "2013-05-02 2013-05-02  125.60"
      ]
     },
     "execution_count": 22,
     "metadata": {},
     "output_type": "execute_result"
    }
   ],
   "source": [
    "bitcoin_price_high = bitcoin_price.iloc[:,[0,2]]\n",
    "bitcoin_naive = bitcoin_price_high.copy()\n",
    "bitcoin_price_high.index = bitcoin_price_high.Date\n",
    "bitcoin_price_high.head()"
   ]
  },
  {
   "cell_type": "code",
   "execution_count": 23,
   "metadata": {},
   "outputs": [
    {
     "data": {
      "text/html": [
       "<div>\n",
       "<style scoped>\n",
       "    .dataframe tbody tr th:only-of-type {\n",
       "        vertical-align: middle;\n",
       "    }\n",
       "\n",
       "    .dataframe tbody tr th {\n",
       "        vertical-align: top;\n",
       "    }\n",
       "\n",
       "    .dataframe thead th {\n",
       "        text-align: right;\n",
       "    }\n",
       "</style>\n",
       "<table border=\"1\" class=\"dataframe\">\n",
       "  <thead>\n",
       "    <tr style=\"text-align: right;\">\n",
       "      <th></th>\n",
       "      <th>Date</th>\n",
       "      <th>High</th>\n",
       "    </tr>\n",
       "    <tr>\n",
       "      <th>Date</th>\n",
       "      <th></th>\n",
       "      <th></th>\n",
       "    </tr>\n",
       "  </thead>\n",
       "  <tbody>\n",
       "    <tr>\n",
       "      <td>2018-02-16</td>\n",
       "      <td>2018-02-16</td>\n",
       "      <td>10324.1</td>\n",
       "    </tr>\n",
       "    <tr>\n",
       "      <td>2018-02-17</td>\n",
       "      <td>2018-02-17</td>\n",
       "      <td>11139.5</td>\n",
       "    </tr>\n",
       "    <tr>\n",
       "      <td>2018-02-18</td>\n",
       "      <td>2018-02-18</td>\n",
       "      <td>11349.8</td>\n",
       "    </tr>\n",
       "    <tr>\n",
       "      <td>2018-02-19</td>\n",
       "      <td>2018-02-19</td>\n",
       "      <td>11273.8</td>\n",
       "    </tr>\n",
       "    <tr>\n",
       "      <td>2018-02-20</td>\n",
       "      <td>2018-02-20</td>\n",
       "      <td>11958.5</td>\n",
       "    </tr>\n",
       "  </tbody>\n",
       "</table>\n",
       "</div>"
      ],
      "text/plain": [
       "                 Date     High\n",
       "Date                          \n",
       "2018-02-16 2018-02-16  10324.1\n",
       "2018-02-17 2018-02-17  11139.5\n",
       "2018-02-18 2018-02-18  11349.8\n",
       "2018-02-19 2018-02-19  11273.8\n",
       "2018-02-20 2018-02-20  11958.5"
      ]
     },
     "execution_count": 23,
     "metadata": {},
     "output_type": "execute_result"
    }
   ],
   "source": [
    "bitcoin_price_high.tail()"
   ]
  },
  {
   "cell_type": "code",
   "execution_count": 24,
   "metadata": {},
   "outputs": [
    {
     "name": "stderr",
     "output_type": "stream",
     "text": [
      "C:\\Users\\pravi\\Anaconda3\\lib\\site-packages\\pandas\\plotting\\_matplotlib\\converter.py:103: FutureWarning: Using an implicitly registered datetime converter for a matplotlib plotting method. The converter was registered by pandas on import. Future versions of pandas will require you to explicitly register matplotlib converters.\n",
      "\n",
      "To register the converters:\n",
      "\t>>> from pandas.plotting import register_matplotlib_converters\n",
      "\t>>> register_matplotlib_converters()\n",
      "  warnings.warn(msg, FutureWarning)\n"
     ]
    },
    {
     "data": {
      "text/plain": [
       "[<matplotlib.lines.Line2D at 0x1ed33b0c808>]"
      ]
     },
     "execution_count": 24,
     "metadata": {},
     "output_type": "execute_result"
    },
    {
     "data": {
      "image/png": "[encoded data removed]",
      "text/plain": [
       "<Figure size 432x288 with 1 Axes>"
      ]
     },
     "metadata": {
      "needs_background": "light"
     },
     "output_type": "display_data"
    }
   ],
   "source": [
    "plt.plot(bitcoin_price_high.High)"
   ]
  },
  {
   "cell_type": "code",
   "execution_count": 25,
   "metadata": {},
   "outputs": [
    {
     "name": "stderr",
     "output_type": "stream",
     "text": [
      "C:\\Users\\pravi\\Anaconda3\\lib\\site-packages\\ipykernel_launcher.py:2: SettingWithCopyWarning: \n",
      "A value is trying to be set on a copy of a slice from a DataFrame.\n",
      "Try using .loc[row_indexer,col_indexer] = value instead\n",
      "\n",
      "See the caveats in the documentation: http://pandas.pydata.org/pandas-docs/stable/user_guide/indexing.html#returning-a-view-versus-a-copy\n",
      "  \n"
     ]
    },
    {
     "data": {
      "text/html": [
       "<div>\n",
       "<style scoped>\n",
       "    .dataframe tbody tr th:only-of-type {\n",
       "        vertical-align: middle;\n",
       "    }\n",
       "\n",
       "    .dataframe tbody tr th {\n",
       "        vertical-align: top;\n",
       "    }\n",
       "\n",
       "    .dataframe thead th {\n",
       "        text-align: right;\n",
       "    }\n",
       "</style>\n",
       "<table border=\"1\" class=\"dataframe\">\n",
       "  <thead>\n",
       "    <tr style=\"text-align: right;\">\n",
       "      <th></th>\n",
       "      <th>Date</th>\n",
       "      <th>High</th>\n",
       "      <th>Lag1</th>\n",
       "    </tr>\n",
       "    <tr>\n",
       "      <th>Date</th>\n",
       "      <th></th>\n",
       "      <th></th>\n",
       "      <th></th>\n",
       "    </tr>\n",
       "  </thead>\n",
       "  <tbody>\n",
       "    <tr>\n",
       "      <td>2013-04-28</td>\n",
       "      <td>2013-04-28</td>\n",
       "      <td>135.98</td>\n",
       "      <td>NaN</td>\n",
       "    </tr>\n",
       "    <tr>\n",
       "      <td>2013-04-29</td>\n",
       "      <td>2013-04-29</td>\n",
       "      <td>147.49</td>\n",
       "      <td>135.98</td>\n",
       "    </tr>\n",
       "    <tr>\n",
       "      <td>2013-04-30</td>\n",
       "      <td>2013-04-30</td>\n",
       "      <td>146.93</td>\n",
       "      <td>147.49</td>\n",
       "    </tr>\n",
       "    <tr>\n",
       "      <td>2013-05-01</td>\n",
       "      <td>2013-05-01</td>\n",
       "      <td>139.89</td>\n",
       "      <td>146.93</td>\n",
       "    </tr>\n",
       "    <tr>\n",
       "      <td>2013-05-02</td>\n",
       "      <td>2013-05-02</td>\n",
       "      <td>125.60</td>\n",
       "      <td>139.89</td>\n",
       "    </tr>\n",
       "  </tbody>\n",
       "</table>\n",
       "</div>"
      ],
      "text/plain": [
       "                 Date    High    Lag1\n",
       "Date                                 \n",
       "2013-04-28 2013-04-28  135.98     NaN\n",
       "2013-04-29 2013-04-29  147.49  135.98\n",
       "2013-04-30 2013-04-30  146.93  147.49\n",
       "2013-05-01 2013-05-01  139.89  146.93\n",
       "2013-05-02 2013-05-02  125.60  139.89"
      ]
     },
     "execution_count": 25,
     "metadata": {},
     "output_type": "execute_result"
    }
   ],
   "source": [
    "# Lets create Lag1 Variable - This Variable is Used in Naive (Persistence) Model\n",
    "bitcoin_price_high['Lag1'] = bitcoin_price_high.High.shift(1)\n",
    "bitcoin_price_high.head()"
   ]
  },
  {
   "cell_type": "code",
   "execution_count": 26,
   "metadata": {},
   "outputs": [
    {
     "data": {
      "text/plain": [
       "[<matplotlib.lines.Line2D at 0x1ed33abbc48>]"
      ]
     },
     "execution_count": 26,
     "metadata": {},
     "output_type": "execute_result"
    },
    {
     "data": {
      "image/png": "[encoded data removed]",
      "text/plain": [
       "<Figure size 432x288 with 1 Axes>"
      ]
     },
     "metadata": {
      "needs_background": "light"
     },
     "output_type": "display_data"
    }
   ],
   "source": [
    "plt.plot(bitcoin_price_high.Lag1)"
   ]
  },
  {
   "cell_type": "code",
   "execution_count": 27,
   "metadata": {},
   "outputs": [
    {
     "name": "stderr",
     "output_type": "stream",
     "text": [
      "C:\\Users\\pravi\\Anaconda3\\lib\\site-packages\\ipykernel_launcher.py:1: SettingWithCopyWarning: \n",
      "A value is trying to be set on a copy of a slice from a DataFrame.\n",
      "Try using .loc[row_indexer,col_indexer] = value instead\n",
      "\n",
      "See the caveats in the documentation: http://pandas.pydata.org/pandas-docs/stable/user_guide/indexing.html#returning-a-view-versus-a-copy\n",
      "  \"\"\"Entry point for launching an IPython kernel.\n"
     ]
    },
    {
     "data": {
      "text/html": [
       "<div>\n",
       "<style scoped>\n",
       "    .dataframe tbody tr th:only-of-type {\n",
       "        vertical-align: middle;\n",
       "    }\n",
       "\n",
       "    .dataframe tbody tr th {\n",
       "        vertical-align: top;\n",
       "    }\n",
       "\n",
       "    .dataframe thead th {\n",
       "        text-align: right;\n",
       "    }\n",
       "</style>\n",
       "<table border=\"1\" class=\"dataframe\">\n",
       "  <thead>\n",
       "    <tr style=\"text-align: right;\">\n",
       "      <th></th>\n",
       "      <th>Date</th>\n",
       "      <th>High</th>\n",
       "      <th>Lag1</th>\n",
       "      <th>High_Diff_1</th>\n",
       "    </tr>\n",
       "    <tr>\n",
       "      <th>Date</th>\n",
       "      <th></th>\n",
       "      <th></th>\n",
       "      <th></th>\n",
       "      <th></th>\n",
       "    </tr>\n",
       "  </thead>\n",
       "  <tbody>\n",
       "    <tr>\n",
       "      <td>2013-04-28</td>\n",
       "      <td>2013-04-28</td>\n",
       "      <td>135.98</td>\n",
       "      <td>NaN</td>\n",
       "      <td>NaN</td>\n",
       "    </tr>\n",
       "    <tr>\n",
       "      <td>2013-04-29</td>\n",
       "      <td>2013-04-29</td>\n",
       "      <td>147.49</td>\n",
       "      <td>135.98</td>\n",
       "      <td>11.51</td>\n",
       "    </tr>\n",
       "    <tr>\n",
       "      <td>2013-04-30</td>\n",
       "      <td>2013-04-30</td>\n",
       "      <td>146.93</td>\n",
       "      <td>147.49</td>\n",
       "      <td>-0.56</td>\n",
       "    </tr>\n",
       "    <tr>\n",
       "      <td>2013-05-01</td>\n",
       "      <td>2013-05-01</td>\n",
       "      <td>139.89</td>\n",
       "      <td>146.93</td>\n",
       "      <td>-7.04</td>\n",
       "    </tr>\n",
       "    <tr>\n",
       "      <td>2013-05-02</td>\n",
       "      <td>2013-05-02</td>\n",
       "      <td>125.60</td>\n",
       "      <td>139.89</td>\n",
       "      <td>-14.29</td>\n",
       "    </tr>\n",
       "  </tbody>\n",
       "</table>\n",
       "</div>"
      ],
      "text/plain": [
       "                 Date    High    Lag1  High_Diff_1\n",
       "Date                                              \n",
       "2013-04-28 2013-04-28  135.98     NaN          NaN\n",
       "2013-04-29 2013-04-29  147.49  135.98        11.51\n",
       "2013-04-30 2013-04-30  146.93  147.49        -0.56\n",
       "2013-05-01 2013-05-01  139.89  146.93        -7.04\n",
       "2013-05-02 2013-05-02  125.60  139.89       -14.29"
      ]
     },
     "execution_count": 27,
     "metadata": {},
     "output_type": "execute_result"
    }
   ],
   "source": [
    "bitcoin_price_high['High_Diff_1'] = bitcoin_price_high.High.diff(periods = 1)\n",
    "bitcoin_price_high.head()"
   ]
  },
  {
   "cell_type": "code",
   "execution_count": 28,
   "metadata": {},
   "outputs": [
    {
     "data": {
      "image/png": "[encoded data removed]",
      "text/plain": [
       "<Figure size 432x288 with 4 Axes>"
      ]
     },
     "execution_count": 28,
     "metadata": {},
     "output_type": "execute_result"
    },
    {
     "data": {
      "image/png": "[encoded data removed]",
      "text/plain": [
       "<Figure size 432x288 with 4 Axes>"
      ]
     },
     "metadata": {
      "needs_background": "light"
     },
     "output_type": "display_data"
    }
   ],
   "source": [
    "# Lets Decompose and See the Trend and Seasonality\n",
    "result = seasonal_decompose(bitcoin_price_high.High, model = 'additive')\n",
    "result.plot()"
   ]
  },
  {
   "cell_type": "code",
   "execution_count": 25,
   "metadata": {},
   "outputs": [],
   "source": [
    "# Here we can see that the Data has a potential trend but no Seasonality"
   ]
  },
  {
   "cell_type": "code",
   "execution_count": 29,
   "metadata": {},
   "outputs": [
    {
     "data": {
      "image/png": "[encoded data removed]",
      "text/plain": [
       "<Figure size 432x288 with 4 Axes>"
      ]
     },
     "execution_count": 29,
     "metadata": {},
     "output_type": "execute_result"
    },
    {
     "data": {
      "image/png": "[encoded data removed]",
      "text/plain": [
       "<Figure size 432x288 with 4 Axes>"
      ]
     },
     "metadata": {
      "needs_background": "light"
     },
     "output_type": "display_data"
    }
   ],
   "source": [
    "result2 = seasonal_decompose(bitcoin_price_high.iloc[1:,3], model='additive')\n",
    "result2.plot()"
   ]
  },
  {
   "cell_type": "code",
   "execution_count": 26,
   "metadata": {},
   "outputs": [],
   "source": [
    "# Now we see that there is no trend."
   ]
  },
  {
   "cell_type": "code",
   "execution_count": 30,
   "metadata": {},
   "outputs": [
    {
     "data": {
      "text/plain": [
       "<matplotlib.axes._subplots.AxesSubplot at 0x1ed3416c288>"
      ]
     },
     "execution_count": 30,
     "metadata": {},
     "output_type": "execute_result"
    },
    {
     "data": {
      "image/png": "[encoded data removed]",
      "text/plain": [
       "<Figure size 432x288 with 1 Axes>"
      ]
     },
     "metadata": {
      "needs_background": "light"
     },
     "output_type": "display_data"
    }
   ],
   "source": [
    "bitcoin_price_high.High.plot()\n",
    "bitcoin_price_high.High_Diff_1.plot(color='red')"
   ]
  },
  {
   "cell_type": "code",
   "execution_count": 31,
   "metadata": {},
   "outputs": [
    {
     "data": {
      "text/html": [
       "<div>\n",
       "<style scoped>\n",
       "    .dataframe tbody tr th:only-of-type {\n",
       "        vertical-align: middle;\n",
       "    }\n",
       "\n",
       "    .dataframe tbody tr th {\n",
       "        vertical-align: top;\n",
       "    }\n",
       "\n",
       "    .dataframe thead th {\n",
       "        text-align: right;\n",
       "    }\n",
       "</style>\n",
       "<table border=\"1\" class=\"dataframe\">\n",
       "  <thead>\n",
       "    <tr style=\"text-align: right;\">\n",
       "      <th></th>\n",
       "      <th>Date</th>\n",
       "      <th>High</th>\n",
       "    </tr>\n",
       "  </thead>\n",
       "  <tbody>\n",
       "    <tr>\n",
       "      <td>0</td>\n",
       "      <td>2013-04-28</td>\n",
       "      <td>135.98</td>\n",
       "    </tr>\n",
       "    <tr>\n",
       "      <td>1</td>\n",
       "      <td>2013-04-29</td>\n",
       "      <td>147.49</td>\n",
       "    </tr>\n",
       "    <tr>\n",
       "      <td>2</td>\n",
       "      <td>2013-04-30</td>\n",
       "      <td>146.93</td>\n",
       "    </tr>\n",
       "    <tr>\n",
       "      <td>3</td>\n",
       "      <td>2013-05-01</td>\n",
       "      <td>139.89</td>\n",
       "    </tr>\n",
       "    <tr>\n",
       "      <td>4</td>\n",
       "      <td>2013-05-02</td>\n",
       "      <td>125.60</td>\n",
       "    </tr>\n",
       "  </tbody>\n",
       "</table>\n",
       "</div>"
      ],
      "text/plain": [
       "        Date    High\n",
       "0 2013-04-28  135.98\n",
       "1 2013-04-29  147.49\n",
       "2 2013-04-30  146.93\n",
       "3 2013-05-01  139.89\n",
       "4 2013-05-02  125.60"
      ]
     },
     "execution_count": 31,
     "metadata": {},
     "output_type": "execute_result"
    }
   ],
   "source": [
    "bitcoin_naive = bitcoin_price.iloc[:,[0,2]]\n",
    "bitcoin_naive.head()"
   ]
  },
  {
   "cell_type": "code",
   "execution_count": 32,
   "metadata": {},
   "outputs": [
    {
     "name": "stderr",
     "output_type": "stream",
     "text": [
      "C:\\Users\\pravi\\Anaconda3\\lib\\site-packages\\ipykernel_launcher.py:1: SettingWithCopyWarning: \n",
      "A value is trying to be set on a copy of a slice from a DataFrame.\n",
      "Try using .loc[row_indexer,col_indexer] = value instead\n",
      "\n",
      "See the caveats in the documentation: http://pandas.pydata.org/pandas-docs/stable/user_guide/indexing.html#returning-a-view-versus-a-copy\n",
      "  \"\"\"Entry point for launching an IPython kernel.\n"
     ]
    },
    {
     "data": {
      "text/plain": [
       "(        Date    High    Lag1\n",
       " 0 2013-04-28  135.98     NaN\n",
       " 1 2013-04-29  147.49  135.98\n",
       " 2 2013-04-30  146.93  147.49\n",
       " 3 2013-05-01  139.89  146.93\n",
       " 4 2013-05-02  125.60  139.89,            Date     High     Lag1\n",
       " 1755 2018-02-16  10324.1  10234.8\n",
       " 1756 2018-02-17  11139.5  10324.1\n",
       " 1757 2018-02-18  11349.8  11139.5\n",
       " 1758 2018-02-19  11273.8  11349.8\n",
       " 1759 2018-02-20  11958.5  11273.8)"
      ]
     },
     "execution_count": 32,
     "metadata": {},
     "output_type": "execute_result"
    }
   ],
   "source": [
    "bitcoin_naive['Lag1'] = bitcoin_naive.High.shift(1)\n",
    "bitcoin_naive.head(),bitcoin_naive.tail()"
   ]
  },
  {
   "cell_type": "code",
   "execution_count": 33,
   "metadata": {},
   "outputs": [
    {
     "name": "stdout",
     "output_type": "stream",
     "text": [
      "        Date    High    Lag1\n",
      "1 2013-04-29  147.49  135.98\n",
      "2 2013-04-30  146.93  147.49\n",
      "3 2013-05-01  139.89  146.93\n",
      "4 2013-05-02  125.60  139.89\n",
      "5 2013-05-03  108.13  125.60\n",
      "           Date     High     Lag1\n",
      "1584 2017-08-29  4625.68  4403.93\n",
      "1585 2017-08-30  4626.52  4625.68\n",
      "1586 2017-08-31  4736.05  4626.52\n",
      "1587 2017-09-01  4892.01  4736.05\n",
      "1588 2017-09-02  4975.04  4892.01\n"
     ]
    },
    {
     "data": {
      "text/plain": [
       "(None, None)"
      ]
     },
     "execution_count": 33,
     "metadata": {},
     "output_type": "execute_result"
    }
   ],
   "source": [
    "# Lets Divide the Data into Test and Train to check the Accuracy of the Naive(persistence) model.\n",
    "# We will Consider the Orginal Observation and the Lagged Observation\n",
    "train_size = int(len(bitcoin_naive)*0.90)\n",
    "train = bitcoin_naive[1:train_size]\n",
    "test = bitcoin_naive[train_size:]\n",
    "print(train.head()), print(test.head())"
   ]
  },
  {
   "cell_type": "code",
   "execution_count": 34,
   "metadata": {},
   "outputs": [
    {
     "data": {
      "text/plain": [
       "176"
      ]
     },
     "execution_count": 34,
     "metadata": {},
     "output_type": "execute_result"
    }
   ],
   "source": [
    "len(test)"
   ]
  },
  {
   "cell_type": "code",
   "execution_count": 35,
   "metadata": {},
   "outputs": [],
   "source": [
    "train_x, train_y = train.Lag1, train.High\n",
    "test_x, test_y = test.Lag1, test.High"
   ]
  },
  {
   "cell_type": "code",
   "execution_count": 36,
   "metadata": {},
   "outputs": [],
   "source": [
    "prediction = test_x.copy()"
   ]
  },
  {
   "cell_type": "code",
   "execution_count": 37,
   "metadata": {},
   "outputs": [
    {
     "data": {
      "text/plain": [
       "408403.742786932"
      ]
     },
     "execution_count": 37,
     "metadata": {},
     "output_type": "execute_result"
    }
   ],
   "source": [
    "# Mean Squared error\n",
    "mse = mean_squared_error(prediction, test_y)\n",
    "mse"
   ]
  },
  {
   "cell_type": "code",
   "execution_count": 38,
   "metadata": {},
   "outputs": [
    {
     "data": {
      "text/plain": [
       "[<matplotlib.lines.Line2D at 0x1ed35268808>]"
      ]
     },
     "execution_count": 38,
     "metadata": {},
     "output_type": "execute_result"
    },
    {
     "data": {
      "image/png": "[encoded data removed]",
      "text/plain": [
       "<Figure size 432x288 with 1 Axes>"
      ]
     },
     "metadata": {
      "needs_background": "light"
     },
     "output_type": "display_data"
    }
   ],
   "source": [
    "plt.plot(test_y)\n",
    "plt.plot(prediction, color='red')"
   ]
  },
  {
   "cell_type": "code",
   "execution_count": 79,
   "metadata": {},
   "outputs": [],
   "source": [
    "# The Mean Squared Error of the Naive Persistence Model is 209868.2541491478\n",
    "# Lets build Different Advanced Models"
   ]
  },
  {
   "cell_type": "markdown",
   "metadata": {},
   "source": [
    "## Lets build an Auto Regression Model"
   ]
  },
  {
   "cell_type": "code",
   "execution_count": 39,
   "metadata": {},
   "outputs": [
    {
     "data": {
      "text/plain": [
       "0    135.98\n",
       "1    147.49\n",
       "2    146.93\n",
       "3    139.89\n",
       "4    125.60\n",
       "Name: High, dtype: float64"
      ]
     },
     "execution_count": 39,
     "metadata": {},
     "output_type": "execute_result"
    }
   ],
   "source": [
    "bitcoin_high_AR = bitcoin_naive['High']\n",
    "bitcoin_high_AR.head()"
   ]
  },
  {
   "cell_type": "code",
   "execution_count": 40,
   "metadata": {},
   "outputs": [],
   "source": [
    "AR_train, AR_test = bitcoin_high_AR.iloc[0:train_size], bitcoin_high_AR[train_size:]"
   ]
  },
  {
   "cell_type": "code",
   "execution_count": 41,
   "metadata": {},
   "outputs": [],
   "source": [
    "bitcoin_AR_Model = AR(AR_train)"
   ]
  },
  {
   "cell_type": "code",
   "execution_count": 42,
   "metadata": {},
   "outputs": [],
   "source": [
    "bitcoin_AR_Model_fit = bitcoin_AR_Model.fit()"
   ]
  },
  {
   "cell_type": "markdown",
   "metadata": {},
   "source": [
    "* No of Lagged Variables"
   ]
  },
  {
   "cell_type": "code",
   "execution_count": 43,
   "metadata": {},
   "outputs": [
    {
     "data": {
      "text/plain": [
       "24"
      ]
     },
     "execution_count": 43,
     "metadata": {},
     "output_type": "execute_result"
    }
   ],
   "source": [
    "bitcoin_AR_Model_fit.k_ar"
   ]
  },
  {
   "cell_type": "markdown",
   "metadata": {},
   "source": [
    "* To get the Coefficients of the Lagged Variables."
   ]
  },
  {
   "cell_type": "code",
   "execution_count": 44,
   "metadata": {},
   "outputs": [
    {
     "data": {
      "text/plain": [
       "const      -1.399345\n",
       "L1.High     1.114191\n",
       "L2.High    -0.133582\n",
       "L3.High     0.067437\n",
       "L4.High    -0.084618\n",
       "L5.High     0.040497\n",
       "L6.High    -0.045982\n",
       "L7.High     0.065076\n",
       "L8.High     0.089965\n",
       "L9.High    -0.254149\n",
       "L10.High    0.108024\n",
       "L11.High    0.163700\n",
       "L12.High   -0.163336\n",
       "L13.High    0.071140\n",
       "L14.High   -0.014063\n",
       "L15.High   -0.025824\n",
       "L16.High    0.097957\n",
       "L17.High    0.015387\n",
       "L18.High   -0.070640\n",
       "L19.High   -0.129753\n",
       "L20.High    0.088543\n",
       "L21.High   -0.076248\n",
       "L22.High    0.032443\n",
       "L23.High    0.094343\n",
       "L24.High   -0.044935\n",
       "dtype: float64"
      ]
     },
     "execution_count": 44,
     "metadata": {},
     "output_type": "execute_result"
    }
   ],
   "source": [
    "bitcoin_AR_Model_fit.params"
   ]
  },
  {
   "cell_type": "code",
   "execution_count": 45,
   "metadata": {},
   "outputs": [],
   "source": [
    "bitcoin_AR_Predictions = bitcoin_AR_Model_fit.predict(start=len(train), end=len(train)+len(test)-1)"
   ]
  },
  {
   "cell_type": "code",
   "execution_count": 46,
   "metadata": {},
   "outputs": [
    {
     "name": "stdout",
     "output_type": "stream",
     "text": [
      "1583    4543.716709\n",
      "1584    4441.155144\n",
      "1585    4508.002064\n",
      "1586    4557.499156\n",
      "1587    4532.294493\n",
      "dtype: float64\n",
      "1584    4625.68\n",
      "1585    4626.52\n",
      "1586    4736.05\n",
      "1587    4892.01\n",
      "1588    4975.04\n",
      "Name: High, dtype: float64\n",
      "1754    12617.774686\n",
      "1755    12698.560506\n",
      "1756    12779.874309\n",
      "1757    12861.720125\n",
      "1758    12944.101313\n",
      "dtype: float64\n",
      "1755    10324.1\n",
      "1756    11139.5\n",
      "1757    11349.8\n",
      "1758    11273.8\n",
      "1759    11958.5\n",
      "Name: High, dtype: float64\n"
     ]
    }
   ],
   "source": [
    "# These are the Pedicted Values for Test Set\n",
    "print(bitcoin_AR_Predictions.head())\n",
    "print(AR_test.head())\n",
    "print(bitcoin_AR_Predictions.tail())\n",
    "print(AR_test.tail())"
   ]
  },
  {
   "cell_type": "code",
   "execution_count": 47,
   "metadata": {},
   "outputs": [
    {
     "data": {
      "text/plain": [
       "15502279.172641557"
      ]
     },
     "execution_count": 47,
     "metadata": {},
     "output_type": "execute_result"
    }
   ],
   "source": [
    "bitcoin_AR_mse = mean_squared_error(bitcoin_AR_Predictions, AR_test)\n",
    "bitcoin_AR_mse"
   ]
  },
  {
   "cell_type": "code",
   "execution_count": 48,
   "metadata": {},
   "outputs": [
    {
     "data": {
      "text/plain": [
       "[<matplotlib.lines.Line2D at 0x1ed352e8788>]"
      ]
     },
     "execution_count": 48,
     "metadata": {},
     "output_type": "execute_result"
    },
    {
     "data": {
      "image/png": "[encoded data removed]",
      "text/plain": [
       "<Figure size 432x288 with 1 Axes>"
      ]
     },
     "metadata": {
      "needs_background": "light"
     },
     "output_type": "display_data"
    }
   ],
   "source": [
    "plt.plot(AR_test)\n",
    "plt.plot(bitcoin_AR_Predictions, color='red')"
   ]
  },
  {
   "cell_type": "markdown",
   "metadata": {},
   "source": [
    "### Lets Try Walk Forward method for AR model"
   ]
  },
  {
   "cell_type": "code",
   "execution_count": 49,
   "metadata": {},
   "outputs": [
    {
     "name": "stdout",
     "output_type": "stream",
     "text": [
      "4441.155143674932\n",
      "4724.486413358802\n",
      "4670.928481702901\n",
      "4726.7410351477465\n",
      "4882.534470746809\n",
      "4976.3087842645755\n",
      "4692.869896595211\n",
      "4560.808289450072\n",
      "4421.733057293529\n",
      "4646.143176048106\n",
      "4708.688502894999\n",
      "4785.81210174421\n",
      "4299.281817453512\n",
      "4232.004574684107\n",
      "4340.532218421868\n",
      "4366.428990635485\n",
      "4162.55646494646\n",
      "3887.1450807903243\n",
      "3756.6814715005576\n",
      "3806.6311572953705\n",
      "3689.8530980754576\n",
      "4074.610558521665\n",
      "4040.3777125378006\n",
      "3893.742620000512\n",
      "3943.307317540676\n",
      "3720.9908412442874\n",
      "3934.190763887083\n",
      "3712.7675514207826\n",
      "4035.375151473062\n",
      "3860.4506808838382\n",
      "4207.637782602195\n",
      "4316.053021091287\n",
      "4195.53054677806\n",
      "4372.4027171429325\n",
      "4457.279780205131\n",
      "4479.357685829379\n",
      "4468.646905223225\n",
      "4448.068576065206\n",
      "4438.764395587627\n",
      "4415.919911706313\n",
      "4499.91759089976\n",
      "4615.165460783379\n",
      "4861.184635694581\n",
      "4943.102018657828\n",
      "4883.587491039321\n",
      "5595.362466485616\n",
      "5989.666416048597\n",
      "5866.972638657082\n",
      "5891.418525319675\n",
      "5822.791136773743\n",
      "5802.824988785653\n",
      "5570.8262223989195\n",
      "5871.0343167044\n",
      "6070.513552446128\n",
      "6166.697828199077\n",
      "6130.2988264698115\n",
      "6179.542437136879\n",
      "5979.281620926246\n",
      "5781.227470462642\n",
      "6126.860407561442\n",
      "6043.123040621566\n",
      "5876.654421908611\n",
      "6333.896294476991\n",
      "6202.352332758789\n",
      "6510.324196694253\n",
      "6799.4551616608\n",
      "7457.987164920074\n",
      "7386.411041010202\n",
      "7523.998601130897\n",
      "7798.162994201977\n",
      "7404.887117036796\n",
      "7280.1465244028695\n",
      "7993.422210868377\n",
      "7423.253592125264\n",
      "7261.197401409311\n",
      "6887.952494557059\n",
      "6555.680775376034\n",
      "6902.291955802057\n",
      "6912.614097485008\n",
      "7546.213039932259\n",
      "7954.9102108168045\n",
      "8298.188245930503\n",
      "7948.505521429082\n",
      "8255.25985339443\n",
      "8478.17726248656\n",
      "8445.367679188788\n",
      "8289.096583076713\n",
      "8055.315301576425\n",
      "8259.184857396302\n",
      "8847.430002303612\n",
      "9800.915733154088\n",
      "9960.659510460786\n",
      "10116.737335292397\n",
      "11865.29419120228\n",
      "10850.91743631726\n",
      "11332.3646748653\n",
      "11416.626071206298\n",
      "12065.844070274945\n",
      "11623.59698285717\n",
      "12329.795892370119\n",
      "14559.412673618439\n",
      "19416.3582344576\n",
      "19499.972106496047\n",
      "16399.802637860186\n",
      "16349.918558115347\n",
      "18720.60119150058\n",
      "17293.16979831934\n",
      "18383.24904465824\n",
      "18995.885291409497\n",
      "19164.80012686641\n",
      "21101.415630012263\n",
      "20288.062591290694\n",
      "20521.770905769932\n",
      "19315.185427114848\n",
      "16022.210643932242\n",
      "18302.651983758293\n",
      "16699.69265233427\n",
      "15763.121826752742\n",
      "14163.441340354539\n",
      "14835.631447038584\n",
      "19447.785605155837\n",
      "15403.046945776936\n",
      "13708.647403884239\n",
      "14633.820404947095\n",
      "15480.415699520361\n",
      "12979.683744872185\n",
      "14279.310921668048\n",
      "16392.78354495765\n",
      "16434.502943453168\n",
      "16829.93452623433\n",
      "19783.2488327643\n",
      "17695.520819068843\n",
      "17422.283828444393\n",
      "16332.950116202623\n",
      "15772.76543658998\n",
      "14537.892539176122\n",
      "15599.794506100907\n",
      "13769.629348895955\n",
      "15762.888894274085\n",
      "15203.957675355488\n",
      "13705.456228185263\n",
      "13792.69252043383\n",
      "9475.345383382622\n",
      "11731.717490908935\n",
      "11029.609710155637\n",
      "13240.280409769746\n",
      "12785.63040298323\n",
      "12906.129354298799\n",
      "11686.922346090812\n",
      "11902.46909761056\n",
      "11959.413118577304\n",
      "10849.51105489793\n",
      "11778.88609373911\n",
      "12110.810477124893\n",
      "11688.141773774041\n",
      "11092.066653138654\n",
      "10019.786970946332\n",
      "10622.314901939859\n",
      "9080.847213870567\n",
      "9198.458282254178\n",
      "9310.093645246094\n",
      "7567.455315385411\n",
      "7438.460894891648\n",
      "8733.014702713941\n",
      "8212.374743056685\n",
      "8143.8623613652435\n",
      "9076.687569024845\n",
      "8190.967420119091\n",
      "9133.773926960994\n",
      "8942.2450572371\n",
      "9697.387265197207\n",
      "10548.067555778855\n",
      "10754.685439731662\n",
      "11244.803285521659\n",
      "11401.305425562929\n",
      "11158.107976806596\n"
     ]
    },
    {
     "data": {
      "text/plain": [
       "176"
      ]
     },
     "execution_count": 49,
     "metadata": {},
     "output_type": "execute_result"
    }
   ],
   "source": [
    "# we will run a for Loop\n",
    "\n",
    "data = AR_train\n",
    "predicts = []\n",
    "for i in AR_test:\n",
    "    model = AR(data)\n",
    "    model_fit = model.fit()\n",
    "    y = model_fit.predict(start=len(data), end=len(AR_train)+len(AR_test)-1)\n",
    "    print(y.values[0])\n",
    "    predicts.append(y.values[0])\n",
    "    data = np.append(data,i)\n",
    "    data = pd.Series(data)\n",
    "    \n",
    "len(predicts)"
   ]
  },
  {
   "cell_type": "code",
   "execution_count": 50,
   "metadata": {},
   "outputs": [
    {
     "data": {
      "text/plain": [
       "633969.6106228312"
      ]
     },
     "execution_count": 50,
     "metadata": {},
     "output_type": "execute_result"
    }
   ],
   "source": [
    "mse = mean_squared_error(AR_test, predicts)\n",
    "mse"
   ]
  },
  {
   "cell_type": "markdown",
   "metadata": {},
   "source": [
    "* Here we can see that the MSE value is less than the Previous AR Model"
   ]
  },
  {
   "cell_type": "code",
   "execution_count": 51,
   "metadata": {},
   "outputs": [
    {
     "data": {
      "text/plain": [
       "[<matplotlib.lines.Line2D at 0x1ed352f9e88>]"
      ]
     },
     "execution_count": 51,
     "metadata": {},
     "output_type": "execute_result"
    },
    {
     "data": {
      "image/png": "[encoded data removed]",
      "text/plain": [
       "<Figure size 432x288 with 1 Axes>"
      ]
     },
     "metadata": {
      "needs_background": "light"
     },
     "output_type": "display_data"
    }
   ],
   "source": [
    "plt.plot(AR_test.values)\n",
    "plt.plot(predicts, color='red')"
   ]
  },
  {
   "cell_type": "markdown",
   "metadata": {},
   "source": [
    "## Moving Average with Walk Forward Technique"
   ]
  },
  {
   "cell_type": "code",
   "execution_count": 52,
   "metadata": {},
   "outputs": [
    {
     "data": {
      "text/html": [
       "<div>\n",
       "<style scoped>\n",
       "    .dataframe tbody tr th:only-of-type {\n",
       "        vertical-align: middle;\n",
       "    }\n",
       "\n",
       "    .dataframe tbody tr th {\n",
       "        vertical-align: top;\n",
       "    }\n",
       "\n",
       "    .dataframe thead th {\n",
       "        text-align: right;\n",
       "    }\n",
       "</style>\n",
       "<table border=\"1\" class=\"dataframe\">\n",
       "  <thead>\n",
       "    <tr style=\"text-align: right;\">\n",
       "      <th></th>\n",
       "      <th>Date</th>\n",
       "      <th>High</th>\n",
       "      <th>Lag1</th>\n",
       "      <th>High_Diff_1</th>\n",
       "    </tr>\n",
       "    <tr>\n",
       "      <th>Date</th>\n",
       "      <th></th>\n",
       "      <th></th>\n",
       "      <th></th>\n",
       "      <th></th>\n",
       "    </tr>\n",
       "  </thead>\n",
       "  <tbody>\n",
       "    <tr>\n",
       "      <td>2013-04-28</td>\n",
       "      <td>2013-04-28</td>\n",
       "      <td>135.98</td>\n",
       "      <td>NaN</td>\n",
       "      <td>NaN</td>\n",
       "    </tr>\n",
       "    <tr>\n",
       "      <td>2013-04-29</td>\n",
       "      <td>2013-04-29</td>\n",
       "      <td>147.49</td>\n",
       "      <td>135.98</td>\n",
       "      <td>11.51</td>\n",
       "    </tr>\n",
       "    <tr>\n",
       "      <td>2013-04-30</td>\n",
       "      <td>2013-04-30</td>\n",
       "      <td>146.93</td>\n",
       "      <td>147.49</td>\n",
       "      <td>-0.56</td>\n",
       "    </tr>\n",
       "    <tr>\n",
       "      <td>2013-05-01</td>\n",
       "      <td>2013-05-01</td>\n",
       "      <td>139.89</td>\n",
       "      <td>146.93</td>\n",
       "      <td>-7.04</td>\n",
       "    </tr>\n",
       "    <tr>\n",
       "      <td>2013-05-02</td>\n",
       "      <td>2013-05-02</td>\n",
       "      <td>125.60</td>\n",
       "      <td>139.89</td>\n",
       "      <td>-14.29</td>\n",
       "    </tr>\n",
       "  </tbody>\n",
       "</table>\n",
       "</div>"
      ],
      "text/plain": [
       "                 Date    High    Lag1  High_Diff_1\n",
       "Date                                              \n",
       "2013-04-28 2013-04-28  135.98     NaN          NaN\n",
       "2013-04-29 2013-04-29  147.49  135.98        11.51\n",
       "2013-04-30 2013-04-30  146.93  147.49        -0.56\n",
       "2013-05-01 2013-05-01  139.89  146.93        -7.04\n",
       "2013-05-02 2013-05-02  125.60  139.89       -14.29"
      ]
     },
     "execution_count": 52,
     "metadata": {},
     "output_type": "execute_result"
    }
   ],
   "source": [
    "Moving_Average = bitcoin_price_high.copy()\n",
    "Moving_Average.head()"
   ]
  },
  {
   "cell_type": "code",
   "execution_count": 53,
   "metadata": {},
   "outputs": [
    {
     "name": "stdout",
     "output_type": "stream",
     "text": [
      "Date\n",
      "2013-04-29    11.51\n",
      "2013-04-30    -0.56\n",
      "2013-05-01    -7.04\n",
      "2013-05-02   -14.29\n",
      "2013-05-03   -17.47\n",
      "Name: High_Diff_1, dtype: float64\n",
      "Date\n",
      "2018-01-22   -929.5\n",
      "2018-01-23   -588.8\n",
      "2018-01-24    123.8\n",
      "2018-01-25    284.3\n",
      "2018-01-26   -129.0\n",
      "Name: High_Diff_1, dtype: float64\n"
     ]
    }
   ],
   "source": [
    "# Moving Average means that we build a AR model on the Difference Variable\n",
    "#Lets didive the data in Train and Test\n",
    "train, test = Moving_Average.High_Diff_1[1:Moving_Average.shape[0]-30], Moving_Average.High_Diff_1[Moving_Average.shape[0]-30:]\n",
    "test_y = Moving_Average.Lag1[-30:]\n",
    "print(train.head())\n",
    "print(test.head())"
   ]
  },
  {
   "cell_type": "code",
   "execution_count": 54,
   "metadata": {},
   "outputs": [
    {
     "name": "stderr",
     "output_type": "stream",
     "text": [
      "C:\\Users\\pravi\\Anaconda3\\lib\\site-packages\\statsmodels\\tsa\\base\\tsa_model.py:165: ValueWarning: No frequency information was provided, so inferred frequency D will be used.\n",
      "  % freq, ValueWarning)\n"
     ]
    }
   ],
   "source": [
    "MA_Model = AR(train)\n",
    "MA_Model_fit = MA_Model.fit()"
   ]
  },
  {
   "cell_type": "code",
   "execution_count": 55,
   "metadata": {},
   "outputs": [
    {
     "data": {
      "text/plain": [
       "24"
      ]
     },
     "execution_count": 55,
     "metadata": {},
     "output_type": "execute_result"
    }
   ],
   "source": [
    "MA_Model_fit.k_ar"
   ]
  },
  {
   "cell_type": "code",
   "execution_count": 56,
   "metadata": {},
   "outputs": [
    {
     "data": {
      "text/plain": [
       "const              5.004867\n",
       "L1.High_Diff_1     0.227753\n",
       "L2.High_Diff_1    -0.113750\n",
       "L3.High_Diff_1    -0.082503\n",
       "L4.High_Diff_1     0.178452\n",
       "L5.High_Diff_1     0.122425\n",
       "L6.High_Diff_1    -0.085170\n",
       "L7.High_Diff_1     0.033943\n",
       "L8.High_Diff_1     0.127731\n",
       "L9.High_Diff_1    -0.000203\n",
       "L10.High_Diff_1    0.196650\n",
       "L11.High_Diff_1   -0.126528\n",
       "L12.High_Diff_1   -0.027325\n",
       "L13.High_Diff_1   -0.081919\n",
       "L14.High_Diff_1   -0.173125\n",
       "L15.High_Diff_1   -0.048601\n",
       "L16.High_Diff_1   -0.039048\n",
       "L17.High_Diff_1   -0.088553\n",
       "L18.High_Diff_1    0.137873\n",
       "L19.High_Diff_1    0.052982\n",
       "L20.High_Diff_1    0.190074\n",
       "L21.High_Diff_1    0.101138\n",
       "L22.High_Diff_1   -0.061929\n",
       "L23.High_Diff_1    0.028435\n",
       "L24.High_Diff_1   -0.073113\n",
       "dtype: float64"
      ]
     },
     "execution_count": 56,
     "metadata": {},
     "output_type": "execute_result"
    }
   ],
   "source": [
    "MA_Model_fit.params"
   ]
  },
  {
   "cell_type": "code",
   "execution_count": 57,
   "metadata": {},
   "outputs": [
    {
     "data": {
      "text/plain": [
       "2018-01-22     -63.555194\n",
       "2018-01-23    1061.803327\n",
       "2018-01-24     478.471876\n",
       "2018-01-25     476.183431\n",
       "2018-01-26     -57.307544\n",
       "2018-01-27    -555.901204\n",
       "2018-01-28     317.357236\n",
       "2018-01-29    -186.937218\n",
       "2018-01-30     230.145690\n",
       "2018-01-31     281.732294\n",
       "2018-02-01     118.071107\n",
       "2018-02-02     404.129233\n",
       "2018-02-03       9.294012\n",
       "2018-02-04    -467.121349\n",
       "2018-02-05    -346.927568\n",
       "2018-02-06    -897.428807\n",
       "2018-02-07      -3.782309\n",
       "2018-02-08      33.319272\n",
       "2018-02-09     111.361712\n",
       "2018-02-10     352.960362\n",
       "2018-02-11    -111.223420\n",
       "2018-02-12     361.674913\n",
       "2018-02-13      83.506709\n",
       "2018-02-14    -236.559960\n",
       "2018-02-15     -85.770761\n",
       "2018-02-16    -407.208689\n",
       "2018-02-17     154.161481\n",
       "2018-02-18     231.742617\n",
       "2018-02-19     183.155626\n",
       "2018-02-20     438.083205\n",
       "Freq: D, dtype: float64"
      ]
     },
     "execution_count": 57,
     "metadata": {},
     "output_type": "execute_result"
    }
   ],
   "source": [
    "pred_diff = MA_Model_fit.predict(start = len(train), end=len(train)+len(test)-1)\n",
    "pred_diff"
   ]
  },
  {
   "cell_type": "code",
   "execution_count": 58,
   "metadata": {},
   "outputs": [
    {
     "data": {
      "text/plain": [
       "Date\n",
       "2018-01-22    12832.344806\n",
       "2018-01-23    13028.203327\n",
       "2018-01-24    11856.071876\n",
       "2018-01-25    11977.583431\n",
       "2018-01-26    11728.392456\n",
       "2018-01-27    11100.798796\n",
       "2018-01-28    11932.257236\n",
       "2018-01-29    11853.362782\n",
       "2018-01-30    12105.745690\n",
       "2018-01-31    11588.932294\n",
       "2018-02-01    10499.671107\n",
       "2018-02-02    10692.929233\n",
       "2018-02-03     9151.574012\n",
       "2018-02-04     8963.628651\n",
       "2018-02-05     8987.942432\n",
       "2018-02-06     7467.411193\n",
       "2018-02-07     7846.917691\n",
       "2018-02-08     8542.429272\n",
       "2018-02-09     8670.131712\n",
       "2018-02-10     9089.940362\n",
       "2018-02-11     9011.326580\n",
       "2018-02-12     8977.804913\n",
       "2018-02-13     9069.426709\n",
       "2018-02-14     8721.910040\n",
       "2018-02-15     9432.769239\n",
       "2018-02-16     9827.591311\n",
       "2018-02-17    10478.261481\n",
       "2018-02-18    11371.242617\n",
       "2018-02-19    11532.955626\n",
       "2018-02-20    11711.883205\n",
       "dtype: float64"
      ]
     },
     "execution_count": 58,
     "metadata": {},
     "output_type": "execute_result"
    }
   ],
   "source": [
    "# Adding the Forecasted residuals to the Naive (Presistence) model Predictions\n",
    "predictions = Moving_Average.Lag1[Moving_Average.shape[0]-30:] + pred_diff\n",
    "predictions"
   ]
  },
  {
   "cell_type": "code",
   "execution_count": 59,
   "metadata": {},
   "outputs": [
    {
     "data": {
      "text/plain": [
       "143635.98043025305"
      ]
     },
     "execution_count": 59,
     "metadata": {},
     "output_type": "execute_result"
    }
   ],
   "source": [
    "mse = mean_squared_error(test_y, predictions)\n",
    "mse"
   ]
  },
  {
   "cell_type": "code",
   "execution_count": 60,
   "metadata": {},
   "outputs": [
    {
     "data": {
      "text/plain": [
       "[<matplotlib.lines.Line2D at 0x1ed35369f88>]"
      ]
     },
     "execution_count": 60,
     "metadata": {},
     "output_type": "execute_result"
    },
    {
     "data": {
      "image/png": "[encoded data removed]",
      "text/plain": [
       "<Figure size 432x288 with 1 Axes>"
      ]
     },
     "metadata": {
      "needs_background": "light"
     },
     "output_type": "display_data"
    }
   ],
   "source": [
    "plt.plot(test_y)\n",
    "plt.plot(predictions, color='red')"
   ]
  },
  {
   "cell_type": "code",
   "execution_count": 61,
   "metadata": {},
   "outputs": [
    {
     "name": "stderr",
     "output_type": "stream",
     "text": [
      "C:\\Users\\pravi\\Anaconda3\\lib\\site-packages\\statsmodels\\tsa\\base\\tsa_model.py:165: ValueWarning: No frequency information was provided, so inferred frequency D will be used.\n",
      "  % freq, ValueWarning)\n"
     ]
    },
    {
     "name": "stdout",
     "output_type": "stream",
     "text": [
      "-63.55519403015026\n",
      "1000.9959835189856\n",
      "331.01788798151046\n",
      "482.91315195430496\n",
      "168.68921269176903\n",
      "-777.0210818190116\n",
      "203.4967643404449\n",
      "36.451346968854\n",
      "-153.0338120560851\n",
      "-180.91137463336452\n",
      "-223.51138526943257\n",
      "285.19397373015005\n",
      "-76.44179493852742\n",
      "-310.82870286580464\n",
      "117.81937909843\n",
      "-821.0027385177968\n",
      "-203.12297482754806\n",
      "269.9262903525159\n",
      "-310.69470497457496\n",
      "-565.015491902303\n",
      "-313.13920765965344\n",
      "-324.41740088332745\n",
      "63.505016573004696\n",
      "125.61422623159517\n",
      "219.988153020392\n",
      "217.17355580807444\n",
      "402.4618476211341\n",
      "120.52385621599201\n",
      "124.55337609589132\n",
      "-71.41800611234294\n",
      "[-63.55519403015026, 1000.9959835189856, 331.01788798151046, 482.91315195430496, 168.68921269176903, -777.0210818190116, 203.4967643404449, 36.451346968854, -153.0338120560851, -180.91137463336452, -223.51138526943257, 285.19397373015005, -76.44179493852742, -310.82870286580464, 117.81937909843, -821.0027385177968, -203.12297482754806, 269.9262903525159, -310.69470497457496, -565.015491902303, -313.13920765965344, -324.41740088332745, 63.505016573004696, 125.61422623159517, 219.988153020392, 217.17355580807444, 402.4618476211341, 120.52385621599201, 124.55337609589132, -71.41800611234294]\n"
     ]
    }
   ],
   "source": [
    "data = train\n",
    "predicts1 = []\n",
    "for t in test:\n",
    "    model_ar = AR(data)\n",
    "    model_ar_fit = model_ar.fit()\n",
    "    y=model_ar_fit.predict(start=len(data), end = len(train)+len(test)-1)\n",
    "    print(y.values[0])\n",
    "    predicts1.append(y.values[0])\n",
    "    data = np.append(data, t)\n",
    "    data = pd.Series(data)\n",
    "print(predicts1)"
   ]
  },
  {
   "cell_type": "code",
   "execution_count": 62,
   "metadata": {},
   "outputs": [
    {
     "data": {
      "text/plain": [
       "[<matplotlib.lines.Line2D at 0x1ed353a3588>]"
      ]
     },
     "execution_count": 62,
     "metadata": {},
     "output_type": "execute_result"
    },
    {
     "data": {
      "image/png": "[encoded data removed]",
      "text/plain": [
       "<Figure size 432x288 with 1 Axes>"
      ]
     },
     "metadata": {
      "needs_background": "light"
     },
     "output_type": "display_data"
    }
   ],
   "source": [
    "plt.plot(test.values)\n",
    "plt.plot(predicts1, color='red')"
   ]
  },
  {
   "cell_type": "code",
   "execution_count": 63,
   "metadata": {},
   "outputs": [
    {
     "data": {
      "text/plain": [
       "401078.3054191896"
      ]
     },
     "execution_count": 63,
     "metadata": {},
     "output_type": "execute_result"
    }
   ],
   "source": [
    "mse3 = mean_squared_error(test,predicts1)\n",
    "mse3"
   ]
  },
  {
   "cell_type": "markdown",
   "metadata": {},
   "source": [
    "## Lets Build the ARIMA model"
   ]
  },
  {
   "cell_type": "code",
   "execution_count": 3,
   "metadata": {},
   "outputs": [
    {
     "data": {
      "text/html": [
       "<div>\n",
       "<style scoped>\n",
       "    .dataframe tbody tr th:only-of-type {\n",
       "        vertical-align: middle;\n",
       "    }\n",
       "\n",
       "    .dataframe tbody tr th {\n",
       "        vertical-align: top;\n",
       "    }\n",
       "\n",
       "    .dataframe thead th {\n",
       "        text-align: right;\n",
       "    }\n",
       "</style>\n",
       "<table border=\"1\" class=\"dataframe\">\n",
       "  <thead>\n",
       "    <tr style=\"text-align: right;\">\n",
       "      <th></th>\n",
       "      <th>Date</th>\n",
       "      <th>High</th>\n",
       "    </tr>\n",
       "  </thead>\n",
       "  <tbody>\n",
       "    <tr>\n",
       "      <td>0</td>\n",
       "      <td>2013-04-28</td>\n",
       "      <td>135.98</td>\n",
       "    </tr>\n",
       "    <tr>\n",
       "      <td>1</td>\n",
       "      <td>2013-04-29</td>\n",
       "      <td>147.49</td>\n",
       "    </tr>\n",
       "    <tr>\n",
       "      <td>2</td>\n",
       "      <td>2013-04-30</td>\n",
       "      <td>146.93</td>\n",
       "    </tr>\n",
       "    <tr>\n",
       "      <td>3</td>\n",
       "      <td>2013-05-01</td>\n",
       "      <td>139.89</td>\n",
       "    </tr>\n",
       "    <tr>\n",
       "      <td>4</td>\n",
       "      <td>2013-05-02</td>\n",
       "      <td>125.60</td>\n",
       "    </tr>\n",
       "  </tbody>\n",
       "</table>\n",
       "</div>"
      ],
      "text/plain": [
       "        Date    High\n",
       "0 2013-04-28  135.98\n",
       "1 2013-04-29  147.49\n",
       "2 2013-04-30  146.93\n",
       "3 2013-05-01  139.89\n",
       "4 2013-05-02  125.60"
      ]
     },
     "execution_count": 3,
     "metadata": {},
     "output_type": "execute_result"
    }
   ],
   "source": [
    "bitcoin_price_high = bitcoin_price.iloc[:,[0,2]]\n",
    "bitcoin_price_high.head()"
   ]
  },
  {
   "cell_type": "code",
   "execution_count": 4,
   "metadata": {},
   "outputs": [
    {
     "data": {
      "text/plain": [
       "[<matplotlib.lines.Line2D at 0x2734a9e3f88>]"
      ]
     },
     "execution_count": 4,
     "metadata": {},
     "output_type": "execute_result"
    },
    {
     "data": {
      "image/png": "[encoded data removed]",
      "text/plain": [
       "<Figure size 432x288 with 1 Axes>"
      ]
     },
     "metadata": {
      "needs_background": "light"
     },
     "output_type": "display_data"
    }
   ],
   "source": [
    "plt.plot(bitcoin_price_high.High)"
   ]
  },
  {
   "cell_type": "code",
   "execution_count": 5,
   "metadata": {},
   "outputs": [
    {
     "data": {
      "image/png": "[encoded data removed]",
      "text/plain": [
       "<Figure size 432x288 with 1 Axes>"
      ]
     },
     "execution_count": 5,
     "metadata": {},
     "output_type": "execute_result"
    },
    {
     "data": {
      "image/png": "[encoded data removed]",
      "text/plain": [
       "<Figure size 432x288 with 1 Axes>"
      ]
     },
     "metadata": {
      "needs_background": "light"
     },
     "output_type": "display_data"
    }
   ],
   "source": [
    "# Lets plot the AutoCorrelation Plot\n",
    "plot_acf(bitcoin_price_high.High, lags=80)"
   ]
  },
  {
   "cell_type": "markdown",
   "metadata": {},
   "source": [
    "* Lets take the lag value for p as 24"
   ]
  },
  {
   "cell_type": "code",
   "execution_count": 6,
   "metadata": {},
   "outputs": [
    {
     "data": {
      "image/png": "[encoded data removed]",
      "text/plain": [
       "<Figure size 432x288 with 1 Axes>"
      ]
     },
     "execution_count": 6,
     "metadata": {},
     "output_type": "execute_result"
    },
    {
     "data": {
      "image/png": "[encoded data removed]",
      "text/plain": [
       "<Figure size 432x288 with 1 Axes>"
      ]
     },
     "metadata": {
      "needs_background": "light"
     },
     "output_type": "display_data"
    }
   ],
   "source": [
    "# Lets find the q value using pacf plot\n",
    "plot_pacf(bitcoin_price_high.High, lags=10)"
   ]
  },
  {
   "cell_type": "markdown",
   "metadata": {},
   "source": [
    "* here we take q vaue as 2\n",
    "* we will take d value as 1"
   ]
  },
  {
   "cell_type": "code",
   "execution_count": 7,
   "metadata": {},
   "outputs": [],
   "source": [
    "model1 = ARIMA(bitcoin_price_high.High, order = (24,1,2))\n",
    "model1_fit = model1.fit()"
   ]
  },
  {
   "cell_type": "code",
   "execution_count": 8,
   "metadata": {},
   "outputs": [
    {
     "data": {
      "text/html": [
       "<table class=\"simpletable\">\n",
       "<caption>ARIMA Model Results</caption>\n",
       "<tr>\n",
       "  <th>Dep. Variable:</th>      <td>D.High</td>      <th>  No. Observations:  </th>    <td>1759</td>   \n",
       "</tr>\n",
       "<tr>\n",
       "  <th>Model:</th>          <td>ARIMA(24, 1, 2)</td> <th>  Log Likelihood     </th> <td>-11576.998</td>\n",
       "</tr>\n",
       "<tr>\n",
       "  <th>Method:</th>             <td>css-mle</td>     <th>  S.D. of innovations</th>   <td>174.355</td> \n",
       "</tr>\n",
       "<tr>\n",
       "  <th>Date:</th>          <td>Mon, 08 Jun 2020</td> <th>  AIC                </th>  <td>23209.997</td>\n",
       "</tr>\n",
       "<tr>\n",
       "  <th>Time:</th>              <td>17:20:34</td>     <th>  BIC                </th>  <td>23363.227</td>\n",
       "</tr>\n",
       "<tr>\n",
       "  <th>Sample:</th>                <td>1</td>        <th>  HQIC               </th>  <td>23266.626</td>\n",
       "</tr>\n",
       "<tr>\n",
       "  <th></th>                       <td> </td>        <th>                     </th>      <td> </td>    \n",
       "</tr>\n",
       "</table>\n",
       "<table class=\"simpletable\">\n",
       "<tr>\n",
       "        <td></td>           <th>coef</th>     <th>std err</th>      <th>z</th>      <th>P>|z|</th>  <th>[0.025</th>    <th>0.975]</th>  \n",
       "</tr>\n",
       "<tr>\n",
       "  <th>const</th>         <td>    6.8423</td> <td>    7.672</td> <td>    0.892</td> <td> 0.373</td> <td>   -8.195</td> <td>   21.880</td>\n",
       "</tr>\n",
       "<tr>\n",
       "  <th>ar.L1.D.High</th>  <td>   -1.2319</td> <td>    0.026</td> <td>  -47.939</td> <td> 0.000</td> <td>   -1.282</td> <td>   -1.182</td>\n",
       "</tr>\n",
       "<tr>\n",
       "  <th>ar.L2.D.High</th>  <td>   -0.6997</td> <td>    0.039</td> <td>  -18.041</td> <td> 0.000</td> <td>   -0.776</td> <td>   -0.624</td>\n",
       "</tr>\n",
       "<tr>\n",
       "  <th>ar.L3.D.High</th>  <td>   -0.0087</td> <td>    0.041</td> <td>   -0.213</td> <td> 0.832</td> <td>   -0.089</td> <td>    0.072</td>\n",
       "</tr>\n",
       "<tr>\n",
       "  <th>ar.L4.D.High</th>  <td>   -0.0887</td> <td>    0.040</td> <td>   -2.215</td> <td> 0.027</td> <td>   -0.167</td> <td>   -0.010</td>\n",
       "</tr>\n",
       "<tr>\n",
       "  <th>ar.L5.D.High</th>  <td>    0.2018</td> <td>    0.039</td> <td>    5.131</td> <td> 0.000</td> <td>    0.125</td> <td>    0.279</td>\n",
       "</tr>\n",
       "<tr>\n",
       "  <th>ar.L6.D.High</th>  <td>    0.2096</td> <td>    0.040</td> <td>    5.280</td> <td> 0.000</td> <td>    0.132</td> <td>    0.287</td>\n",
       "</tr>\n",
       "<tr>\n",
       "  <th>ar.L7.D.High</th>  <td>    0.0650</td> <td>    0.040</td> <td>    1.624</td> <td> 0.104</td> <td>   -0.013</td> <td>    0.143</td>\n",
       "</tr>\n",
       "<tr>\n",
       "  <th>ar.L8.D.High</th>  <td>    0.1786</td> <td>    0.040</td> <td>    4.478</td> <td> 0.000</td> <td>    0.100</td> <td>    0.257</td>\n",
       "</tr>\n",
       "<tr>\n",
       "  <th>ar.L9.D.High</th>  <td>    0.3035</td> <td>    0.040</td> <td>    7.591</td> <td> 0.000</td> <td>    0.225</td> <td>    0.382</td>\n",
       "</tr>\n",
       "<tr>\n",
       "  <th>ar.L10.D.High</th> <td>    0.3679</td> <td>    0.040</td> <td>    9.182</td> <td> 0.000</td> <td>    0.289</td> <td>    0.446</td>\n",
       "</tr>\n",
       "<tr>\n",
       "  <th>ar.L11.D.High</th> <td>    0.1844</td> <td>    0.041</td> <td>    4.521</td> <td> 0.000</td> <td>    0.104</td> <td>    0.264</td>\n",
       "</tr>\n",
       "<tr>\n",
       "  <th>ar.L12.D.High</th> <td>   -0.0423</td> <td>    0.041</td> <td>   -1.038</td> <td> 0.299</td> <td>   -0.122</td> <td>    0.038</td>\n",
       "</tr>\n",
       "<tr>\n",
       "  <th>ar.L13.D.High</th> <td>   -0.2361</td> <td>    0.041</td> <td>   -5.773</td> <td> 0.000</td> <td>   -0.316</td> <td>   -0.156</td>\n",
       "</tr>\n",
       "<tr>\n",
       "  <th>ar.L14.D.High</th> <td>   -0.2077</td> <td>    0.041</td> <td>   -5.064</td> <td> 0.000</td> <td>   -0.288</td> <td>   -0.127</td>\n",
       "</tr>\n",
       "<tr>\n",
       "  <th>ar.L15.D.High</th> <td>   -0.2847</td> <td>    0.040</td> <td>   -7.088</td> <td> 0.000</td> <td>   -0.363</td> <td>   -0.206</td>\n",
       "</tr>\n",
       "<tr>\n",
       "  <th>ar.L16.D.High</th> <td>   -0.2352</td> <td>    0.040</td> <td>   -5.870</td> <td> 0.000</td> <td>   -0.314</td> <td>   -0.157</td>\n",
       "</tr>\n",
       "<tr>\n",
       "  <th>ar.L17.D.High</th> <td>   -0.2036</td> <td>    0.040</td> <td>   -5.027</td> <td> 0.000</td> <td>   -0.283</td> <td>   -0.124</td>\n",
       "</tr>\n",
       "<tr>\n",
       "  <th>ar.L18.D.High</th> <td>   -0.1381</td> <td>    0.041</td> <td>   -3.389</td> <td> 0.001</td> <td>   -0.218</td> <td>   -0.058</td>\n",
       "</tr>\n",
       "<tr>\n",
       "  <th>ar.L19.D.High</th> <td>    0.0314</td> <td>    0.041</td> <td>    0.770</td> <td> 0.442</td> <td>   -0.049</td> <td>    0.111</td>\n",
       "</tr>\n",
       "<tr>\n",
       "  <th>ar.L20.D.High</th> <td>    0.3111</td> <td>    0.041</td> <td>    7.663</td> <td> 0.000</td> <td>    0.232</td> <td>    0.391</td>\n",
       "</tr>\n",
       "<tr>\n",
       "  <th>ar.L21.D.High</th> <td>    0.3692</td> <td>    0.041</td> <td>    8.910</td> <td> 0.000</td> <td>    0.288</td> <td>    0.450</td>\n",
       "</tr>\n",
       "<tr>\n",
       "  <th>ar.L22.D.High</th> <td>    0.2419</td> <td>    0.042</td> <td>    5.694</td> <td> 0.000</td> <td>    0.159</td> <td>    0.325</td>\n",
       "</tr>\n",
       "<tr>\n",
       "  <th>ar.L23.D.High</th> <td>    0.0941</td> <td>    0.040</td> <td>    2.333</td> <td> 0.020</td> <td>    0.015</td> <td>    0.173</td>\n",
       "</tr>\n",
       "<tr>\n",
       "  <th>ar.L24.D.High</th> <td>   -0.0434</td> <td>    0.027</td> <td>   -1.622</td> <td> 0.105</td> <td>   -0.096</td> <td>    0.009</td>\n",
       "</tr>\n",
       "<tr>\n",
       "  <th>ma.L1.D.High</th>  <td>    1.4861</td> <td>    0.010</td> <td>  150.400</td> <td> 0.000</td> <td>    1.467</td> <td>    1.506</td>\n",
       "</tr>\n",
       "<tr>\n",
       "  <th>ma.L2.D.High</th>  <td>    0.9607</td> <td>    0.011</td> <td>   91.371</td> <td> 0.000</td> <td>    0.940</td> <td>    0.981</td>\n",
       "</tr>\n",
       "</table>\n",
       "<table class=\"simpletable\">\n",
       "<caption>Roots</caption>\n",
       "<tr>\n",
       "    <td></td>    <th>            Real</th>  <th>         Imaginary</th> <th>         Modulus</th>  <th>        Frequency</th>\n",
       "</tr>\n",
       "<tr>\n",
       "  <th>AR.1</th>  <td>          -1.1105</td> <td>          -0.0898j</td> <td>           1.1141</td> <td>          -0.4872</td>\n",
       "</tr>\n",
       "<tr>\n",
       "  <th>AR.2</th>  <td>          -1.1105</td> <td>          +0.0898j</td> <td>           1.1141</td> <td>           0.4872</td>\n",
       "</tr>\n",
       "<tr>\n",
       "  <th>AR.3</th>  <td>          -0.9772</td> <td>          -0.4485j</td> <td>           1.0752</td> <td>          -0.4315</td>\n",
       "</tr>\n",
       "<tr>\n",
       "  <th>AR.4</th>  <td>          -0.9772</td> <td>          +0.4485j</td> <td>           1.0752</td> <td>           0.4315</td>\n",
       "</tr>\n",
       "<tr>\n",
       "  <th>AR.5</th>  <td>          -0.7892</td> <td>          -0.6244j</td> <td>           1.0063</td> <td>          -0.3935</td>\n",
       "</tr>\n",
       "<tr>\n",
       "  <th>AR.6</th>  <td>          -0.7892</td> <td>          +0.6244j</td> <td>           1.0063</td> <td>           0.3935</td>\n",
       "</tr>\n",
       "<tr>\n",
       "  <th>AR.7</th>  <td>          -0.7167</td> <td>          -0.7420j</td> <td>           1.0317</td> <td>          -0.3722</td>\n",
       "</tr>\n",
       "<tr>\n",
       "  <th>AR.8</th>  <td>          -0.7167</td> <td>          +0.7420j</td> <td>           1.0317</td> <td>           0.3722</td>\n",
       "</tr>\n",
       "<tr>\n",
       "  <th>AR.9</th>  <td>           1.0745</td> <td>          -0.0000j</td> <td>           1.0745</td> <td>          -0.0000</td>\n",
       "</tr>\n",
       "<tr>\n",
       "  <th>AR.10</th> <td>           1.0314</td> <td>          -0.2632j</td> <td>           1.0644</td> <td>          -0.0398</td>\n",
       "</tr>\n",
       "<tr>\n",
       "  <th>AR.11</th> <td>           1.0314</td> <td>          +0.2632j</td> <td>           1.0644</td> <td>           0.0398</td>\n",
       "</tr>\n",
       "<tr>\n",
       "  <th>AR.12</th> <td>           0.8140</td> <td>          -0.6234j</td> <td>           1.0253</td> <td>          -0.1040</td>\n",
       "</tr>\n",
       "<tr>\n",
       "  <th>AR.13</th> <td>           0.8140</td> <td>          +0.6234j</td> <td>           1.0253</td> <td>           0.1040</td>\n",
       "</tr>\n",
       "<tr>\n",
       "  <th>AR.14</th> <td>           0.6358</td> <td>          -0.8648j</td> <td>           1.0733</td> <td>          -0.1491</td>\n",
       "</tr>\n",
       "<tr>\n",
       "  <th>AR.15</th> <td>           0.6358</td> <td>          +0.8648j</td> <td>           1.0733</td> <td>           0.1491</td>\n",
       "</tr>\n",
       "<tr>\n",
       "  <th>AR.16</th> <td>           0.3015</td> <td>          -1.0058j</td> <td>           1.0500</td> <td>          -0.2037</td>\n",
       "</tr>\n",
       "<tr>\n",
       "  <th>AR.17</th> <td>           0.3015</td> <td>          +1.0058j</td> <td>           1.0500</td> <td>           0.2037</td>\n",
       "</tr>\n",
       "<tr>\n",
       "  <th>AR.18</th> <td>           0.0491</td> <td>          -1.0957j</td> <td>           1.0968</td> <td>          -0.2429</td>\n",
       "</tr>\n",
       "<tr>\n",
       "  <th>AR.19</th> <td>           0.0491</td> <td>          +1.0957j</td> <td>           1.0968</td> <td>           0.2429</td>\n",
       "</tr>\n",
       "<tr>\n",
       "  <th>AR.20</th> <td>          -0.4596</td> <td>          -1.0374j</td> <td>           1.1346</td> <td>          -0.3164</td>\n",
       "</tr>\n",
       "<tr>\n",
       "  <th>AR.21</th> <td>          -0.4596</td> <td>          +1.0374j</td> <td>           1.1346</td> <td>           0.3164</td>\n",
       "</tr>\n",
       "<tr>\n",
       "  <th>AR.22</th> <td>          -0.2925</td> <td>          -1.1621j</td> <td>           1.1983</td> <td>          -0.2892</td>\n",
       "</tr>\n",
       "<tr>\n",
       "  <th>AR.23</th> <td>          -0.2925</td> <td>          +1.1621j</td> <td>           1.1983</td> <td>           0.2892</td>\n",
       "</tr>\n",
       "<tr>\n",
       "  <th>AR.24</th> <td>           4.1218</td> <td>          -0.0000j</td> <td>           4.1218</td> <td>          -0.0000</td>\n",
       "</tr>\n",
       "<tr>\n",
       "  <th>MA.1</th>  <td>          -0.7734</td> <td>          -0.6653j</td> <td>           1.0202</td> <td>          -0.3869</td>\n",
       "</tr>\n",
       "<tr>\n",
       "  <th>MA.2</th>  <td>          -0.7734</td> <td>          +0.6653j</td> <td>           1.0202</td> <td>           0.3869</td>\n",
       "</tr>\n",
       "</table>"
      ],
      "text/plain": [
       "<class 'statsmodels.iolib.summary.Summary'>\n",
       "\"\"\"\n",
       "                             ARIMA Model Results                              \n",
       "==============================================================================\n",
       "Dep. Variable:                 D.High   No. Observations:                 1759\n",
       "Model:                ARIMA(24, 1, 2)   Log Likelihood              -11576.998\n",
       "Method:                       css-mle   S.D. of innovations            174.355\n",
       "Date:                Mon, 08 Jun 2020   AIC                          23209.997\n",
       "Time:                        17:20:34   BIC                          23363.227\n",
       "Sample:                             1   HQIC                         23266.626\n",
       "                                                                              \n",
       "=================================================================================\n",
       "                    coef    std err          z      P>|z|      [0.025      0.975]\n",
       "---------------------------------------------------------------------------------\n",
       "const             6.8423      7.672      0.892      0.373      -8.195      21.880\n",
       "ar.L1.D.High     -1.2319      0.026    -47.939      0.000      -1.282      -1.182\n",
       "ar.L2.D.High     -0.6997      0.039    -18.041      0.000      -0.776      -0.624\n",
       "ar.L3.D.High     -0.0087      0.041     -0.213      0.832      -0.089       0.072\n",
       "ar.L4.D.High     -0.0887      0.040     -2.215      0.027      -0.167      -0.010\n",
       "ar.L5.D.High      0.2018      0.039      5.131      0.000       0.125       0.279\n",
       "ar.L6.D.High      0.2096      0.040      5.280      0.000       0.132       0.287\n",
       "ar.L7.D.High      0.0650      0.040      1.624      0.104      -0.013       0.143\n",
       "ar.L8.D.High      0.1786      0.040      4.478      0.000       0.100       0.257\n",
       "ar.L9.D.High      0.3035      0.040      7.591      0.000       0.225       0.382\n",
       "ar.L10.D.High     0.3679      0.040      9.182      0.000       0.289       0.446\n",
       "ar.L11.D.High     0.1844      0.041      4.521      0.000       0.104       0.264\n",
       "ar.L12.D.High    -0.0423      0.041     -1.038      0.299      -0.122       0.038\n",
       "ar.L13.D.High    -0.2361      0.041     -5.773      0.000      -0.316      -0.156\n",
       "ar.L14.D.High    -0.2077      0.041     -5.064      0.000      -0.288      -0.127\n",
       "ar.L15.D.High    -0.2847      0.040     -7.088      0.000      -0.363      -0.206\n",
       "ar.L16.D.High    -0.2352      0.040     -5.870      0.000      -0.314      -0.157\n",
       "ar.L17.D.High    -0.2036      0.040     -5.027      0.000      -0.283      -0.124\n",
       "ar.L18.D.High    -0.1381      0.041     -3.389      0.001      -0.218      -0.058\n",
       "ar.L19.D.High     0.0314      0.041      0.770      0.442      -0.049       0.111\n",
       "ar.L20.D.High     0.3111      0.041      7.663      0.000       0.232       0.391\n",
       "ar.L21.D.High     0.3692      0.041      8.910      0.000       0.288       0.450\n",
       "ar.L22.D.High     0.2419      0.042      5.694      0.000       0.159       0.325\n",
       "ar.L23.D.High     0.0941      0.040      2.333      0.020       0.015       0.173\n",
       "ar.L24.D.High    -0.0434      0.027     -1.622      0.105      -0.096       0.009\n",
       "ma.L1.D.High      1.4861      0.010    150.400      0.000       1.467       1.506\n",
       "ma.L2.D.High      0.9607      0.011     91.371      0.000       0.940       0.981\n",
       "                                    Roots                                     \n",
       "==============================================================================\n",
       "                   Real          Imaginary           Modulus         Frequency\n",
       "------------------------------------------------------------------------------\n",
       "AR.1            -1.1105           -0.0898j            1.1141           -0.4872\n",
       "AR.2            -1.1105           +0.0898j            1.1141            0.4872\n",
       "AR.3            -0.9772           -0.4485j            1.0752           -0.4315\n",
       "AR.4            -0.9772           +0.4485j            1.0752            0.4315\n",
       "AR.5            -0.7892           -0.6244j            1.0063           -0.3935\n",
       "AR.6            -0.7892           +0.6244j            1.0063            0.3935\n",
       "AR.7            -0.7167           -0.7420j            1.0317           -0.3722\n",
       "AR.8            -0.7167           +0.7420j            1.0317            0.3722\n",
       "AR.9             1.0745           -0.0000j            1.0745           -0.0000\n",
       "AR.10            1.0314           -0.2632j            1.0644           -0.0398\n",
       "AR.11            1.0314           +0.2632j            1.0644            0.0398\n",
       "AR.12            0.8140           -0.6234j            1.0253           -0.1040\n",
       "AR.13            0.8140           +0.6234j            1.0253            0.1040\n",
       "AR.14            0.6358           -0.8648j            1.0733           -0.1491\n",
       "AR.15            0.6358           +0.8648j            1.0733            0.1491\n",
       "AR.16            0.3015           -1.0058j            1.0500           -0.2037\n",
       "AR.17            0.3015           +1.0058j            1.0500            0.2037\n",
       "AR.18            0.0491           -1.0957j            1.0968           -0.2429\n",
       "AR.19            0.0491           +1.0957j            1.0968            0.2429\n",
       "AR.20           -0.4596           -1.0374j            1.1346           -0.3164\n",
       "AR.21           -0.4596           +1.0374j            1.1346            0.3164\n",
       "AR.22           -0.2925           -1.1621j            1.1983           -0.2892\n",
       "AR.23           -0.2925           +1.1621j            1.1983            0.2892\n",
       "AR.24            4.1218           -0.0000j            4.1218           -0.0000\n",
       "MA.1            -0.7734           -0.6653j            1.0202           -0.3869\n",
       "MA.2            -0.7734           +0.6653j            1.0202            0.3869\n",
       "------------------------------------------------------------------------------\n",
       "\"\"\""
      ]
     },
     "execution_count": 8,
     "metadata": {},
     "output_type": "execute_result"
    }
   ],
   "source": [
    "model1_fit.summary()"
   ]
  },
  {
   "cell_type": "code",
   "execution_count": 9,
   "metadata": {},
   "outputs": [
    {
     "data": {
      "text/plain": [
       "<matplotlib.axes._subplots.AxesSubplot at 0x2734b5cfa08>"
      ]
     },
     "execution_count": 9,
     "metadata": {},
     "output_type": "execute_result"
    },
    {
     "data": {
      "image/png": "[encoded data removed]",
      "text/plain": [
       "<Figure size 432x288 with 1 Axes>"
      ]
     },
     "metadata": {
      "needs_background": "light"
     },
     "output_type": "display_data"
    }
   ],
   "source": [
    "residuals = model1_fit.resid\n",
    "residuals.plot()"
   ]
  },
  {
   "cell_type": "code",
   "execution_count": 10,
   "metadata": {},
   "outputs": [
    {
     "data": {
      "text/plain": [
       "count    1759.000000\n",
       "mean       -0.027568\n",
       "std       174.405471\n",
       "min     -1346.298551\n",
       "25%       -11.489391\n",
       "50%        -3.777084\n",
       "75%         4.909736\n",
       "max      2774.118660\n",
       "dtype: float64"
      ]
     },
     "execution_count": 10,
     "metadata": {},
     "output_type": "execute_result"
    }
   ],
   "source": [
    "residuals.describe()"
   ]
  },
  {
   "cell_type": "code",
   "execution_count": 24,
   "metadata": {},
   "outputs": [
    {
     "data": {
      "text/plain": [
       "(array([11543.135759]),\n",
       " array([174.3552069]),\n",
       " array([[11201.40583295, 11884.86568504]]))"
      ]
     },
     "execution_count": 24,
     "metadata": {},
     "output_type": "execute_result"
    }
   ],
   "source": [
    "output = model1_fit.forecast()\n",
    "output"
   ]
  },
  {
   "cell_type": "code",
   "execution_count": 19,
   "metadata": {},
   "outputs": [
    {
     "data": {
      "text/plain": [
       "(array([11543.135759  , 11830.67206329, 11897.23966769, 11784.50647365,\n",
       "        11978.15984492]),\n",
       " array([174.3552069 , 279.68432312, 349.49931667, 396.97615748,\n",
       "        446.80194916]),\n",
       " array([[11201.40583295, 11884.86568504],\n",
       "        [11282.50086293, 12378.84326365],\n",
       "        [11212.23359439, 12582.24574099],\n",
       "        [11006.44750225, 12562.56544504],\n",
       "        [11102.44411635, 12853.87557349]]))"
      ]
     },
     "execution_count": 19,
     "metadata": {},
     "output_type": "execute_result"
    }
   ],
   "source": [
    "model1_fit.forecast(5)"
   ]
  },
  {
   "cell_type": "markdown",
   "metadata": {},
   "source": [
    "# Lets import the rest of the Cryptocurrency Data"
   ]
  },
  {
   "cell_type": "code",
   "execution_count": 45,
   "metadata": {},
   "outputs": [],
   "source": [
    "bitcoin_cash = pd.read_csv('D:/Msc CS Project Final/Dataset/bitcoin_cash_price.csv', header=0, parse_dates=[0], index_col=[0])\n",
    "ethereum = pd.read_csv('D:/Msc CS Project Final/Dataset/ethereum_price.csv', header=0, parse_dates=[0],index_col=[0])\n",
    "ripple = pd.read_csv('D:/Msc CS Project Final/Dataset/ripple_price.csv', header=0, parse_dates=[0],index_col=[0])\n",
    "iota = pd.read_csv('D:/Msc CS Project Final/Dataset/iota_price.csv', header=0, parse_dates=[0],index_col=[0])\n",
    "dash = pd.read_csv('D:/Msc CS Project Final/Dataset/dash_price.csv', header=0, parse_dates=[0],index_col=[0])\n",
    "monero = pd.read_csv('D:/Msc CS Project Final/Dataset/monero_price.csv', header=0, parse_dates=[0],index_col=[0])"
   ]
  },
  {
   "cell_type": "code",
   "execution_count": 46,
   "metadata": {},
   "outputs": [
    {
     "name": "stdout",
     "output_type": "stream",
     "text": [
      "              Open    High     Low   Close     Volume  Market Cap\n",
      "Date                                                             \n",
      "2017-07-23  555.89  578.97  411.78  413.06    85013.0         0.0\n",
      "2017-07-24  412.58  578.89  409.21  440.70   190952.0         0.0\n",
      "2017-07-25  441.35  541.66  338.09  406.90   524908.0         0.0\n",
      "2017-07-26  407.08  486.16  321.79  365.82  1784640.0         0.0\n",
      "2017-07-27  417.10  460.97  367.78  385.48   533207.0         0.0\n",
      "                Open      High       Low     Close     Volume   Market Cap\n",
      "Date                                                                      \n",
      "2015-07-08  2.830000  3.540000  2.520000  2.770000   164329.0          0.0\n",
      "2015-08-08  2.790000  2.800000  0.714725  0.753325   674188.0  167911000.0\n",
      "2015-09-08  0.706136  0.879810  0.629191  0.701897   532170.0   42637600.0\n",
      "2015-10-08  0.713989  0.729854  0.636546  0.708448   405283.0   43130000.0\n",
      "2015-11-08  0.708087  1.130000  0.663235  1.070000  1463100.0   42796500.0\n",
      "                Open      High       Low     Close  Volume  Market Cap\n",
      "Date                                                                  \n",
      "2013-04-08  0.005874  0.005927  0.005874  0.005882     0.0  45921000.0\n",
      "2013-05-08  0.005875  0.005980  0.005613  0.005613     0.0  45928400.0\n",
      "2013-06-08  0.005637  0.005661  0.004629  0.004680     0.0  44067600.0\n",
      "2013-07-08  0.004669  0.004682  0.004333  0.004417     0.0  36503500.0\n",
      "2013-08-08  0.004397  0.004424  0.004175  0.004254     0.0  34372500.0\n",
      "                Open      High       Low     Close      Volume    Market Cap\n",
      "Date                                                                        \n",
      "2017-06-13  0.638503  0.652862  0.533910  0.590255  25425600.0  1.774740e+09\n",
      "2017-06-14  0.592347  0.606196  0.495745  0.528916  14194900.0  1.646450e+09\n",
      "2017-06-15  0.528284  0.543165  0.300365  0.363661  10300400.0  1.468380e+09\n",
      "2017-06-16  0.353285  0.448249  0.309852  0.410757   6920690.0  9.819660e+08\n",
      "2017-06-17  0.426762  0.444205  0.414139  0.419906   3100660.0  1.186200e+09\n",
      "                Open      High       Low     Close    Volume  Market Cap\n",
      "Date                                                                    \n",
      "2014-02-14  0.213899  0.378883  0.213899  0.374024   15422.0    702537.0\n",
      "2014-02-15  0.331111  0.354461  0.219434  0.314865   21119.0   1092120.0\n",
      "2014-02-16  0.325840  0.459833  0.310345  0.406976   28017.0   1085280.0\n",
      "2014-02-17  0.406039  1.500000  0.402588  1.450000  178618.0   1360260.0\n",
      "2014-02-18  1.180000  1.500000  0.841751  1.040000  160779.0   3960320.0\n",
      "            Open  High   Low  Close    Volume  Market Cap\n",
      "Date                                                     \n",
      "2014-05-22  2.47  2.65  1.23   1.60  246540.0   2079640.0\n",
      "2014-05-23  1.59  2.19  1.36   2.10  132918.0   1371470.0\n",
      "2014-05-24  2.05  3.43  2.05   2.96  266852.0   1816200.0\n",
      "2014-05-25  2.92  4.01  2.62   3.70  248028.0   2653720.0\n",
      "2014-05-26  4.04  4.04  2.80   3.14  283545.0   3774890.0\n"
     ]
    }
   ],
   "source": [
    "print(bitcoin_cash.head())\n",
    "print(ethereum.head())\n",
    "print(ripple.head())\n",
    "print(iota.head())\n",
    "print(dash.head())\n",
    "print(monero.head())"
   ]
  },
  {
   "cell_type": "code",
   "execution_count": 47,
   "metadata": {},
   "outputs": [],
   "source": [
    "ethereum=ethereum.loc['2017-06-13':]\n",
    "ripple = ripple.loc['2017-06-13':]\n",
    "dash=dash.loc['2017-06-13':]\n",
    "monero = monero.loc['2017-06-13']"
   ]
  },
  {
   "cell_type": "code",
   "execution_count": 48,
   "metadata": {},
   "outputs": [
    {
     "data": {
      "text/plain": [
       "<matplotlib.legend.Legend at 0x2734e6cb948>"
      ]
     },
     "execution_count": 48,
     "metadata": {},
     "output_type": "execute_result"
    },
    {
     "data": {
      "image/png": "[encoded data removed]",
      "text/plain": [
       "<Figure size 432x288 with 1 Axes>"
      ]
     },
     "metadata": {},
     "output_type": "display_data"
    }
   ],
   "source": [
    "\n",
    "sns.set()\n",
    "plt.plot(bitcoin_cash.High)\n",
    "plt.plot(ethereum.High)\n",
    "plt.plot(ripple.High)\n",
    "plt.plot(iota.High)\n",
    "plt.plot(dash.High)\n",
    "plt.plot(monero.High)\n",
    "plt.legend('BERIDM', ncol=2)"
   ]
  },
  {
   "cell_type": "code",
   "execution_count": 49,
   "metadata": {},
   "outputs": [
    {
     "data": {
      "text/plain": [
       "<matplotlib.legend.Legend at 0x2734e768f48>"
      ]
     },
     "execution_count": 49,
     "metadata": {},
     "output_type": "execute_result"
    },
    {
     "data": {
      "image/png": "[encoded data removed]",
      "text/plain": [
       "<Figure size 432x288 with 1 Axes>"
      ]
     },
     "metadata": {},
     "output_type": "display_data"
    }
   ],
   "source": [
    "sns.set()\n",
    "plt.plot(bitcoin_cash.High)\n",
    "plt.plot(bitcoin_cash.Low)\n",
    "plt.plot(bitcoin_cash.Open)\n",
    "plt.plot(bitcoin_cash.Close)\n",
    "plt.legend('HLOC', ncol=2)"
   ]
  },
  {
   "cell_type": "code",
   "execution_count": 50,
   "metadata": {},
   "outputs": [],
   "source": [
    "data = [['Bitcoin',bitcoin_price['Market Cap'].mean()],['Bitcoin Cash',bitcoin_cash['Market Cap'].mean()],['Ethereum',ethereum['Market Cap'].mean()],['Ripple',ripple['Market Cap'].mean()],['Iota', iota['Market Cap'].mean()],['Dash',dash['Market Cap'].mean()],['Monero',monero['Market Cap'].mean()]]"
   ]
  },
  {
   "cell_type": "code",
   "execution_count": 61,
   "metadata": {},
   "outputs": [],
   "source": [
    "Cryptocurrency_Market_Capital = pd.DataFrame(data, columns=['Cryptocurrency','Market Capital'])"
   ]
  },
  {
   "cell_type": "code",
   "execution_count": 62,
   "metadata": {},
   "outputs": [
    {
     "data": {
      "text/html": [
       "<div>\n",
       "<style scoped>\n",
       "    .dataframe tbody tr th:only-of-type {\n",
       "        vertical-align: middle;\n",
       "    }\n",
       "\n",
       "    .dataframe tbody tr th {\n",
       "        vertical-align: top;\n",
       "    }\n",
       "\n",
       "    .dataframe thead th {\n",
       "        text-align: right;\n",
       "    }\n",
       "</style>\n",
       "<table border=\"1\" class=\"dataframe\">\n",
       "  <thead>\n",
       "    <tr style=\"text-align: right;\">\n",
       "      <th></th>\n",
       "      <th>Cryptocurrency</th>\n",
       "      <th>Market Capital</th>\n",
       "    </tr>\n",
       "  </thead>\n",
       "  <tbody>\n",
       "    <tr>\n",
       "      <td>0</td>\n",
       "      <td>Bitcoin</td>\n",
       "      <td>2.381454e+10</td>\n",
       "    </tr>\n",
       "    <tr>\n",
       "      <td>1</td>\n",
       "      <td>Bitcoin Cash</td>\n",
       "      <td>1.825384e+10</td>\n",
       "    </tr>\n",
       "    <tr>\n",
       "      <td>2</td>\n",
       "      <td>Ethereum</td>\n",
       "      <td>4.650720e+10</td>\n",
       "    </tr>\n",
       "    <tr>\n",
       "      <td>3</td>\n",
       "      <td>Ripple</td>\n",
       "      <td>2.131336e+10</td>\n",
       "    </tr>\n",
       "    <tr>\n",
       "      <td>4</td>\n",
       "      <td>Iota</td>\n",
       "      <td>3.788652e+09</td>\n",
       "    </tr>\n",
       "    <tr>\n",
       "      <td>5</td>\n",
       "      <td>Dash</td>\n",
       "      <td>3.704393e+09</td>\n",
       "    </tr>\n",
       "    <tr>\n",
       "      <td>6</td>\n",
       "      <td>Monero</td>\n",
       "      <td>7.279750e+08</td>\n",
       "    </tr>\n",
       "  </tbody>\n",
       "</table>\n",
       "</div>"
      ],
      "text/plain": [
       "  Cryptocurrency  Market Capital\n",
       "0        Bitcoin    2.381454e+10\n",
       "1   Bitcoin Cash    1.825384e+10\n",
       "2       Ethereum    4.650720e+10\n",
       "3         Ripple    2.131336e+10\n",
       "4           Iota    3.788652e+09\n",
       "5           Dash    3.704393e+09\n",
       "6         Monero    7.279750e+08"
      ]
     },
     "execution_count": 62,
     "metadata": {},
     "output_type": "execute_result"
    }
   ],
   "source": [
    "Cryptocurrency_Market_Capital"
   ]
  },
  {
   "cell_type": "code",
   "execution_count": 63,
   "metadata": {},
   "outputs": [
    {
     "data": {
      "text/plain": [
       "<matplotlib.axes._subplots.AxesSubplot at 0x2734e8b41c8>"
      ]
     },
     "execution_count": 63,
     "metadata": {},
     "output_type": "execute_result"
    },
    {
     "data": {
      "image/png": "[encoded data removed]",
      "text/plain": [
       "<Figure size 432x288 with 1 Axes>"
      ]
     },
     "metadata": {},
     "output_type": "display_data"
    }
   ],
   "source": [
    "sns.barplot(x = 'Cryptocurrency', y = 'Market Capital', data=Cryptocurrency_Market_Capital)"
   ]
  },
  {
   "cell_type": "markdown",
   "metadata": {},
   "source": [
    "* We can intrepret that Ethereum has the Highest Market Capital and Bitcoin stands Seconds in the Market"
   ]
  },
  {
   "cell_type": "code",
   "execution_count": null,
   "metadata": {},
   "outputs": [],
   "source": []
  }
 ],
 "metadata": {
  "kernelspec": {
   "display_name": "Python 3",
   "language": "python",
   "name": "python3"
  },
  "language_info": {
   "codemirror_mode": {
    "name": "ipython",
    "version": 3
   },
   "file_extension": ".py",
   "mimetype": "text/x-python",
   "name": "python",
   "nbconvert_exporter": "python",
   "pygments_lexer": "ipython3",
   "version": "3.7.4"
  }
 },
 "nbformat": 4,
 "nbformat_minor": 2
}
