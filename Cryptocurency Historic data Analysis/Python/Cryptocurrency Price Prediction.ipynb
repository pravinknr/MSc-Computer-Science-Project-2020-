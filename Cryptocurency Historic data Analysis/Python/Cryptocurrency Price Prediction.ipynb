{
 "cells": [
  {
   "cell_type": "markdown",
   "metadata": {},
   "source": [
    "# CryptoCurrency Price Prediction"
   ]
  },
  {
   "cell_type": "code",
   "execution_count": 87,
   "metadata": {},
   "outputs": [],
   "source": [
    "import numpy as np\n",
    "import pandas as pd\n",
    "import seaborn as sns\n",
    "\n",
    "from matplotlib import pyplot as plt\n",
    "%matplotlib inline\n",
    "\n",
    "from statsmodels.tsa.seasonal import seasonal_decompose\n",
    "\n",
    "from statsmodels.tsa.ar_model import AR\n",
    "\n",
    "from sklearn.metrics import mean_squared_error\n",
    "\n",
    "from pandas.plotting import autocorrelation_plot\n",
    "\n",
    "from statsmodels.graphics.tsaplots import plot_pacf\n",
    "\n",
    "from statsmodels.tsa.arima_model import ARIMA"
   ]
  },
  {
   "cell_type": "code",
   "execution_count": 113,
   "metadata": {},
   "outputs": [],
   "source": [
    "bitcoin_price = pd.read_csv('D:/Msc CS Project Final/Dataset/bitcoin_price.csv', header=0, parse_dates=[0])"
   ]
  },
  {
   "cell_type": "code",
   "execution_count": 114,
   "metadata": {},
   "outputs": [
    {
     "data": {
      "text/html": [
       "<div>\n",
       "<style scoped>\n",
       "    .dataframe tbody tr th:only-of-type {\n",
       "        vertical-align: middle;\n",
       "    }\n",
       "\n",
       "    .dataframe tbody tr th {\n",
       "        vertical-align: top;\n",
       "    }\n",
       "\n",
       "    .dataframe thead th {\n",
       "        text-align: right;\n",
       "    }\n",
       "</style>\n",
       "<table border=\"1\" class=\"dataframe\">\n",
       "  <thead>\n",
       "    <tr style=\"text-align: right;\">\n",
       "      <th></th>\n",
       "      <th>Date</th>\n",
       "      <th>Open</th>\n",
       "      <th>High</th>\n",
       "      <th>Low</th>\n",
       "      <th>Close</th>\n",
       "      <th>Volume</th>\n",
       "      <th>Market Cap</th>\n",
       "    </tr>\n",
       "  </thead>\n",
       "  <tbody>\n",
       "    <tr>\n",
       "      <td>0</td>\n",
       "      <td>2013-04-28</td>\n",
       "      <td>135.30</td>\n",
       "      <td>135.98</td>\n",
       "      <td>132.10</td>\n",
       "      <td>134.21</td>\n",
       "      <td>0</td>\n",
       "      <td>1,50,05,20,000</td>\n",
       "    </tr>\n",
       "    <tr>\n",
       "      <td>1</td>\n",
       "      <td>2013-04-29</td>\n",
       "      <td>134.44</td>\n",
       "      <td>147.49</td>\n",
       "      <td>134.00</td>\n",
       "      <td>144.54</td>\n",
       "      <td>0</td>\n",
       "      <td>1,49,11,60,000</td>\n",
       "    </tr>\n",
       "    <tr>\n",
       "      <td>2</td>\n",
       "      <td>2013-04-30</td>\n",
       "      <td>144.00</td>\n",
       "      <td>146.93</td>\n",
       "      <td>134.05</td>\n",
       "      <td>139.00</td>\n",
       "      <td>0</td>\n",
       "      <td>1,59,77,80,000</td>\n",
       "    </tr>\n",
       "    <tr>\n",
       "      <td>3</td>\n",
       "      <td>2013-05-01</td>\n",
       "      <td>139.00</td>\n",
       "      <td>139.89</td>\n",
       "      <td>107.72</td>\n",
       "      <td>116.99</td>\n",
       "      <td>0</td>\n",
       "      <td>1,54,28,20,000</td>\n",
       "    </tr>\n",
       "    <tr>\n",
       "      <td>4</td>\n",
       "      <td>2013-05-02</td>\n",
       "      <td>116.38</td>\n",
       "      <td>125.60</td>\n",
       "      <td>92.28</td>\n",
       "      <td>105.21</td>\n",
       "      <td>0</td>\n",
       "      <td>1,29,21,90,000</td>\n",
       "    </tr>\n",
       "  </tbody>\n",
       "</table>\n",
       "</div>"
      ],
      "text/plain": [
       "        Date    Open    High     Low   Close Volume      Market Cap\n",
       "0 2013-04-28  135.30  135.98  132.10  134.21      0  1,50,05,20,000\n",
       "1 2013-04-29  134.44  147.49  134.00  144.54      0  1,49,11,60,000\n",
       "2 2013-04-30  144.00  146.93  134.05  139.00      0  1,59,77,80,000\n",
       "3 2013-05-01  139.00  139.89  107.72  116.99      0  1,54,28,20,000\n",
       "4 2013-05-02  116.38  125.60   92.28  105.21      0  1,29,21,90,000"
      ]
     },
     "execution_count": 114,
     "metadata": {},
     "output_type": "execute_result"
    }
   ],
   "source": [
    "bitcoin_price.head()"
   ]
  },
  {
   "cell_type": "code",
   "execution_count": 115,
   "metadata": {},
   "outputs": [
    {
     "data": {
      "text/html": [
       "<div>\n",
       "<style scoped>\n",
       "    .dataframe tbody tr th:only-of-type {\n",
       "        vertical-align: middle;\n",
       "    }\n",
       "\n",
       "    .dataframe tbody tr th {\n",
       "        vertical-align: top;\n",
       "    }\n",
       "\n",
       "    .dataframe thead th {\n",
       "        text-align: right;\n",
       "    }\n",
       "</style>\n",
       "<table border=\"1\" class=\"dataframe\">\n",
       "  <thead>\n",
       "    <tr style=\"text-align: right;\">\n",
       "      <th></th>\n",
       "      <th>Date</th>\n",
       "      <th>Open</th>\n",
       "      <th>High</th>\n",
       "      <th>Low</th>\n",
       "      <th>Close</th>\n",
       "      <th>Volume</th>\n",
       "      <th>Market Cap</th>\n",
       "    </tr>\n",
       "  </thead>\n",
       "  <tbody>\n",
       "    <tr>\n",
       "      <td>1755</td>\n",
       "      <td>2018-02-16</td>\n",
       "      <td>10135.7</td>\n",
       "      <td>10324.1</td>\n",
       "      <td>9824.82</td>\n",
       "      <td>10233.9</td>\n",
       "      <td>7,29,61,60,000</td>\n",
       "      <td>1,70,96,00,00,000</td>\n",
       "    </tr>\n",
       "    <tr>\n",
       "      <td>1756</td>\n",
       "      <td>2018-02-17</td>\n",
       "      <td>10207.5</td>\n",
       "      <td>11139.5</td>\n",
       "      <td>10149.40</td>\n",
       "      <td>11112.7</td>\n",
       "      <td>8,66,08,80,000</td>\n",
       "      <td>1,72,19,10,00,000</td>\n",
       "    </tr>\n",
       "    <tr>\n",
       "      <td>1757</td>\n",
       "      <td>2018-02-18</td>\n",
       "      <td>11123.4</td>\n",
       "      <td>11349.8</td>\n",
       "      <td>10326.00</td>\n",
       "      <td>10551.8</td>\n",
       "      <td>8,74,40,10,000</td>\n",
       "      <td>1,87,66,30,00,000</td>\n",
       "    </tr>\n",
       "    <tr>\n",
       "      <td>1758</td>\n",
       "      <td>2018-02-19</td>\n",
       "      <td>10552.6</td>\n",
       "      <td>11273.8</td>\n",
       "      <td>10513.20</td>\n",
       "      <td>11225.3</td>\n",
       "      <td>7,65,20,90,000</td>\n",
       "      <td>1,78,05,50,00,000</td>\n",
       "    </tr>\n",
       "    <tr>\n",
       "      <td>1759</td>\n",
       "      <td>2018-02-20</td>\n",
       "      <td>11231.8</td>\n",
       "      <td>11958.5</td>\n",
       "      <td>11231.80</td>\n",
       "      <td>11403.7</td>\n",
       "      <td>9,92,65,40,000</td>\n",
       "      <td>1,89,53,60,00,000</td>\n",
       "    </tr>\n",
       "  </tbody>\n",
       "</table>\n",
       "</div>"
      ],
      "text/plain": [
       "           Date     Open     High       Low    Close          Volume  \\\n",
       "1755 2018-02-16  10135.7  10324.1   9824.82  10233.9  7,29,61,60,000   \n",
       "1756 2018-02-17  10207.5  11139.5  10149.40  11112.7  8,66,08,80,000   \n",
       "1757 2018-02-18  11123.4  11349.8  10326.00  10551.8  8,74,40,10,000   \n",
       "1758 2018-02-19  10552.6  11273.8  10513.20  11225.3  7,65,20,90,000   \n",
       "1759 2018-02-20  11231.8  11958.5  11231.80  11403.7  9,92,65,40,000   \n",
       "\n",
       "             Market Cap  \n",
       "1755  1,70,96,00,00,000  \n",
       "1756  1,72,19,10,00,000  \n",
       "1757  1,87,66,30,00,000  \n",
       "1758  1,78,05,50,00,000  \n",
       "1759  1,89,53,60,00,000  "
      ]
     },
     "execution_count": 115,
     "metadata": {},
     "output_type": "execute_result"
    }
   ],
   "source": [
    "bitcoin_price.tail()"
   ]
  },
  {
   "cell_type": "code",
   "execution_count": 116,
   "metadata": {},
   "outputs": [
    {
     "data": {
      "text/plain": [
       "(1760, 7)"
      ]
     },
     "execution_count": 116,
     "metadata": {},
     "output_type": "execute_result"
    }
   ],
   "source": [
    "bitcoin_price.shape"
   ]
  },
  {
   "cell_type": "code",
   "execution_count": 117,
   "metadata": {},
   "outputs": [
    {
     "data": {
      "text/html": [
       "<div>\n",
       "<style scoped>\n",
       "    .dataframe tbody tr th:only-of-type {\n",
       "        vertical-align: middle;\n",
       "    }\n",
       "\n",
       "    .dataframe tbody tr th {\n",
       "        vertical-align: top;\n",
       "    }\n",
       "\n",
       "    .dataframe thead th {\n",
       "        text-align: right;\n",
       "    }\n",
       "</style>\n",
       "<table border=\"1\" class=\"dataframe\">\n",
       "  <thead>\n",
       "    <tr style=\"text-align: right;\">\n",
       "      <th></th>\n",
       "      <th>Open</th>\n",
       "      <th>High</th>\n",
       "      <th>Low</th>\n",
       "      <th>Close</th>\n",
       "    </tr>\n",
       "  </thead>\n",
       "  <tbody>\n",
       "    <tr>\n",
       "      <td>count</td>\n",
       "      <td>1760.000000</td>\n",
       "      <td>1760.000000</td>\n",
       "      <td>1760.000000</td>\n",
       "      <td>1760.000000</td>\n",
       "    </tr>\n",
       "    <tr>\n",
       "      <td>mean</td>\n",
       "      <td>1479.574239</td>\n",
       "      <td>1536.991108</td>\n",
       "      <td>1418.251273</td>\n",
       "      <td>1485.747000</td>\n",
       "    </tr>\n",
       "    <tr>\n",
       "      <td>std</td>\n",
       "      <td>2950.457188</td>\n",
       "      <td>3092.950362</td>\n",
       "      <td>2780.859459</td>\n",
       "      <td>2959.265478</td>\n",
       "    </tr>\n",
       "    <tr>\n",
       "      <td>min</td>\n",
       "      <td>68.500000</td>\n",
       "      <td>74.560000</td>\n",
       "      <td>65.530000</td>\n",
       "      <td>68.430000</td>\n",
       "    </tr>\n",
       "    <tr>\n",
       "      <td>25%</td>\n",
       "      <td>274.730000</td>\n",
       "      <td>279.857500</td>\n",
       "      <td>268.640000</td>\n",
       "      <td>274.875000</td>\n",
       "    </tr>\n",
       "    <tr>\n",
       "      <td>50%</td>\n",
       "      <td>480.715000</td>\n",
       "      <td>495.195000</td>\n",
       "      <td>472.510000</td>\n",
       "      <td>482.810000</td>\n",
       "    </tr>\n",
       "    <tr>\n",
       "      <td>75%</td>\n",
       "      <td>870.085000</td>\n",
       "      <td>900.222500</td>\n",
       "      <td>831.682500</td>\n",
       "      <td>871.370000</td>\n",
       "    </tr>\n",
       "    <tr>\n",
       "      <td>max</td>\n",
       "      <td>19475.800000</td>\n",
       "      <td>20089.000000</td>\n",
       "      <td>18974.100000</td>\n",
       "      <td>19497.400000</td>\n",
       "    </tr>\n",
       "  </tbody>\n",
       "</table>\n",
       "</div>"
      ],
      "text/plain": [
       "               Open          High           Low         Close\n",
       "count   1760.000000   1760.000000   1760.000000   1760.000000\n",
       "mean    1479.574239   1536.991108   1418.251273   1485.747000\n",
       "std     2950.457188   3092.950362   2780.859459   2959.265478\n",
       "min       68.500000     74.560000     65.530000     68.430000\n",
       "25%      274.730000    279.857500    268.640000    274.875000\n",
       "50%      480.715000    495.195000    472.510000    482.810000\n",
       "75%      870.085000    900.222500    831.682500    871.370000\n",
       "max    19475.800000  20089.000000  18974.100000  19497.400000"
      ]
     },
     "execution_count": 117,
     "metadata": {},
     "output_type": "execute_result"
    }
   ],
   "source": [
    "bitcoin_price.describe()"
   ]
  },
  {
   "cell_type": "code",
   "execution_count": 118,
   "metadata": {},
   "outputs": [
    {
     "data": {
      "text/plain": [
       "dtype('float64')"
      ]
     },
     "execution_count": 118,
     "metadata": {},
     "output_type": "execute_result"
    }
   ],
   "source": [
    "bitcoin_price.High.dtype"
   ]
  },
  {
   "cell_type": "code",
   "execution_count": 119,
   "metadata": {},
   "outputs": [
    {
     "data": {
      "text/plain": [
       "dtype('O')"
      ]
     },
     "execution_count": 119,
     "metadata": {},
     "output_type": "execute_result"
    }
   ],
   "source": [
    "bitcoin_price.Volume.dtype"
   ]
  },
  {
   "cell_type": "code",
   "execution_count": 25,
   "metadata": {
    "collapsed": true
   },
   "outputs": [
    {
     "ename": "AttributeError",
     "evalue": "'Series' object has no attribute 'to_numeric'",
     "output_type": "error",
     "traceback": [
      "\u001b[1;31m---------------------------------------------------------------------------\u001b[0m",
      "\u001b[1;31mAttributeError\u001b[0m                            Traceback (most recent call last)",
      "\u001b[1;32m<ipython-input-25-7128c63f93f1>\u001b[0m in \u001b[0;36m<module>\u001b[1;34m\u001b[0m\n\u001b[1;32m----> 1\u001b[1;33m \u001b[0mbitcoin_price\u001b[0m\u001b[1;33m.\u001b[0m\u001b[0mVolume\u001b[0m\u001b[1;33m.\u001b[0m\u001b[0mto_numeric\u001b[0m\u001b[1;33m(\u001b[0m\u001b[1;33m)\u001b[0m\u001b[1;33m\u001b[0m\u001b[1;33m\u001b[0m\u001b[0m\n\u001b[0m",
      "\u001b[1;32m~\\Anaconda3\\lib\\site-packages\\pandas\\core\\generic.py\u001b[0m in \u001b[0;36m__getattr__\u001b[1;34m(self, name)\u001b[0m\n\u001b[0;32m   5177\u001b[0m             \u001b[1;32mif\u001b[0m \u001b[0mself\u001b[0m\u001b[1;33m.\u001b[0m\u001b[0m_info_axis\u001b[0m\u001b[1;33m.\u001b[0m\u001b[0m_can_hold_identifiers_and_holds_name\u001b[0m\u001b[1;33m(\u001b[0m\u001b[0mname\u001b[0m\u001b[1;33m)\u001b[0m\u001b[1;33m:\u001b[0m\u001b[1;33m\u001b[0m\u001b[1;33m\u001b[0m\u001b[0m\n\u001b[0;32m   5178\u001b[0m                 \u001b[1;32mreturn\u001b[0m \u001b[0mself\u001b[0m\u001b[1;33m[\u001b[0m\u001b[0mname\u001b[0m\u001b[1;33m]\u001b[0m\u001b[1;33m\u001b[0m\u001b[1;33m\u001b[0m\u001b[0m\n\u001b[1;32m-> 5179\u001b[1;33m             \u001b[1;32mreturn\u001b[0m \u001b[0mobject\u001b[0m\u001b[1;33m.\u001b[0m\u001b[0m__getattribute__\u001b[0m\u001b[1;33m(\u001b[0m\u001b[0mself\u001b[0m\u001b[1;33m,\u001b[0m \u001b[0mname\u001b[0m\u001b[1;33m)\u001b[0m\u001b[1;33m\u001b[0m\u001b[1;33m\u001b[0m\u001b[0m\n\u001b[0m\u001b[0;32m   5180\u001b[0m \u001b[1;33m\u001b[0m\u001b[0m\n\u001b[0;32m   5181\u001b[0m     \u001b[1;32mdef\u001b[0m \u001b[0m__setattr__\u001b[0m\u001b[1;33m(\u001b[0m\u001b[0mself\u001b[0m\u001b[1;33m,\u001b[0m \u001b[0mname\u001b[0m\u001b[1;33m,\u001b[0m \u001b[0mvalue\u001b[0m\u001b[1;33m)\u001b[0m\u001b[1;33m:\u001b[0m\u001b[1;33m\u001b[0m\u001b[1;33m\u001b[0m\u001b[0m\n",
      "\u001b[1;31mAttributeError\u001b[0m: 'Series' object has no attribute 'to_numeric'"
     ]
    }
   ],
   "source": [
    "bitcoin_price.Volume.to_numeric()"
   ]
  },
  {
   "cell_type": "code",
   "execution_count": 120,
   "metadata": {},
   "outputs": [
    {
     "data": {
      "text/plain": [
       "[<matplotlib.lines.Line2D at 0x273f5d78888>]"
      ]
     },
     "execution_count": 120,
     "metadata": {},
     "output_type": "execute_result"
    },
    {
     "data": {
      "image/png": "[encoded data removed]",
      "text/plain": [
       "<Figure size 432x288 with 1 Axes>"
      ]
     },
     "metadata": {
      "needs_background": "light"
     },
     "output_type": "display_data"
    }
   ],
   "source": [
    "plt.plot(bitcoin_price.Open, color='blue')\n",
    "plt.plot(bitcoin_price.Close, color='red')\n",
    "plt.plot(bitcoin_price.High, color = 'green')"
   ]
  },
  {
   "cell_type": "code",
   "execution_count": 121,
   "metadata": {},
   "outputs": [
    {
     "data": {
      "text/plain": [
       "<matplotlib.axes._subplots.AxesSubplot at 0x273f56ee4c8>"
      ]
     },
     "execution_count": 121,
     "metadata": {},
     "output_type": "execute_result"
    },
    {
     "data": {
      "image/png": "[encoded data removed]",
      "text/plain": [
       "<Figure size 432x288 with 1 Axes>"
      ]
     },
     "metadata": {
      "needs_background": "light"
     },
     "output_type": "display_data"
    }
   ],
   "source": [
    "sns.boxplot(bitcoin_price.High)"
   ]
  },
  {
   "cell_type": "code",
   "execution_count": 122,
   "metadata": {},
   "outputs": [
    {
     "data": {
      "text/plain": [
       "<matplotlib.axes._subplots.AxesSubplot at 0x273f575d408>"
      ]
     },
     "execution_count": 122,
     "metadata": {},
     "output_type": "execute_result"
    },
    {
     "data": {
      "image/png": "[encoded data removed]",
      "text/plain": [
       "<Figure size 432x288 with 1 Axes>"
      ]
     },
     "metadata": {
      "needs_background": "light"
     },
     "output_type": "display_data"
    }
   ],
   "source": [
    "sns.boxplot(bitcoin_price.Low)"
   ]
  },
  {
   "cell_type": "code",
   "execution_count": 123,
   "metadata": {},
   "outputs": [
    {
     "data": {
      "text/html": [
       "<div>\n",
       "<style scoped>\n",
       "    .dataframe tbody tr th:only-of-type {\n",
       "        vertical-align: middle;\n",
       "    }\n",
       "\n",
       "    .dataframe tbody tr th {\n",
       "        vertical-align: top;\n",
       "    }\n",
       "\n",
       "    .dataframe thead th {\n",
       "        text-align: right;\n",
       "    }\n",
       "</style>\n",
       "<table border=\"1\" class=\"dataframe\">\n",
       "  <thead>\n",
       "    <tr style=\"text-align: right;\">\n",
       "      <th></th>\n",
       "      <th>Date</th>\n",
       "      <th>High</th>\n",
       "    </tr>\n",
       "    <tr>\n",
       "      <th>Date</th>\n",
       "      <th></th>\n",
       "      <th></th>\n",
       "    </tr>\n",
       "  </thead>\n",
       "  <tbody>\n",
       "    <tr>\n",
       "      <td>2013-04-28</td>\n",
       "      <td>2013-04-28</td>\n",
       "      <td>135.98</td>\n",
       "    </tr>\n",
       "    <tr>\n",
       "      <td>2013-04-29</td>\n",
       "      <td>2013-04-29</td>\n",
       "      <td>147.49</td>\n",
       "    </tr>\n",
       "    <tr>\n",
       "      <td>2013-04-30</td>\n",
       "      <td>2013-04-30</td>\n",
       "      <td>146.93</td>\n",
       "    </tr>\n",
       "    <tr>\n",
       "      <td>2013-05-01</td>\n",
       "      <td>2013-05-01</td>\n",
       "      <td>139.89</td>\n",
       "    </tr>\n",
       "    <tr>\n",
       "      <td>2013-05-02</td>\n",
       "      <td>2013-05-02</td>\n",
       "      <td>125.60</td>\n",
       "    </tr>\n",
       "  </tbody>\n",
       "</table>\n",
       "</div>"
      ],
      "text/plain": [
       "                 Date    High\n",
       "Date                         \n",
       "2013-04-28 2013-04-28  135.98\n",
       "2013-04-29 2013-04-29  147.49\n",
       "2013-04-30 2013-04-30  146.93\n",
       "2013-05-01 2013-05-01  139.89\n",
       "2013-05-02 2013-05-02  125.60"
      ]
     },
     "execution_count": 123,
     "metadata": {},
     "output_type": "execute_result"
    }
   ],
   "source": [
    "bitcoin_price_high = bitcoin_price.iloc[:,[0,2]]\n",
    "bitcoin_naive = bitcoin_price_high.copy()\n",
    "bitcoin_price_high.index = bitcoin_price_high.Date\n",
    "bitcoin_price_high.head()"
   ]
  },
  {
   "cell_type": "code",
   "execution_count": 124,
   "metadata": {},
   "outputs": [
    {
     "data": {
      "text/html": [
       "<div>\n",
       "<style scoped>\n",
       "    .dataframe tbody tr th:only-of-type {\n",
       "        vertical-align: middle;\n",
       "    }\n",
       "\n",
       "    .dataframe tbody tr th {\n",
       "        vertical-align: top;\n",
       "    }\n",
       "\n",
       "    .dataframe thead th {\n",
       "        text-align: right;\n",
       "    }\n",
       "</style>\n",
       "<table border=\"1\" class=\"dataframe\">\n",
       "  <thead>\n",
       "    <tr style=\"text-align: right;\">\n",
       "      <th></th>\n",
       "      <th>Date</th>\n",
       "      <th>High</th>\n",
       "    </tr>\n",
       "    <tr>\n",
       "      <th>Date</th>\n",
       "      <th></th>\n",
       "      <th></th>\n",
       "    </tr>\n",
       "  </thead>\n",
       "  <tbody>\n",
       "    <tr>\n",
       "      <td>2018-02-16</td>\n",
       "      <td>2018-02-16</td>\n",
       "      <td>10324.1</td>\n",
       "    </tr>\n",
       "    <tr>\n",
       "      <td>2018-02-17</td>\n",
       "      <td>2018-02-17</td>\n",
       "      <td>11139.5</td>\n",
       "    </tr>\n",
       "    <tr>\n",
       "      <td>2018-02-18</td>\n",
       "      <td>2018-02-18</td>\n",
       "      <td>11349.8</td>\n",
       "    </tr>\n",
       "    <tr>\n",
       "      <td>2018-02-19</td>\n",
       "      <td>2018-02-19</td>\n",
       "      <td>11273.8</td>\n",
       "    </tr>\n",
       "    <tr>\n",
       "      <td>2018-02-20</td>\n",
       "      <td>2018-02-20</td>\n",
       "      <td>11958.5</td>\n",
       "    </tr>\n",
       "  </tbody>\n",
       "</table>\n",
       "</div>"
      ],
      "text/plain": [
       "                 Date     High\n",
       "Date                          \n",
       "2018-02-16 2018-02-16  10324.1\n",
       "2018-02-17 2018-02-17  11139.5\n",
       "2018-02-18 2018-02-18  11349.8\n",
       "2018-02-19 2018-02-19  11273.8\n",
       "2018-02-20 2018-02-20  11958.5"
      ]
     },
     "execution_count": 124,
     "metadata": {},
     "output_type": "execute_result"
    }
   ],
   "source": [
    "bitcoin_price_high.tail()"
   ]
  },
  {
   "cell_type": "code",
   "execution_count": 125,
   "metadata": {},
   "outputs": [
    {
     "data": {
      "text/plain": [
       "[<matplotlib.lines.Line2D at 0x273f57d6348>]"
      ]
     },
     "execution_count": 125,
     "metadata": {},
     "output_type": "execute_result"
    },
    {
     "data": {
      "image/png": "[encoded data removed]",
      "text/plain": [
       "<Figure size 432x288 with 1 Axes>"
      ]
     },
     "metadata": {
      "needs_background": "light"
     },
     "output_type": "display_data"
    }
   ],
   "source": [
    "plt.plot(bitcoin_price_high.High)"
   ]
  },
  {
   "cell_type": "code",
   "execution_count": 126,
   "metadata": {},
   "outputs": [
    {
     "name": "stderr",
     "output_type": "stream",
     "text": [
      "C:\\Users\\pravi\\Anaconda3\\lib\\site-packages\\ipykernel_launcher.py:2: SettingWithCopyWarning: \n",
      "A value is trying to be set on a copy of a slice from a DataFrame.\n",
      "Try using .loc[row_indexer,col_indexer] = value instead\n",
      "\n",
      "See the caveats in the documentation: http://pandas.pydata.org/pandas-docs/stable/user_guide/indexing.html#returning-a-view-versus-a-copy\n",
      "  \n"
     ]
    },
    {
     "data": {
      "text/html": [
       "<div>\n",
       "<style scoped>\n",
       "    .dataframe tbody tr th:only-of-type {\n",
       "        vertical-align: middle;\n",
       "    }\n",
       "\n",
       "    .dataframe tbody tr th {\n",
       "        vertical-align: top;\n",
       "    }\n",
       "\n",
       "    .dataframe thead th {\n",
       "        text-align: right;\n",
       "    }\n",
       "</style>\n",
       "<table border=\"1\" class=\"dataframe\">\n",
       "  <thead>\n",
       "    <tr style=\"text-align: right;\">\n",
       "      <th></th>\n",
       "      <th>Date</th>\n",
       "      <th>High</th>\n",
       "      <th>Lag1</th>\n",
       "    </tr>\n",
       "    <tr>\n",
       "      <th>Date</th>\n",
       "      <th></th>\n",
       "      <th></th>\n",
       "      <th></th>\n",
       "    </tr>\n",
       "  </thead>\n",
       "  <tbody>\n",
       "    <tr>\n",
       "      <td>2013-04-28</td>\n",
       "      <td>2013-04-28</td>\n",
       "      <td>135.98</td>\n",
       "      <td>NaN</td>\n",
       "    </tr>\n",
       "    <tr>\n",
       "      <td>2013-04-29</td>\n",
       "      <td>2013-04-29</td>\n",
       "      <td>147.49</td>\n",
       "      <td>135.98</td>\n",
       "    </tr>\n",
       "    <tr>\n",
       "      <td>2013-04-30</td>\n",
       "      <td>2013-04-30</td>\n",
       "      <td>146.93</td>\n",
       "      <td>147.49</td>\n",
       "    </tr>\n",
       "    <tr>\n",
       "      <td>2013-05-01</td>\n",
       "      <td>2013-05-01</td>\n",
       "      <td>139.89</td>\n",
       "      <td>146.93</td>\n",
       "    </tr>\n",
       "    <tr>\n",
       "      <td>2013-05-02</td>\n",
       "      <td>2013-05-02</td>\n",
       "      <td>125.60</td>\n",
       "      <td>139.89</td>\n",
       "    </tr>\n",
       "  </tbody>\n",
       "</table>\n",
       "</div>"
      ],
      "text/plain": [
       "                 Date    High    Lag1\n",
       "Date                                 \n",
       "2013-04-28 2013-04-28  135.98     NaN\n",
       "2013-04-29 2013-04-29  147.49  135.98\n",
       "2013-04-30 2013-04-30  146.93  147.49\n",
       "2013-05-01 2013-05-01  139.89  146.93\n",
       "2013-05-02 2013-05-02  125.60  139.89"
      ]
     },
     "execution_count": 126,
     "metadata": {},
     "output_type": "execute_result"
    }
   ],
   "source": [
    "# Lets create Lag1 Variable - This Variable is Used in Naive (Persistence) Model\n",
    "bitcoin_price_high['Lag1'] = bitcoin_price_high.High.shift(1)\n",
    "bitcoin_price_high.head()"
   ]
  },
  {
   "cell_type": "code",
   "execution_count": 127,
   "metadata": {},
   "outputs": [
    {
     "data": {
      "text/plain": [
       "[<matplotlib.lines.Line2D at 0x273f5834c08>]"
      ]
     },
     "execution_count": 127,
     "metadata": {},
     "output_type": "execute_result"
    },
    {
     "data": {
      "image/png": "[encoded data removed]",
      "text/plain": [
       "<Figure size 432x288 with 1 Axes>"
      ]
     },
     "metadata": {
      "needs_background": "light"
     },
     "output_type": "display_data"
    }
   ],
   "source": [
    "plt.plot(bitcoin_price_high.Lag1)"
   ]
  },
  {
   "cell_type": "code",
   "execution_count": 128,
   "metadata": {},
   "outputs": [
    {
     "name": "stderr",
     "output_type": "stream",
     "text": [
      "C:\\Users\\pravi\\Anaconda3\\lib\\site-packages\\ipykernel_launcher.py:1: SettingWithCopyWarning: \n",
      "A value is trying to be set on a copy of a slice from a DataFrame.\n",
      "Try using .loc[row_indexer,col_indexer] = value instead\n",
      "\n",
      "See the caveats in the documentation: http://pandas.pydata.org/pandas-docs/stable/user_guide/indexing.html#returning-a-view-versus-a-copy\n",
      "  \"\"\"Entry point for launching an IPython kernel.\n"
     ]
    },
    {
     "data": {
      "text/html": [
       "<div>\n",
       "<style scoped>\n",
       "    .dataframe tbody tr th:only-of-type {\n",
       "        vertical-align: middle;\n",
       "    }\n",
       "\n",
       "    .dataframe tbody tr th {\n",
       "        vertical-align: top;\n",
       "    }\n",
       "\n",
       "    .dataframe thead th {\n",
       "        text-align: right;\n",
       "    }\n",
       "</style>\n",
       "<table border=\"1\" class=\"dataframe\">\n",
       "  <thead>\n",
       "    <tr style=\"text-align: right;\">\n",
       "      <th></th>\n",
       "      <th>Date</th>\n",
       "      <th>High</th>\n",
       "      <th>Lag1</th>\n",
       "      <th>High_Diff_1</th>\n",
       "    </tr>\n",
       "    <tr>\n",
       "      <th>Date</th>\n",
       "      <th></th>\n",
       "      <th></th>\n",
       "      <th></th>\n",
       "      <th></th>\n",
       "    </tr>\n",
       "  </thead>\n",
       "  <tbody>\n",
       "    <tr>\n",
       "      <td>2013-04-28</td>\n",
       "      <td>2013-04-28</td>\n",
       "      <td>135.98</td>\n",
       "      <td>NaN</td>\n",
       "      <td>NaN</td>\n",
       "    </tr>\n",
       "    <tr>\n",
       "      <td>2013-04-29</td>\n",
       "      <td>2013-04-29</td>\n",
       "      <td>147.49</td>\n",
       "      <td>135.98</td>\n",
       "      <td>11.51</td>\n",
       "    </tr>\n",
       "    <tr>\n",
       "      <td>2013-04-30</td>\n",
       "      <td>2013-04-30</td>\n",
       "      <td>146.93</td>\n",
       "      <td>147.49</td>\n",
       "      <td>-0.56</td>\n",
       "    </tr>\n",
       "    <tr>\n",
       "      <td>2013-05-01</td>\n",
       "      <td>2013-05-01</td>\n",
       "      <td>139.89</td>\n",
       "      <td>146.93</td>\n",
       "      <td>-7.04</td>\n",
       "    </tr>\n",
       "    <tr>\n",
       "      <td>2013-05-02</td>\n",
       "      <td>2013-05-02</td>\n",
       "      <td>125.60</td>\n",
       "      <td>139.89</td>\n",
       "      <td>-14.29</td>\n",
       "    </tr>\n",
       "  </tbody>\n",
       "</table>\n",
       "</div>"
      ],
      "text/plain": [
       "                 Date    High    Lag1  High_Diff_1\n",
       "Date                                              \n",
       "2013-04-28 2013-04-28  135.98     NaN          NaN\n",
       "2013-04-29 2013-04-29  147.49  135.98        11.51\n",
       "2013-04-30 2013-04-30  146.93  147.49        -0.56\n",
       "2013-05-01 2013-05-01  139.89  146.93        -7.04\n",
       "2013-05-02 2013-05-02  125.60  139.89       -14.29"
      ]
     },
     "execution_count": 128,
     "metadata": {},
     "output_type": "execute_result"
    }
   ],
   "source": [
    "bitcoin_price_high['High_Diff_1'] = bitcoin_price_high.High.diff(periods = 1)\n",
    "bitcoin_price_high.head()"
   ]
  },
  {
   "cell_type": "code",
   "execution_count": 20,
   "metadata": {},
   "outputs": [
    {
     "data": {
      "image/png": "[encoded data removed]",
      "text/plain": [
       "<Figure size 432x288 with 4 Axes>"
      ]
     },
     "execution_count": 20,
     "metadata": {},
     "output_type": "execute_result"
    },
    {
     "data": {
      "image/png": "[encoded data removed]",
      "text/plain": [
       "<Figure size 432x288 with 4 Axes>"
      ]
     },
     "metadata": {
      "needs_background": "light"
     },
     "output_type": "display_data"
    }
   ],
   "source": [
    "# Lets Decompose and See the Trend and Seasonality\n",
    "result = seasonal_decompose(bitcoin_price_high.High, model = 'additive')\n",
    "result.plot()"
   ]
  },
  {
   "cell_type": "code",
   "execution_count": 25,
   "metadata": {},
   "outputs": [],
   "source": [
    "# Here we can see that the Data has a potential trend but no Seasonality"
   ]
  },
  {
   "cell_type": "code",
   "execution_count": 129,
   "metadata": {},
   "outputs": [
    {
     "data": {
      "image/png": "[encoded data removed]",
      "text/plain": [
       "<Figure size 432x288 with 4 Axes>"
      ]
     },
     "execution_count": 129,
     "metadata": {},
     "output_type": "execute_result"
    },
    {
     "data": {
      "image/png": "[encoded data removed]",
      "text/plain": [
       "<Figure size 432x288 with 4 Axes>"
      ]
     },
     "metadata": {
      "needs_background": "light"
     },
     "output_type": "display_data"
    }
   ],
   "source": [
    "result2 = seasonal_decompose(bitcoin_price_high.iloc[1:,3], model='additive')\n",
    "result2.plot()"
   ]
  },
  {
   "cell_type": "code",
   "execution_count": 26,
   "metadata": {},
   "outputs": [],
   "source": [
    "# Now we see that there is no trend."
   ]
  },
  {
   "cell_type": "code",
   "execution_count": 130,
   "metadata": {},
   "outputs": [
    {
     "data": {
      "text/plain": [
       "<matplotlib.axes._subplots.AxesSubplot at 0x273f5adf048>"
      ]
     },
     "execution_count": 130,
     "metadata": {},
     "output_type": "execute_result"
    },
    {
     "data": {
      "image/png": "[encoded data removed]",
      "text/plain": [
       "<Figure size 432x288 with 1 Axes>"
      ]
     },
     "metadata": {
      "needs_background": "light"
     },
     "output_type": "display_data"
    }
   ],
   "source": [
    "bitcoin_price_high.High.plot()\n",
    "bitcoin_price_high.High_Diff_1.plot(color='red')"
   ]
  },
  {
   "cell_type": "code",
   "execution_count": 132,
   "metadata": {},
   "outputs": [
    {
     "data": {
      "text/html": [
       "<div>\n",
       "<style scoped>\n",
       "    .dataframe tbody tr th:only-of-type {\n",
       "        vertical-align: middle;\n",
       "    }\n",
       "\n",
       "    .dataframe tbody tr th {\n",
       "        vertical-align: top;\n",
       "    }\n",
       "\n",
       "    .dataframe thead th {\n",
       "        text-align: right;\n",
       "    }\n",
       "</style>\n",
       "<table border=\"1\" class=\"dataframe\">\n",
       "  <thead>\n",
       "    <tr style=\"text-align: right;\">\n",
       "      <th></th>\n",
       "      <th>Date</th>\n",
       "      <th>High</th>\n",
       "    </tr>\n",
       "  </thead>\n",
       "  <tbody>\n",
       "    <tr>\n",
       "      <td>0</td>\n",
       "      <td>2013-04-28</td>\n",
       "      <td>135.98</td>\n",
       "    </tr>\n",
       "    <tr>\n",
       "      <td>1</td>\n",
       "      <td>2013-04-29</td>\n",
       "      <td>147.49</td>\n",
       "    </tr>\n",
       "    <tr>\n",
       "      <td>2</td>\n",
       "      <td>2013-04-30</td>\n",
       "      <td>146.93</td>\n",
       "    </tr>\n",
       "    <tr>\n",
       "      <td>3</td>\n",
       "      <td>2013-05-01</td>\n",
       "      <td>139.89</td>\n",
       "    </tr>\n",
       "    <tr>\n",
       "      <td>4</td>\n",
       "      <td>2013-05-02</td>\n",
       "      <td>125.60</td>\n",
       "    </tr>\n",
       "  </tbody>\n",
       "</table>\n",
       "</div>"
      ],
      "text/plain": [
       "        Date    High\n",
       "0 2013-04-28  135.98\n",
       "1 2013-04-29  147.49\n",
       "2 2013-04-30  146.93\n",
       "3 2013-05-01  139.89\n",
       "4 2013-05-02  125.60"
      ]
     },
     "execution_count": 132,
     "metadata": {},
     "output_type": "execute_result"
    }
   ],
   "source": [
    "bitcoin_naive = bitcoin_price.iloc[:,[0,2]]\n",
    "bitcoin_naive.head()"
   ]
  },
  {
   "cell_type": "code",
   "execution_count": 133,
   "metadata": {},
   "outputs": [
    {
     "name": "stderr",
     "output_type": "stream",
     "text": [
      "C:\\Users\\pravi\\Anaconda3\\lib\\site-packages\\ipykernel_launcher.py:1: SettingWithCopyWarning: \n",
      "A value is trying to be set on a copy of a slice from a DataFrame.\n",
      "Try using .loc[row_indexer,col_indexer] = value instead\n",
      "\n",
      "See the caveats in the documentation: http://pandas.pydata.org/pandas-docs/stable/user_guide/indexing.html#returning-a-view-versus-a-copy\n",
      "  \"\"\"Entry point for launching an IPython kernel.\n"
     ]
    },
    {
     "data": {
      "text/plain": [
       "(        Date    High    Lag1\n",
       " 0 2013-04-28  135.98     NaN\n",
       " 1 2013-04-29  147.49  135.98\n",
       " 2 2013-04-30  146.93  147.49\n",
       " 3 2013-05-01  139.89  146.93\n",
       " 4 2013-05-02  125.60  139.89,            Date     High     Lag1\n",
       " 1755 2018-02-16  10324.1  10234.8\n",
       " 1756 2018-02-17  11139.5  10324.1\n",
       " 1757 2018-02-18  11349.8  11139.5\n",
       " 1758 2018-02-19  11273.8  11349.8\n",
       " 1759 2018-02-20  11958.5  11273.8)"
      ]
     },
     "execution_count": 133,
     "metadata": {},
     "output_type": "execute_result"
    }
   ],
   "source": [
    "bitcoin_naive['Lag1'] = bitcoin_naive.High.shift(1)\n",
    "bitcoin_naive.head(),bitcoin_naive.tail()"
   ]
  },
  {
   "cell_type": "code",
   "execution_count": 154,
   "metadata": {},
   "outputs": [
    {
     "name": "stdout",
     "output_type": "stream",
     "text": [
      "        Date    High    Lag1\n",
      "1 2013-04-29  147.49  135.98\n",
      "2 2013-04-30  146.93  147.49\n",
      "3 2013-05-01  139.89  146.93\n",
      "4 2013-05-02  125.60  139.89\n",
      "5 2013-05-03  108.13  125.60\n",
      "           Date     High     Lag1\n",
      "1584 2017-08-29  4625.68  4403.93\n",
      "1585 2017-08-30  4626.52  4625.68\n",
      "1586 2017-08-31  4736.05  4626.52\n",
      "1587 2017-09-01  4892.01  4736.05\n",
      "1588 2017-09-02  4975.04  4892.01\n"
     ]
    },
    {
     "data": {
      "text/plain": [
       "(None, None)"
      ]
     },
     "execution_count": 154,
     "metadata": {},
     "output_type": "execute_result"
    }
   ],
   "source": [
    "# Lets Divide the Data into Test and Train to check the Accuracy of the Naive(persistence) model.\n",
    "# We will Consider the Orginal Observation and the Lagged Observation\n",
    "train_size = int(len(bitcoin_naive)*0.90)\n",
    "train = bitcoin_naive[1:train_size]\n",
    "test = bitcoin_naive[train_size:]\n",
    "print(train.head()), print(test.head())"
   ]
  },
  {
   "cell_type": "code",
   "execution_count": 155,
   "metadata": {},
   "outputs": [
    {
     "data": {
      "text/plain": [
       "176"
      ]
     },
     "execution_count": 155,
     "metadata": {},
     "output_type": "execute_result"
    }
   ],
   "source": [
    "len(test)"
   ]
  },
  {
   "cell_type": "code",
   "execution_count": 156,
   "metadata": {},
   "outputs": [],
   "source": [
    "train_x, train_y = train.Lag1, train.High\n",
    "test_x, test_y = test.Lag1, test.High"
   ]
  },
  {
   "cell_type": "code",
   "execution_count": 157,
   "metadata": {},
   "outputs": [],
   "source": [
    "prediction = test_x.copy()"
   ]
  },
  {
   "cell_type": "code",
   "execution_count": 158,
   "metadata": {},
   "outputs": [
    {
     "data": {
      "text/plain": [
       "408403.742786932"
      ]
     },
     "execution_count": 158,
     "metadata": {},
     "output_type": "execute_result"
    }
   ],
   "source": [
    "# Mean Squared error\n",
    "mse = mean_squared_error(prediction, test_y)\n",
    "mse"
   ]
  },
  {
   "cell_type": "code",
   "execution_count": 159,
   "metadata": {},
   "outputs": [
    {
     "data": {
      "text/plain": [
       "[<matplotlib.lines.Line2D at 0x273f5cdcf08>]"
      ]
     },
     "execution_count": 159,
     "metadata": {},
     "output_type": "execute_result"
    },
    {
     "data": {
      "image/png": "[encoded data removed]",
      "text/plain": [
       "<Figure size 432x288 with 1 Axes>"
      ]
     },
     "metadata": {
      "needs_background": "light"
     },
     "output_type": "display_data"
    }
   ],
   "source": [
    "plt.plot(test_y)\n",
    "plt.plot(prediction, color='red')"
   ]
  },
  {
   "cell_type": "code",
   "execution_count": 79,
   "metadata": {},
   "outputs": [],
   "source": [
    "# The Mean Squared Error of the Naive Persistence Model is 209868.2541491478\n",
    "# Lets build Different Advanced Models"
   ]
  },
  {
   "cell_type": "markdown",
   "metadata": {},
   "source": [
    "## Lets build an Auto Regression Model"
   ]
  },
  {
   "cell_type": "code",
   "execution_count": 160,
   "metadata": {},
   "outputs": [
    {
     "data": {
      "text/plain": [
       "0    135.98\n",
       "1    147.49\n",
       "2    146.93\n",
       "3    139.89\n",
       "4    125.60\n",
       "Name: High, dtype: float64"
      ]
     },
     "execution_count": 160,
     "metadata": {},
     "output_type": "execute_result"
    }
   ],
   "source": [
    "bitcoin_high_AR = bitcoin_naive['High']\n",
    "bitcoin_high_AR.head()"
   ]
  },
  {
   "cell_type": "code",
   "execution_count": 161,
   "metadata": {},
   "outputs": [],
   "source": [
    "AR_train, AR_test = bitcoin_high_AR.iloc[0:train_size], bitcoin_high_AR[train_size:]"
   ]
  },
  {
   "cell_type": "code",
   "execution_count": 162,
   "metadata": {},
   "outputs": [],
   "source": [
    "bitcoin_AR_Model = AR(AR_train)"
   ]
  },
  {
   "cell_type": "code",
   "execution_count": 163,
   "metadata": {},
   "outputs": [],
   "source": [
    "bitcoin_AR_Model_fit = bitcoin_AR_Model.fit()"
   ]
  },
  {
   "cell_type": "markdown",
   "metadata": {},
   "source": [
    "* No of Lagged Variables"
   ]
  },
  {
   "cell_type": "code",
   "execution_count": 164,
   "metadata": {},
   "outputs": [
    {
     "data": {
      "text/plain": [
       "24"
      ]
     },
     "execution_count": 164,
     "metadata": {},
     "output_type": "execute_result"
    }
   ],
   "source": [
    "bitcoin_AR_Model_fit.k_ar"
   ]
  },
  {
   "cell_type": "markdown",
   "metadata": {},
   "source": [
    "* To get the Coefficients of the Lagged Variables."
   ]
  },
  {
   "cell_type": "code",
   "execution_count": 165,
   "metadata": {},
   "outputs": [
    {
     "data": {
      "text/plain": [
       "const      -1.399345\n",
       "L1.High     1.114191\n",
       "L2.High    -0.133582\n",
       "L3.High     0.067437\n",
       "L4.High    -0.084618\n",
       "L5.High     0.040497\n",
       "L6.High    -0.045982\n",
       "L7.High     0.065076\n",
       "L8.High     0.089965\n",
       "L9.High    -0.254149\n",
       "L10.High    0.108024\n",
       "L11.High    0.163700\n",
       "L12.High   -0.163336\n",
       "L13.High    0.071140\n",
       "L14.High   -0.014063\n",
       "L15.High   -0.025824\n",
       "L16.High    0.097957\n",
       "L17.High    0.015387\n",
       "L18.High   -0.070640\n",
       "L19.High   -0.129753\n",
       "L20.High    0.088543\n",
       "L21.High   -0.076248\n",
       "L22.High    0.032443\n",
       "L23.High    0.094343\n",
       "L24.High   -0.044935\n",
       "dtype: float64"
      ]
     },
     "execution_count": 165,
     "metadata": {},
     "output_type": "execute_result"
    }
   ],
   "source": [
    "bitcoin_AR_Model_fit.params"
   ]
  },
  {
   "cell_type": "code",
   "execution_count": 166,
   "metadata": {},
   "outputs": [],
   "source": [
    "bitcoin_AR_Predictions = bitcoin_AR_Model_fit.predict(start=len(train), end=len(train)+len(test)-1)"
   ]
  },
  {
   "cell_type": "code",
   "execution_count": 167,
   "metadata": {},
   "outputs": [
    {
     "name": "stdout",
     "output_type": "stream",
     "text": [
      "1583    4543.716709\n",
      "1584    4441.155144\n",
      "1585    4508.002064\n",
      "1586    4557.499156\n",
      "1587    4532.294493\n",
      "dtype: float64\n",
      "1584    4625.68\n",
      "1585    4626.52\n",
      "1586    4736.05\n",
      "1587    4892.01\n",
      "1588    4975.04\n",
      "Name: High, dtype: float64\n",
      "1754    12617.774686\n",
      "1755    12698.560506\n",
      "1756    12779.874309\n",
      "1757    12861.720125\n",
      "1758    12944.101313\n",
      "dtype: float64\n",
      "1755    10324.1\n",
      "1756    11139.5\n",
      "1757    11349.8\n",
      "1758    11273.8\n",
      "1759    11958.5\n",
      "Name: High, dtype: float64\n"
     ]
    }
   ],
   "source": [
    "# These are the Pedicted Values for Test Set\n",
    "print(bitcoin_AR_Predictions.head())\n",
    "print(AR_test.head())\n",
    "print(bitcoin_AR_Predictions.tail())\n",
    "print(AR_test.tail())"
   ]
  },
  {
   "cell_type": "code",
   "execution_count": 168,
   "metadata": {},
   "outputs": [
    {
     "data": {
      "text/plain": [
       "15502279.172641557"
      ]
     },
     "execution_count": 168,
     "metadata": {},
     "output_type": "execute_result"
    }
   ],
   "source": [
    "bitcoin_AR_mse = mean_squared_error(bitcoin_AR_Predictions, AR_test)\n",
    "bitcoin_AR_mse"
   ]
  },
  {
   "cell_type": "code",
   "execution_count": 169,
   "metadata": {},
   "outputs": [
    {
     "data": {
      "text/plain": [
       "[<matplotlib.lines.Line2D at 0x273f6da8788>]"
      ]
     },
     "execution_count": 169,
     "metadata": {},
     "output_type": "execute_result"
    },
    {
     "data": {
      "image/png": "[encoded data removed]",
      "text/plain": [
       "<Figure size 432x288 with 1 Axes>"
      ]
     },
     "metadata": {
      "needs_background": "light"
     },
     "output_type": "display_data"
    }
   ],
   "source": [
    "plt.plot(AR_test)\n",
    "plt.plot(bitcoin_AR_Predictions, color='red')"
   ]
  },
  {
   "cell_type": "markdown",
   "metadata": {},
   "source": [
    "### Lets Try Walk Forward method for AR model"
   ]
  },
  {
   "cell_type": "code",
   "execution_count": 178,
   "metadata": {},
   "outputs": [
    {
     "name": "stdout",
     "output_type": "stream",
     "text": [
      "4441.155143674932\n",
      "4724.486413358802\n",
      "4670.928481702901\n",
      "4726.7410351477465\n",
      "4882.534470746809\n",
      "4976.3087842645755\n",
      "4692.869896595211\n",
      "4560.808289450072\n",
      "4421.733057293529\n",
      "4646.143176048106\n",
      "4708.688502894999\n",
      "4785.81210174421\n",
      "4299.281817453512\n",
      "4232.004574684107\n",
      "4340.532218421868\n",
      "4366.428990635485\n",
      "4162.55646494646\n",
      "3887.1450807903243\n",
      "3756.6814715005576\n",
      "3806.6311572953705\n",
      "3689.8530980754576\n",
      "4074.610558521665\n",
      "4040.3777125378006\n",
      "3893.742620000512\n",
      "3943.307317540676\n",
      "3720.9908412442874\n",
      "3934.190763887083\n",
      "3712.7675514207826\n",
      "4035.375151473062\n",
      "3860.4506808838382\n",
      "4207.637782602195\n",
      "4316.053021091287\n",
      "4195.53054677806\n",
      "4372.4027171429325\n",
      "4457.279780205131\n",
      "4479.357685829379\n",
      "4468.646905223225\n",
      "4448.068576065206\n",
      "4438.764395587627\n",
      "4415.919911706313\n",
      "4499.91759089976\n",
      "4615.165460783379\n",
      "4861.184635694581\n",
      "4943.102018657828\n",
      "4883.587491039321\n",
      "5595.362466485616\n",
      "5989.666416048597\n",
      "5866.972638657082\n",
      "5891.418525319675\n",
      "5822.791136773743\n",
      "5802.824988785653\n",
      "5570.8262223989195\n",
      "5871.0343167044\n",
      "6070.513552446128\n",
      "6166.697828199077\n",
      "6130.2988264698115\n",
      "6179.542437136879\n",
      "5979.281620926246\n",
      "5781.227470462642\n",
      "6126.860407561442\n",
      "6043.123040621566\n",
      "5876.654421908611\n",
      "6333.896294476991\n",
      "6202.352332758789\n",
      "6510.324196694253\n",
      "6799.4551616608\n",
      "7457.987164920074\n",
      "7386.411041010202\n",
      "7523.998601130897\n",
      "7798.162994201977\n",
      "7404.887117036796\n",
      "7280.1465244028695\n",
      "7993.422210868377\n",
      "7423.253592125264\n",
      "7261.197401409311\n",
      "6887.952494557059\n",
      "6555.680775376034\n",
      "6902.291955802057\n",
      "6912.614097485008\n",
      "7546.213039932259\n",
      "7954.9102108168045\n",
      "8298.188245930503\n",
      "7948.505521429082\n",
      "8255.25985339443\n",
      "8478.17726248656\n",
      "8445.367679188788\n",
      "8289.096583076713\n",
      "8055.315301576425\n",
      "8259.184857396302\n",
      "8847.430002303612\n",
      "9800.915733154088\n",
      "9960.659510460786\n",
      "10116.737335292397\n",
      "11865.29419120228\n",
      "10850.91743631726\n",
      "11332.3646748653\n",
      "11416.626071206298\n",
      "12065.844070274945\n",
      "11623.59698285717\n",
      "12329.795892370119\n",
      "14559.412673618439\n",
      "19416.3582344576\n",
      "19499.972106496047\n",
      "16399.802637860186\n",
      "16349.918558115347\n",
      "18720.60119150058\n",
      "17293.16979831934\n",
      "18383.24904465824\n",
      "18995.885291409497\n",
      "19164.80012686641\n",
      "21101.415630012263\n",
      "20288.062591290694\n",
      "20521.770905769932\n",
      "19315.185427114848\n",
      "16022.210643932242\n",
      "18302.651983758293\n",
      "16699.69265233427\n",
      "15763.121826752742\n",
      "14163.441340354539\n",
      "14835.631447038584\n",
      "19447.785605155837\n",
      "15403.046945776936\n",
      "13708.647403884239\n",
      "14633.820404947095\n",
      "15480.415699520361\n",
      "12979.683744872185\n",
      "14279.310921668048\n",
      "16392.78354495765\n",
      "16434.502943453168\n",
      "16829.93452623433\n",
      "19783.2488327643\n",
      "17695.520819068843\n",
      "17422.283828444393\n",
      "16332.950116202623\n",
      "15772.76543658998\n",
      "14537.892539176122\n",
      "15599.794506100907\n",
      "13769.629348895955\n",
      "15762.888894274085\n",
      "15203.957675355488\n",
      "13705.456228185263\n",
      "13792.69252043383\n",
      "9475.345383382622\n",
      "11731.717490908935\n",
      "11029.609710155637\n",
      "13240.280409769746\n",
      "12785.63040298323\n",
      "12906.129354298799\n",
      "11686.922346090812\n",
      "11902.46909761056\n",
      "11959.413118577304\n",
      "10849.51105489793\n",
      "11778.88609373911\n",
      "12110.810477124893\n",
      "11688.141773774041\n",
      "11092.066653138654\n",
      "10019.786970946332\n",
      "10622.314901939859\n",
      "9080.847213870567\n",
      "9198.458282254178\n",
      "9310.093645246094\n",
      "7567.455315385411\n",
      "7438.460894891648\n",
      "8733.014702713941\n",
      "8212.374743056685\n",
      "8143.8623613652435\n",
      "9076.687569024845\n",
      "8190.967420119091\n",
      "9133.773926960994\n",
      "8942.2450572371\n",
      "9697.387265197207\n",
      "10548.067555778855\n",
      "10754.685439731662\n",
      "11244.803285521659\n",
      "11401.305425562929\n",
      "11158.107976806596\n"
     ]
    },
    {
     "data": {
      "text/plain": [
       "176"
      ]
     },
     "execution_count": 178,
     "metadata": {},
     "output_type": "execute_result"
    }
   ],
   "source": [
    "# we will run a for Loop\n",
    "\n",
    "data = AR_train\n",
    "predicts = []\n",
    "for i in AR_test:\n",
    "    model = AR(data)\n",
    "    model_fit = model.fit()\n",
    "    y = model_fit.predict(start=len(data), end=len(AR_train)+len(AR_test)-1)\n",
    "    print(y.values[0])\n",
    "    predicts.append(y.values[0])\n",
    "    data = np.append(data,i)\n",
    "    data = pd.Series(data)\n",
    "    \n",
    "len(predicts)"
   ]
  },
  {
   "cell_type": "code",
   "execution_count": 176,
   "metadata": {},
   "outputs": [
    {
     "data": {
      "text/plain": [
       "633969.6106228312"
      ]
     },
     "execution_count": 176,
     "metadata": {},
     "output_type": "execute_result"
    }
   ],
   "source": [
    "mse = mean_squared_error(AR_test, predicts)\n",
    "mse"
   ]
  },
  {
   "cell_type": "markdown",
   "metadata": {},
   "source": [
    "* Here we can see that the MSE value is less than the Previous AR Model"
   ]
  },
  {
   "cell_type": "code",
   "execution_count": 179,
   "metadata": {},
   "outputs": [
    {
     "data": {
      "text/plain": [
       "[<matplotlib.lines.Line2D at 0x273f4d82708>]"
      ]
     },
     "execution_count": 179,
     "metadata": {},
     "output_type": "execute_result"
    },
    {
     "data": {
      "image/png": "[encoded data removed]",
      "text/plain": [
       "<Figure size 432x288 with 1 Axes>"
      ]
     },
     "metadata": {
      "needs_background": "light"
     },
     "output_type": "display_data"
    }
   ],
   "source": [
    "plt.plot(AR_test.values)\n",
    "plt.plot(predicts, color='red')"
   ]
  },
  {
   "cell_type": "markdown",
   "metadata": {},
   "source": [
    "## Moving Average with Walk Forward Technique"
   ]
  },
  {
   "cell_type": "code",
   "execution_count": 180,
   "metadata": {},
   "outputs": [
    {
     "data": {
      "text/html": [
       "<div>\n",
       "<style scoped>\n",
       "    .dataframe tbody tr th:only-of-type {\n",
       "        vertical-align: middle;\n",
       "    }\n",
       "\n",
       "    .dataframe tbody tr th {\n",
       "        vertical-align: top;\n",
       "    }\n",
       "\n",
       "    .dataframe thead th {\n",
       "        text-align: right;\n",
       "    }\n",
       "</style>\n",
       "<table border=\"1\" class=\"dataframe\">\n",
       "  <thead>\n",
       "    <tr style=\"text-align: right;\">\n",
       "      <th></th>\n",
       "      <th>Date</th>\n",
       "      <th>High</th>\n",
       "      <th>Lag1</th>\n",
       "      <th>High_Diff_1</th>\n",
       "    </tr>\n",
       "    <tr>\n",
       "      <th>Date</th>\n",
       "      <th></th>\n",
       "      <th></th>\n",
       "      <th></th>\n",
       "      <th></th>\n",
       "    </tr>\n",
       "  </thead>\n",
       "  <tbody>\n",
       "    <tr>\n",
       "      <td>2013-04-28</td>\n",
       "      <td>2013-04-28</td>\n",
       "      <td>135.98</td>\n",
       "      <td>NaN</td>\n",
       "      <td>NaN</td>\n",
       "    </tr>\n",
       "    <tr>\n",
       "      <td>2013-04-29</td>\n",
       "      <td>2013-04-29</td>\n",
       "      <td>147.49</td>\n",
       "      <td>135.98</td>\n",
       "      <td>11.51</td>\n",
       "    </tr>\n",
       "    <tr>\n",
       "      <td>2013-04-30</td>\n",
       "      <td>2013-04-30</td>\n",
       "      <td>146.93</td>\n",
       "      <td>147.49</td>\n",
       "      <td>-0.56</td>\n",
       "    </tr>\n",
       "    <tr>\n",
       "      <td>2013-05-01</td>\n",
       "      <td>2013-05-01</td>\n",
       "      <td>139.89</td>\n",
       "      <td>146.93</td>\n",
       "      <td>-7.04</td>\n",
       "    </tr>\n",
       "    <tr>\n",
       "      <td>2013-05-02</td>\n",
       "      <td>2013-05-02</td>\n",
       "      <td>125.60</td>\n",
       "      <td>139.89</td>\n",
       "      <td>-14.29</td>\n",
       "    </tr>\n",
       "  </tbody>\n",
       "</table>\n",
       "</div>"
      ],
      "text/plain": [
       "                 Date    High    Lag1  High_Diff_1\n",
       "Date                                              \n",
       "2013-04-28 2013-04-28  135.98     NaN          NaN\n",
       "2013-04-29 2013-04-29  147.49  135.98        11.51\n",
       "2013-04-30 2013-04-30  146.93  147.49        -0.56\n",
       "2013-05-01 2013-05-01  139.89  146.93        -7.04\n",
       "2013-05-02 2013-05-02  125.60  139.89       -14.29"
      ]
     },
     "execution_count": 180,
     "metadata": {},
     "output_type": "execute_result"
    }
   ],
   "source": [
    "Moving_Average = bitcoin_price_high.copy()\n",
    "Moving_Average.head()"
   ]
  },
  {
   "cell_type": "code",
   "execution_count": 192,
   "metadata": {},
   "outputs": [
    {
     "name": "stdout",
     "output_type": "stream",
     "text": [
      "Date\n",
      "2013-04-29    11.51\n",
      "2013-04-30    -0.56\n",
      "2013-05-01    -7.04\n",
      "2013-05-02   -14.29\n",
      "2013-05-03   -17.47\n",
      "Name: High_Diff_1, dtype: float64\n",
      "Date\n",
      "2018-01-22   -929.5\n",
      "2018-01-23   -588.8\n",
      "2018-01-24    123.8\n",
      "2018-01-25    284.3\n",
      "2018-01-26   -129.0\n",
      "Name: High_Diff_1, dtype: float64\n"
     ]
    }
   ],
   "source": [
    "# Moving Average means that we build a AR model on the Difference Variable\n",
    "#Lets didive the data in Train and Test\n",
    "train, test = Moving_Average.High_Diff_1[1:Moving_Average.shape[0]-30], Moving_Average.High_Diff_1[Moving_Average.shape[0]-30:]\n",
    "test_y = Moving_Average.Lag1[-30:]\n",
    "print(train.head())\n",
    "print(test.head())"
   ]
  },
  {
   "cell_type": "code",
   "execution_count": 183,
   "metadata": {},
   "outputs": [
    {
     "name": "stderr",
     "output_type": "stream",
     "text": [
      "C:\\Users\\pravi\\Anaconda3\\lib\\site-packages\\statsmodels\\tsa\\base\\tsa_model.py:165: ValueWarning: No frequency information was provided, so inferred frequency D will be used.\n",
      "  % freq, ValueWarning)\n"
     ]
    }
   ],
   "source": [
    "MA_Model = AR(train)\n",
    "MA_Model_fit = MA_Model.fit()"
   ]
  },
  {
   "cell_type": "code",
   "execution_count": 184,
   "metadata": {},
   "outputs": [
    {
     "data": {
      "text/plain": [
       "24"
      ]
     },
     "execution_count": 184,
     "metadata": {},
     "output_type": "execute_result"
    }
   ],
   "source": [
    "MA_Model_fit.k_ar"
   ]
  },
  {
   "cell_type": "code",
   "execution_count": 185,
   "metadata": {},
   "outputs": [
    {
     "data": {
      "text/plain": [
       "const              5.004867\n",
       "L1.High_Diff_1     0.227753\n",
       "L2.High_Diff_1    -0.113750\n",
       "L3.High_Diff_1    -0.082503\n",
       "L4.High_Diff_1     0.178452\n",
       "L5.High_Diff_1     0.122425\n",
       "L6.High_Diff_1    -0.085170\n",
       "L7.High_Diff_1     0.033943\n",
       "L8.High_Diff_1     0.127731\n",
       "L9.High_Diff_1    -0.000203\n",
       "L10.High_Diff_1    0.196650\n",
       "L11.High_Diff_1   -0.126528\n",
       "L12.High_Diff_1   -0.027325\n",
       "L13.High_Diff_1   -0.081919\n",
       "L14.High_Diff_1   -0.173125\n",
       "L15.High_Diff_1   -0.048601\n",
       "L16.High_Diff_1   -0.039048\n",
       "L17.High_Diff_1   -0.088553\n",
       "L18.High_Diff_1    0.137873\n",
       "L19.High_Diff_1    0.052982\n",
       "L20.High_Diff_1    0.190074\n",
       "L21.High_Diff_1    0.101138\n",
       "L22.High_Diff_1   -0.061929\n",
       "L23.High_Diff_1    0.028435\n",
       "L24.High_Diff_1   -0.073113\n",
       "dtype: float64"
      ]
     },
     "execution_count": 185,
     "metadata": {},
     "output_type": "execute_result"
    }
   ],
   "source": [
    "MA_Model_fit.params"
   ]
  },
  {
   "cell_type": "code",
   "execution_count": 186,
   "metadata": {},
   "outputs": [
    {
     "data": {
      "text/plain": [
       "2018-01-22     -63.555194\n",
       "2018-01-23    1061.803327\n",
       "2018-01-24     478.471876\n",
       "2018-01-25     476.183431\n",
       "2018-01-26     -57.307544\n",
       "2018-01-27    -555.901204\n",
       "2018-01-28     317.357236\n",
       "2018-01-29    -186.937218\n",
       "2018-01-30     230.145690\n",
       "2018-01-31     281.732294\n",
       "2018-02-01     118.071107\n",
       "2018-02-02     404.129233\n",
       "2018-02-03       9.294012\n",
       "2018-02-04    -467.121349\n",
       "2018-02-05    -346.927568\n",
       "2018-02-06    -897.428807\n",
       "2018-02-07      -3.782309\n",
       "2018-02-08      33.319272\n",
       "2018-02-09     111.361712\n",
       "2018-02-10     352.960362\n",
       "2018-02-11    -111.223420\n",
       "2018-02-12     361.674913\n",
       "2018-02-13      83.506709\n",
       "2018-02-14    -236.559960\n",
       "2018-02-15     -85.770761\n",
       "2018-02-16    -407.208689\n",
       "2018-02-17     154.161481\n",
       "2018-02-18     231.742617\n",
       "2018-02-19     183.155626\n",
       "2018-02-20     438.083205\n",
       "Freq: D, dtype: float64"
      ]
     },
     "execution_count": 186,
     "metadata": {},
     "output_type": "execute_result"
    }
   ],
   "source": [
    "pred_diff = MA_Model_fit.predict(start = len(train), end=len(train)+len(test)-1)\n",
    "pred_diff"
   ]
  },
  {
   "cell_type": "code",
   "execution_count": 188,
   "metadata": {},
   "outputs": [
    {
     "data": {
      "text/plain": [
       "Date\n",
       "2018-01-22    12832.344806\n",
       "2018-01-23    13028.203327\n",
       "2018-01-24    11856.071876\n",
       "2018-01-25    11977.583431\n",
       "2018-01-26    11728.392456\n",
       "2018-01-27    11100.798796\n",
       "2018-01-28    11932.257236\n",
       "2018-01-29    11853.362782\n",
       "2018-01-30    12105.745690\n",
       "2018-01-31    11588.932294\n",
       "2018-02-01    10499.671107\n",
       "2018-02-02    10692.929233\n",
       "2018-02-03     9151.574012\n",
       "2018-02-04     8963.628651\n",
       "2018-02-05     8987.942432\n",
       "2018-02-06     7467.411193\n",
       "2018-02-07     7846.917691\n",
       "2018-02-08     8542.429272\n",
       "2018-02-09     8670.131712\n",
       "2018-02-10     9089.940362\n",
       "2018-02-11     9011.326580\n",
       "2018-02-12     8977.804913\n",
       "2018-02-13     9069.426709\n",
       "2018-02-14     8721.910040\n",
       "2018-02-15     9432.769239\n",
       "2018-02-16     9827.591311\n",
       "2018-02-17    10478.261481\n",
       "2018-02-18    11371.242617\n",
       "2018-02-19    11532.955626\n",
       "2018-02-20    11711.883205\n",
       "dtype: float64"
      ]
     },
     "execution_count": 188,
     "metadata": {},
     "output_type": "execute_result"
    }
   ],
   "source": [
    "# Adding the Forecasted residuals to the Naive (Presistence) model Predictions\n",
    "predictions = Moving_Average.Lag1[Moving_Average.shape[0]-30:] + pred_diff\n",
    "predictions"
   ]
  },
  {
   "cell_type": "code",
   "execution_count": 193,
   "metadata": {},
   "outputs": [
    {
     "data": {
      "text/plain": [
       "143635.98043025305"
      ]
     },
     "execution_count": 193,
     "metadata": {},
     "output_type": "execute_result"
    }
   ],
   "source": [
    "mse = mean_squared_error(test_y, predictions)\n",
    "mse"
   ]
  },
  {
   "cell_type": "code",
   "execution_count": 194,
   "metadata": {},
   "outputs": [
    {
     "data": {
      "text/plain": [
       "[<matplotlib.lines.Line2D at 0x273f4ea5b88>]"
      ]
     },
     "execution_count": 194,
     "metadata": {},
     "output_type": "execute_result"
    },
    {
     "data": {
      "image/png": "[encoded data removed]",
      "text/plain": [
       "<Figure size 432x288 with 1 Axes>"
      ]
     },
     "metadata": {
      "needs_background": "light"
     },
     "output_type": "display_data"
    }
   ],
   "source": [
    "plt.plot(test_y)\n",
    "plt.plot(predictions, color='red')"
   ]
  },
  {
   "cell_type": "code",
   "execution_count": 199,
   "metadata": {},
   "outputs": [
    {
     "name": "stderr",
     "output_type": "stream",
     "text": [
      "C:\\Users\\pravi\\Anaconda3\\lib\\site-packages\\statsmodels\\tsa\\base\\tsa_model.py:165: ValueWarning: No frequency information was provided, so inferred frequency D will be used.\n",
      "  % freq, ValueWarning)\n"
     ]
    },
    {
     "name": "stdout",
     "output_type": "stream",
     "text": [
      "-63.55519403015026\n",
      "1000.9959835189856\n",
      "331.01788798151046\n",
      "482.91315195430496\n",
      "168.68921269176903\n",
      "-777.0210818190116\n",
      "203.4967643404449\n",
      "36.451346968854\n",
      "-153.0338120560851\n",
      "-180.91137463336452\n",
      "-223.51138526943257\n",
      "285.19397373015005\n",
      "-76.44179493852742\n",
      "-310.82870286580464\n",
      "117.81937909843\n",
      "-821.0027385177968\n",
      "-203.12297482754806\n",
      "269.9262903525159\n",
      "-310.69470497457496\n",
      "-565.015491902303\n",
      "-313.13920765965344\n",
      "-324.41740088332745\n",
      "63.505016573004696\n",
      "125.61422623159517\n",
      "219.988153020392\n",
      "217.17355580807444\n",
      "402.4618476211341\n",
      "120.52385621599201\n",
      "124.55337609589132\n",
      "-71.41800611234294\n",
      "[-63.55519403015026, 1000.9959835189856, 331.01788798151046, 482.91315195430496, 168.68921269176903, -777.0210818190116, 203.4967643404449, 36.451346968854, -153.0338120560851, -180.91137463336452, -223.51138526943257, 285.19397373015005, -76.44179493852742, -310.82870286580464, 117.81937909843, -821.0027385177968, -203.12297482754806, 269.9262903525159, -310.69470497457496, -565.015491902303, -313.13920765965344, -324.41740088332745, 63.505016573004696, 125.61422623159517, 219.988153020392, 217.17355580807444, 402.4618476211341, 120.52385621599201, 124.55337609589132, -71.41800611234294]\n"
     ]
    }
   ],
   "source": [
    "data = train\n",
    "predicts1 = []\n",
    "for t in test:\n",
    "    model_ar = AR(data)\n",
    "    model_ar_fit = model_ar.fit()\n",
    "    y=model_ar_fit.predict(start=len(data), end = len(train)+len(test)-1)\n",
    "    print(y.values[0])\n",
    "    predicts1.append(y.values[0])\n",
    "    data = np.append(data, t)\n",
    "    data = pd.Series(data)\n",
    "print(predicts1)"
   ]
  },
  {
   "cell_type": "code",
   "execution_count": 202,
   "metadata": {},
   "outputs": [
    {
     "data": {
      "text/plain": [
       "[<matplotlib.lines.Line2D at 0x273f5102788>]"
      ]
     },
     "execution_count": 202,
     "metadata": {},
     "output_type": "execute_result"
    },
    {
     "data": {
      "image/png": "[encoded data removed]",
      "text/plain": [
       "<Figure size 432x288 with 1 Axes>"
      ]
     },
     "metadata": {
      "needs_background": "light"
     },
     "output_type": "display_data"
    }
   ],
   "source": [
    "plt.plot(test.values)\n",
    "plt.plot(predicts1, color='red')"
   ]
  },
  {
   "cell_type": "code",
   "execution_count": 204,
   "metadata": {},
   "outputs": [
    {
     "data": {
      "text/plain": [
       "401078.3054191896"
      ]
     },
     "execution_count": 204,
     "metadata": {},
     "output_type": "execute_result"
    }
   ],
   "source": [
    "mse3 = mean_squared_error(test,predicts1)\n",
    "mse3"
   ]
  },
  {
   "cell_type": "code",
   "execution_count": null,
   "metadata": {},
   "outputs": [],
   "source": []
  }
 ],
 "metadata": {
  "kernelspec": {
   "display_name": "Python 3",
   "language": "python",
   "name": "python3"
  },
  "language_info": {
   "codemirror_mode": {
    "name": "ipython",
    "version": 3
   },
   "file_extension": ".py",
   "mimetype": "text/x-python",
   "name": "python",
   "nbconvert_exporter": "python",
   "pygments_lexer": "ipython3",
   "version": "3.7.4"
  }
 },
 "nbformat": 4,
 "nbformat_minor": 2
}
