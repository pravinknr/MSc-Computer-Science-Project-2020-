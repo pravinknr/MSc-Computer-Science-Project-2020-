{
 "cells": [
  {
   "cell_type": "markdown",
   "metadata": {},
   "source": [
    "# CryptoCurrency Price Prediction"
   ]
  },
  {
   "cell_type": "code",
   "execution_count": 1,
   "metadata": {},
   "outputs": [],
   "source": [
    "import numpy as np\n",
    "import pandas as pd\n",
    "import seaborn as sns\n",
    "\n",
    "from matplotlib import pyplot as plt\n",
    "%matplotlib inline\n",
    "\n",
    "from statsmodels.tsa.seasonal import seasonal_decompose\n",
    "\n",
    "from sklearn.metrics import mean_squared_error\n",
    "\n",
    "from pandas.plotting import autocorrelation_plot\n",
    "\n",
    "from statsmodels.graphics.tsaplots import plot_pacf\n",
    "\n",
    "from statsmodels.tsa.arima_model import ARIMA"
   ]
  },
  {
   "cell_type": "code",
   "execution_count": 2,
   "metadata": {},
   "outputs": [],
   "source": [
    "bitcoin_price = pd.read_csv('D:/Msc CS Project Final/cryptocurrencypricehistory/bitcoin_price.csv', header=0, parse_dates=[0])"
   ]
  },
  {
   "cell_type": "code",
   "execution_count": 3,
   "metadata": {},
   "outputs": [
    {
     "data": {
      "text/html": [
       "<div>\n",
       "<style scoped>\n",
       "    .dataframe tbody tr th:only-of-type {\n",
       "        vertical-align: middle;\n",
       "    }\n",
       "\n",
       "    .dataframe tbody tr th {\n",
       "        vertical-align: top;\n",
       "    }\n",
       "\n",
       "    .dataframe thead th {\n",
       "        text-align: right;\n",
       "    }\n",
       "</style>\n",
       "<table border=\"1\" class=\"dataframe\">\n",
       "  <thead>\n",
       "    <tr style=\"text-align: right;\">\n",
       "      <th></th>\n",
       "      <th>Date</th>\n",
       "      <th>Open</th>\n",
       "      <th>High</th>\n",
       "      <th>Low</th>\n",
       "      <th>Close</th>\n",
       "      <th>Volume</th>\n",
       "      <th>Market Cap</th>\n",
       "    </tr>\n",
       "  </thead>\n",
       "  <tbody>\n",
       "    <tr>\n",
       "      <td>0</td>\n",
       "      <td>2018-02-20</td>\n",
       "      <td>11231.8</td>\n",
       "      <td>11958.5</td>\n",
       "      <td>11231.80</td>\n",
       "      <td>11403.7</td>\n",
       "      <td>9,92,65,40,000</td>\n",
       "      <td>1,89,53,60,00,000</td>\n",
       "    </tr>\n",
       "    <tr>\n",
       "      <td>1</td>\n",
       "      <td>2018-02-19</td>\n",
       "      <td>10552.6</td>\n",
       "      <td>11273.8</td>\n",
       "      <td>10513.20</td>\n",
       "      <td>11225.3</td>\n",
       "      <td>7,65,20,90,000</td>\n",
       "      <td>1,78,05,50,00,000</td>\n",
       "    </tr>\n",
       "    <tr>\n",
       "      <td>2</td>\n",
       "      <td>2018-02-18</td>\n",
       "      <td>11123.4</td>\n",
       "      <td>11349.8</td>\n",
       "      <td>10326.00</td>\n",
       "      <td>10551.8</td>\n",
       "      <td>8,74,40,10,000</td>\n",
       "      <td>1,87,66,30,00,000</td>\n",
       "    </tr>\n",
       "    <tr>\n",
       "      <td>3</td>\n",
       "      <td>2018-02-17</td>\n",
       "      <td>10207.5</td>\n",
       "      <td>11139.5</td>\n",
       "      <td>10149.40</td>\n",
       "      <td>11112.7</td>\n",
       "      <td>8,66,08,80,000</td>\n",
       "      <td>1,72,19,10,00,000</td>\n",
       "    </tr>\n",
       "    <tr>\n",
       "      <td>4</td>\n",
       "      <td>2018-02-16</td>\n",
       "      <td>10135.7</td>\n",
       "      <td>10324.1</td>\n",
       "      <td>9824.82</td>\n",
       "      <td>10233.9</td>\n",
       "      <td>7,29,61,60,000</td>\n",
       "      <td>1,70,96,00,00,000</td>\n",
       "    </tr>\n",
       "  </tbody>\n",
       "</table>\n",
       "</div>"
      ],
      "text/plain": [
       "        Date     Open     High       Low    Close          Volume  \\\n",
       "0 2018-02-20  11231.8  11958.5  11231.80  11403.7  9,92,65,40,000   \n",
       "1 2018-02-19  10552.6  11273.8  10513.20  11225.3  7,65,20,90,000   \n",
       "2 2018-02-18  11123.4  11349.8  10326.00  10551.8  8,74,40,10,000   \n",
       "3 2018-02-17  10207.5  11139.5  10149.40  11112.7  8,66,08,80,000   \n",
       "4 2018-02-16  10135.7  10324.1   9824.82  10233.9  7,29,61,60,000   \n",
       "\n",
       "          Market Cap  \n",
       "0  1,89,53,60,00,000  \n",
       "1  1,78,05,50,00,000  \n",
       "2  1,87,66,30,00,000  \n",
       "3  1,72,19,10,00,000  \n",
       "4  1,70,96,00,00,000  "
      ]
     },
     "execution_count": 3,
     "metadata": {},
     "output_type": "execute_result"
    }
   ],
   "source": [
    "bitcoin_price.head()"
   ]
  },
  {
   "cell_type": "code",
   "execution_count": 5,
   "metadata": {},
   "outputs": [],
   "source": [
    "bitcoin_price = bitcoin_price.sort_values(by='Date', ascending = True)"
   ]
  },
  {
   "cell_type": "code",
   "execution_count": 7,
   "metadata": {},
   "outputs": [
    {
     "data": {
      "text/html": [
       "<div>\n",
       "<style scoped>\n",
       "    .dataframe tbody tr th:only-of-type {\n",
       "        vertical-align: middle;\n",
       "    }\n",
       "\n",
       "    .dataframe tbody tr th {\n",
       "        vertical-align: top;\n",
       "    }\n",
       "\n",
       "    .dataframe thead th {\n",
       "        text-align: right;\n",
       "    }\n",
       "</style>\n",
       "<table border=\"1\" class=\"dataframe\">\n",
       "  <thead>\n",
       "    <tr style=\"text-align: right;\">\n",
       "      <th></th>\n",
       "      <th>Date</th>\n",
       "      <th>Open</th>\n",
       "      <th>High</th>\n",
       "      <th>Low</th>\n",
       "      <th>Close</th>\n",
       "      <th>Volume</th>\n",
       "      <th>Market Cap</th>\n",
       "    </tr>\n",
       "  </thead>\n",
       "  <tbody>\n",
       "    <tr>\n",
       "      <td>1759</td>\n",
       "      <td>2013-04-28</td>\n",
       "      <td>135.30</td>\n",
       "      <td>135.98</td>\n",
       "      <td>132.10</td>\n",
       "      <td>134.21</td>\n",
       "      <td>0</td>\n",
       "      <td>1,50,05,20,000</td>\n",
       "    </tr>\n",
       "    <tr>\n",
       "      <td>1758</td>\n",
       "      <td>2013-04-29</td>\n",
       "      <td>134.44</td>\n",
       "      <td>147.49</td>\n",
       "      <td>134.00</td>\n",
       "      <td>144.54</td>\n",
       "      <td>0</td>\n",
       "      <td>1,49,11,60,000</td>\n",
       "    </tr>\n",
       "    <tr>\n",
       "      <td>1757</td>\n",
       "      <td>2013-04-30</td>\n",
       "      <td>144.00</td>\n",
       "      <td>146.93</td>\n",
       "      <td>134.05</td>\n",
       "      <td>139.00</td>\n",
       "      <td>0</td>\n",
       "      <td>1,59,77,80,000</td>\n",
       "    </tr>\n",
       "    <tr>\n",
       "      <td>1756</td>\n",
       "      <td>2013-05-01</td>\n",
       "      <td>139.00</td>\n",
       "      <td>139.89</td>\n",
       "      <td>107.72</td>\n",
       "      <td>116.99</td>\n",
       "      <td>0</td>\n",
       "      <td>1,54,28,20,000</td>\n",
       "    </tr>\n",
       "    <tr>\n",
       "      <td>1755</td>\n",
       "      <td>2013-05-02</td>\n",
       "      <td>116.38</td>\n",
       "      <td>125.60</td>\n",
       "      <td>92.28</td>\n",
       "      <td>105.21</td>\n",
       "      <td>0</td>\n",
       "      <td>1,29,21,90,000</td>\n",
       "    </tr>\n",
       "    <tr>\n",
       "      <td>1754</td>\n",
       "      <td>2013-05-03</td>\n",
       "      <td>106.25</td>\n",
       "      <td>108.13</td>\n",
       "      <td>79.10</td>\n",
       "      <td>97.75</td>\n",
       "      <td>0</td>\n",
       "      <td>1,18,00,70,000</td>\n",
       "    </tr>\n",
       "    <tr>\n",
       "      <td>1753</td>\n",
       "      <td>2013-05-04</td>\n",
       "      <td>98.10</td>\n",
       "      <td>115.00</td>\n",
       "      <td>92.50</td>\n",
       "      <td>112.50</td>\n",
       "      <td>0</td>\n",
       "      <td>1,08,98,90,000</td>\n",
       "    </tr>\n",
       "    <tr>\n",
       "      <td>1752</td>\n",
       "      <td>2013-05-05</td>\n",
       "      <td>112.90</td>\n",
       "      <td>118.80</td>\n",
       "      <td>107.14</td>\n",
       "      <td>115.91</td>\n",
       "      <td>0</td>\n",
       "      <td>1,25,47,60,000</td>\n",
       "    </tr>\n",
       "    <tr>\n",
       "      <td>1751</td>\n",
       "      <td>2013-05-06</td>\n",
       "      <td>115.98</td>\n",
       "      <td>124.66</td>\n",
       "      <td>106.64</td>\n",
       "      <td>112.30</td>\n",
       "      <td>0</td>\n",
       "      <td>1,28,94,70,000</td>\n",
       "    </tr>\n",
       "    <tr>\n",
       "      <td>1750</td>\n",
       "      <td>2013-05-07</td>\n",
       "      <td>112.25</td>\n",
       "      <td>113.44</td>\n",
       "      <td>97.70</td>\n",
       "      <td>111.50</td>\n",
       "      <td>0</td>\n",
       "      <td>1,24,84,70,000</td>\n",
       "    </tr>\n",
       "    <tr>\n",
       "      <td>1749</td>\n",
       "      <td>2013-05-08</td>\n",
       "      <td>109.60</td>\n",
       "      <td>115.78</td>\n",
       "      <td>109.60</td>\n",
       "      <td>113.57</td>\n",
       "      <td>0</td>\n",
       "      <td>1,21,94,50,000</td>\n",
       "    </tr>\n",
       "    <tr>\n",
       "      <td>1748</td>\n",
       "      <td>2013-05-09</td>\n",
       "      <td>113.20</td>\n",
       "      <td>113.46</td>\n",
       "      <td>109.26</td>\n",
       "      <td>112.67</td>\n",
       "      <td>0</td>\n",
       "      <td>1,25,99,80,000</td>\n",
       "    </tr>\n",
       "    <tr>\n",
       "      <td>1747</td>\n",
       "      <td>2013-05-10</td>\n",
       "      <td>112.80</td>\n",
       "      <td>122.00</td>\n",
       "      <td>111.55</td>\n",
       "      <td>117.20</td>\n",
       "      <td>0</td>\n",
       "      <td>1,25,59,70,000</td>\n",
       "    </tr>\n",
       "    <tr>\n",
       "      <td>1746</td>\n",
       "      <td>2013-05-11</td>\n",
       "      <td>117.70</td>\n",
       "      <td>118.68</td>\n",
       "      <td>113.01</td>\n",
       "      <td>115.24</td>\n",
       "      <td>0</td>\n",
       "      <td>1,31,10,50,000</td>\n",
       "    </tr>\n",
       "    <tr>\n",
       "      <td>1745</td>\n",
       "      <td>2013-05-12</td>\n",
       "      <td>115.64</td>\n",
       "      <td>117.45</td>\n",
       "      <td>113.44</td>\n",
       "      <td>115.00</td>\n",
       "      <td>0</td>\n",
       "      <td>1,28,86,30,000</td>\n",
       "    </tr>\n",
       "    <tr>\n",
       "      <td>1744</td>\n",
       "      <td>2013-05-13</td>\n",
       "      <td>114.82</td>\n",
       "      <td>118.70</td>\n",
       "      <td>114.50</td>\n",
       "      <td>117.98</td>\n",
       "      <td>0</td>\n",
       "      <td>1,27,99,80,000</td>\n",
       "    </tr>\n",
       "    <tr>\n",
       "      <td>1743</td>\n",
       "      <td>2013-05-14</td>\n",
       "      <td>117.98</td>\n",
       "      <td>119.80</td>\n",
       "      <td>110.25</td>\n",
       "      <td>111.50</td>\n",
       "      <td>0</td>\n",
       "      <td>1,31,57,20,000</td>\n",
       "    </tr>\n",
       "    <tr>\n",
       "      <td>1742</td>\n",
       "      <td>2013-05-15</td>\n",
       "      <td>111.40</td>\n",
       "      <td>115.81</td>\n",
       "      <td>103.50</td>\n",
       "      <td>114.22</td>\n",
       "      <td>0</td>\n",
       "      <td>1,24,27,60,000</td>\n",
       "    </tr>\n",
       "    <tr>\n",
       "      <td>1741</td>\n",
       "      <td>2013-05-16</td>\n",
       "      <td>114.22</td>\n",
       "      <td>118.76</td>\n",
       "      <td>112.20</td>\n",
       "      <td>118.76</td>\n",
       "      <td>0</td>\n",
       "      <td>1,27,46,20,000</td>\n",
       "    </tr>\n",
       "    <tr>\n",
       "      <td>1740</td>\n",
       "      <td>2013-05-17</td>\n",
       "      <td>118.21</td>\n",
       "      <td>125.30</td>\n",
       "      <td>116.57</td>\n",
       "      <td>123.02</td>\n",
       "      <td>0</td>\n",
       "      <td>1,31,95,90,000</td>\n",
       "    </tr>\n",
       "    <tr>\n",
       "      <td>1739</td>\n",
       "      <td>2013-05-18</td>\n",
       "      <td>123.50</td>\n",
       "      <td>125.25</td>\n",
       "      <td>122.30</td>\n",
       "      <td>123.50</td>\n",
       "      <td>0</td>\n",
       "      <td>1,37,91,40,000</td>\n",
       "    </tr>\n",
       "    <tr>\n",
       "      <td>1738</td>\n",
       "      <td>2013-05-19</td>\n",
       "      <td>123.21</td>\n",
       "      <td>124.50</td>\n",
       "      <td>119.57</td>\n",
       "      <td>121.99</td>\n",
       "      <td>0</td>\n",
       "      <td>1,37,63,70,000</td>\n",
       "    </tr>\n",
       "    <tr>\n",
       "      <td>1737</td>\n",
       "      <td>2013-05-20</td>\n",
       "      <td>122.50</td>\n",
       "      <td>123.62</td>\n",
       "      <td>120.12</td>\n",
       "      <td>122.00</td>\n",
       "      <td>0</td>\n",
       "      <td>1,36,89,10,000</td>\n",
       "    </tr>\n",
       "    <tr>\n",
       "      <td>1736</td>\n",
       "      <td>2013-05-21</td>\n",
       "      <td>122.02</td>\n",
       "      <td>123.00</td>\n",
       "      <td>121.21</td>\n",
       "      <td>122.88</td>\n",
       "      <td>0</td>\n",
       "      <td>1,36,39,40,000</td>\n",
       "    </tr>\n",
       "    <tr>\n",
       "      <td>1735</td>\n",
       "      <td>2013-05-22</td>\n",
       "      <td>122.89</td>\n",
       "      <td>124.00</td>\n",
       "      <td>122.00</td>\n",
       "      <td>123.89</td>\n",
       "      <td>0</td>\n",
       "      <td>1,37,41,30,000</td>\n",
       "    </tr>\n",
       "  </tbody>\n",
       "</table>\n",
       "</div>"
      ],
      "text/plain": [
       "           Date    Open    High     Low   Close Volume      Market Cap\n",
       "1759 2013-04-28  135.30  135.98  132.10  134.21      0  1,50,05,20,000\n",
       "1758 2013-04-29  134.44  147.49  134.00  144.54      0  1,49,11,60,000\n",
       "1757 2013-04-30  144.00  146.93  134.05  139.00      0  1,59,77,80,000\n",
       "1756 2013-05-01  139.00  139.89  107.72  116.99      0  1,54,28,20,000\n",
       "1755 2013-05-02  116.38  125.60   92.28  105.21      0  1,29,21,90,000\n",
       "1754 2013-05-03  106.25  108.13   79.10   97.75      0  1,18,00,70,000\n",
       "1753 2013-05-04   98.10  115.00   92.50  112.50      0  1,08,98,90,000\n",
       "1752 2013-05-05  112.90  118.80  107.14  115.91      0  1,25,47,60,000\n",
       "1751 2013-05-06  115.98  124.66  106.64  112.30      0  1,28,94,70,000\n",
       "1750 2013-05-07  112.25  113.44   97.70  111.50      0  1,24,84,70,000\n",
       "1749 2013-05-08  109.60  115.78  109.60  113.57      0  1,21,94,50,000\n",
       "1748 2013-05-09  113.20  113.46  109.26  112.67      0  1,25,99,80,000\n",
       "1747 2013-05-10  112.80  122.00  111.55  117.20      0  1,25,59,70,000\n",
       "1746 2013-05-11  117.70  118.68  113.01  115.24      0  1,31,10,50,000\n",
       "1745 2013-05-12  115.64  117.45  113.44  115.00      0  1,28,86,30,000\n",
       "1744 2013-05-13  114.82  118.70  114.50  117.98      0  1,27,99,80,000\n",
       "1743 2013-05-14  117.98  119.80  110.25  111.50      0  1,31,57,20,000\n",
       "1742 2013-05-15  111.40  115.81  103.50  114.22      0  1,24,27,60,000\n",
       "1741 2013-05-16  114.22  118.76  112.20  118.76      0  1,27,46,20,000\n",
       "1740 2013-05-17  118.21  125.30  116.57  123.02      0  1,31,95,90,000\n",
       "1739 2013-05-18  123.50  125.25  122.30  123.50      0  1,37,91,40,000\n",
       "1738 2013-05-19  123.21  124.50  119.57  121.99      0  1,37,63,70,000\n",
       "1737 2013-05-20  122.50  123.62  120.12  122.00      0  1,36,89,10,000\n",
       "1736 2013-05-21  122.02  123.00  121.21  122.88      0  1,36,39,40,000\n",
       "1735 2013-05-22  122.89  124.00  122.00  123.89      0  1,37,41,30,000"
      ]
     },
     "execution_count": 7,
     "metadata": {},
     "output_type": "execute_result"
    }
   ],
   "source": [
    "bitcoin_price.head(25)"
   ]
  },
  {
   "cell_type": "code",
   "execution_count": 8,
   "metadata": {},
   "outputs": [
    {
     "data": {
      "text/html": [
       "<div>\n",
       "<style scoped>\n",
       "    .dataframe tbody tr th:only-of-type {\n",
       "        vertical-align: middle;\n",
       "    }\n",
       "\n",
       "    .dataframe tbody tr th {\n",
       "        vertical-align: top;\n",
       "    }\n",
       "\n",
       "    .dataframe thead th {\n",
       "        text-align: right;\n",
       "    }\n",
       "</style>\n",
       "<table border=\"1\" class=\"dataframe\">\n",
       "  <thead>\n",
       "    <tr style=\"text-align: right;\">\n",
       "      <th></th>\n",
       "      <th>Date</th>\n",
       "      <th>Open</th>\n",
       "      <th>High</th>\n",
       "      <th>Low</th>\n",
       "      <th>Close</th>\n",
       "      <th>Volume</th>\n",
       "      <th>Market Cap</th>\n",
       "    </tr>\n",
       "  </thead>\n",
       "  <tbody>\n",
       "    <tr>\n",
       "      <td>4</td>\n",
       "      <td>2018-02-16</td>\n",
       "      <td>10135.7</td>\n",
       "      <td>10324.1</td>\n",
       "      <td>9824.82</td>\n",
       "      <td>10233.9</td>\n",
       "      <td>7,29,61,60,000</td>\n",
       "      <td>1,70,96,00,00,000</td>\n",
       "    </tr>\n",
       "    <tr>\n",
       "      <td>3</td>\n",
       "      <td>2018-02-17</td>\n",
       "      <td>10207.5</td>\n",
       "      <td>11139.5</td>\n",
       "      <td>10149.40</td>\n",
       "      <td>11112.7</td>\n",
       "      <td>8,66,08,80,000</td>\n",
       "      <td>1,72,19,10,00,000</td>\n",
       "    </tr>\n",
       "    <tr>\n",
       "      <td>2</td>\n",
       "      <td>2018-02-18</td>\n",
       "      <td>11123.4</td>\n",
       "      <td>11349.8</td>\n",
       "      <td>10326.00</td>\n",
       "      <td>10551.8</td>\n",
       "      <td>8,74,40,10,000</td>\n",
       "      <td>1,87,66,30,00,000</td>\n",
       "    </tr>\n",
       "    <tr>\n",
       "      <td>1</td>\n",
       "      <td>2018-02-19</td>\n",
       "      <td>10552.6</td>\n",
       "      <td>11273.8</td>\n",
       "      <td>10513.20</td>\n",
       "      <td>11225.3</td>\n",
       "      <td>7,65,20,90,000</td>\n",
       "      <td>1,78,05,50,00,000</td>\n",
       "    </tr>\n",
       "    <tr>\n",
       "      <td>0</td>\n",
       "      <td>2018-02-20</td>\n",
       "      <td>11231.8</td>\n",
       "      <td>11958.5</td>\n",
       "      <td>11231.80</td>\n",
       "      <td>11403.7</td>\n",
       "      <td>9,92,65,40,000</td>\n",
       "      <td>1,89,53,60,00,000</td>\n",
       "    </tr>\n",
       "  </tbody>\n",
       "</table>\n",
       "</div>"
      ],
      "text/plain": [
       "        Date     Open     High       Low    Close          Volume  \\\n",
       "4 2018-02-16  10135.7  10324.1   9824.82  10233.9  7,29,61,60,000   \n",
       "3 2018-02-17  10207.5  11139.5  10149.40  11112.7  8,66,08,80,000   \n",
       "2 2018-02-18  11123.4  11349.8  10326.00  10551.8  8,74,40,10,000   \n",
       "1 2018-02-19  10552.6  11273.8  10513.20  11225.3  7,65,20,90,000   \n",
       "0 2018-02-20  11231.8  11958.5  11231.80  11403.7  9,92,65,40,000   \n",
       "\n",
       "          Market Cap  \n",
       "4  1,70,96,00,00,000  \n",
       "3  1,72,19,10,00,000  \n",
       "2  1,87,66,30,00,000  \n",
       "1  1,78,05,50,00,000  \n",
       "0  1,89,53,60,00,000  "
      ]
     },
     "execution_count": 8,
     "metadata": {},
     "output_type": "execute_result"
    }
   ],
   "source": [
    "bitcoin_price.tail()"
   ]
  },
  {
   "cell_type": "code",
   "execution_count": 10,
   "metadata": {},
   "outputs": [
    {
     "data": {
      "text/plain": [
       "(1760, 7)"
      ]
     },
     "execution_count": 10,
     "metadata": {},
     "output_type": "execute_result"
    }
   ],
   "source": [
    "bitcoin_price.shape"
   ]
  },
  {
   "cell_type": "code",
   "execution_count": 11,
   "metadata": {},
   "outputs": [
    {
     "data": {
      "text/html": [
       "<div>\n",
       "<style scoped>\n",
       "    .dataframe tbody tr th:only-of-type {\n",
       "        vertical-align: middle;\n",
       "    }\n",
       "\n",
       "    .dataframe tbody tr th {\n",
       "        vertical-align: top;\n",
       "    }\n",
       "\n",
       "    .dataframe thead th {\n",
       "        text-align: right;\n",
       "    }\n",
       "</style>\n",
       "<table border=\"1\" class=\"dataframe\">\n",
       "  <thead>\n",
       "    <tr style=\"text-align: right;\">\n",
       "      <th></th>\n",
       "      <th>Open</th>\n",
       "      <th>High</th>\n",
       "      <th>Low</th>\n",
       "      <th>Close</th>\n",
       "    </tr>\n",
       "  </thead>\n",
       "  <tbody>\n",
       "    <tr>\n",
       "      <td>count</td>\n",
       "      <td>1760.000000</td>\n",
       "      <td>1760.000000</td>\n",
       "      <td>1760.000000</td>\n",
       "      <td>1760.000000</td>\n",
       "    </tr>\n",
       "    <tr>\n",
       "      <td>mean</td>\n",
       "      <td>1479.574239</td>\n",
       "      <td>1536.991108</td>\n",
       "      <td>1418.251273</td>\n",
       "      <td>1485.747000</td>\n",
       "    </tr>\n",
       "    <tr>\n",
       "      <td>std</td>\n",
       "      <td>2950.457188</td>\n",
       "      <td>3092.950362</td>\n",
       "      <td>2780.859459</td>\n",
       "      <td>2959.265478</td>\n",
       "    </tr>\n",
       "    <tr>\n",
       "      <td>min</td>\n",
       "      <td>68.500000</td>\n",
       "      <td>74.560000</td>\n",
       "      <td>65.530000</td>\n",
       "      <td>68.430000</td>\n",
       "    </tr>\n",
       "    <tr>\n",
       "      <td>25%</td>\n",
       "      <td>274.730000</td>\n",
       "      <td>279.857500</td>\n",
       "      <td>268.640000</td>\n",
       "      <td>274.875000</td>\n",
       "    </tr>\n",
       "    <tr>\n",
       "      <td>50%</td>\n",
       "      <td>480.715000</td>\n",
       "      <td>495.195000</td>\n",
       "      <td>472.510000</td>\n",
       "      <td>482.810000</td>\n",
       "    </tr>\n",
       "    <tr>\n",
       "      <td>75%</td>\n",
       "      <td>870.085000</td>\n",
       "      <td>900.222500</td>\n",
       "      <td>831.682500</td>\n",
       "      <td>871.370000</td>\n",
       "    </tr>\n",
       "    <tr>\n",
       "      <td>max</td>\n",
       "      <td>19475.800000</td>\n",
       "      <td>20089.000000</td>\n",
       "      <td>18974.100000</td>\n",
       "      <td>19497.400000</td>\n",
       "    </tr>\n",
       "  </tbody>\n",
       "</table>\n",
       "</div>"
      ],
      "text/plain": [
       "               Open          High           Low         Close\n",
       "count   1760.000000   1760.000000   1760.000000   1760.000000\n",
       "mean    1479.574239   1536.991108   1418.251273   1485.747000\n",
       "std     2950.457188   3092.950362   2780.859459   2959.265478\n",
       "min       68.500000     74.560000     65.530000     68.430000\n",
       "25%      274.730000    279.857500    268.640000    274.875000\n",
       "50%      480.715000    495.195000    472.510000    482.810000\n",
       "75%      870.085000    900.222500    831.682500    871.370000\n",
       "max    19475.800000  20089.000000  18974.100000  19497.400000"
      ]
     },
     "execution_count": 11,
     "metadata": {},
     "output_type": "execute_result"
    }
   ],
   "source": [
    "bitcoin_price.describe()"
   ]
  },
  {
   "cell_type": "code",
   "execution_count": 17,
   "metadata": {},
   "outputs": [
    {
     "data": {
      "text/plain": [
       "dtype('float64')"
      ]
     },
     "execution_count": 17,
     "metadata": {},
     "output_type": "execute_result"
    }
   ],
   "source": [
    "bitcoin_price.High.dtype"
   ]
  },
  {
   "cell_type": "code",
   "execution_count": 18,
   "metadata": {},
   "outputs": [
    {
     "data": {
      "text/plain": [
       "dtype('O')"
      ]
     },
     "execution_count": 18,
     "metadata": {},
     "output_type": "execute_result"
    }
   ],
   "source": [
    "bitcoin_price.Volume.dtype"
   ]
  },
  {
   "cell_type": "code",
   "execution_count": 25,
   "metadata": {},
   "outputs": [
    {
     "ename": "AttributeError",
     "evalue": "'Series' object has no attribute 'to_numeric'",
     "output_type": "error",
     "traceback": [
      "\u001b[1;31m---------------------------------------------------------------------------\u001b[0m",
      "\u001b[1;31mAttributeError\u001b[0m                            Traceback (most recent call last)",
      "\u001b[1;32m<ipython-input-25-7128c63f93f1>\u001b[0m in \u001b[0;36m<module>\u001b[1;34m\u001b[0m\n\u001b[1;32m----> 1\u001b[1;33m \u001b[0mbitcoin_price\u001b[0m\u001b[1;33m.\u001b[0m\u001b[0mVolume\u001b[0m\u001b[1;33m.\u001b[0m\u001b[0mto_numeric\u001b[0m\u001b[1;33m(\u001b[0m\u001b[1;33m)\u001b[0m\u001b[1;33m\u001b[0m\u001b[1;33m\u001b[0m\u001b[0m\n\u001b[0m",
      "\u001b[1;32m~\\Anaconda3\\lib\\site-packages\\pandas\\core\\generic.py\u001b[0m in \u001b[0;36m__getattr__\u001b[1;34m(self, name)\u001b[0m\n\u001b[0;32m   5177\u001b[0m             \u001b[1;32mif\u001b[0m \u001b[0mself\u001b[0m\u001b[1;33m.\u001b[0m\u001b[0m_info_axis\u001b[0m\u001b[1;33m.\u001b[0m\u001b[0m_can_hold_identifiers_and_holds_name\u001b[0m\u001b[1;33m(\u001b[0m\u001b[0mname\u001b[0m\u001b[1;33m)\u001b[0m\u001b[1;33m:\u001b[0m\u001b[1;33m\u001b[0m\u001b[1;33m\u001b[0m\u001b[0m\n\u001b[0;32m   5178\u001b[0m                 \u001b[1;32mreturn\u001b[0m \u001b[0mself\u001b[0m\u001b[1;33m[\u001b[0m\u001b[0mname\u001b[0m\u001b[1;33m]\u001b[0m\u001b[1;33m\u001b[0m\u001b[1;33m\u001b[0m\u001b[0m\n\u001b[1;32m-> 5179\u001b[1;33m             \u001b[1;32mreturn\u001b[0m \u001b[0mobject\u001b[0m\u001b[1;33m.\u001b[0m\u001b[0m__getattribute__\u001b[0m\u001b[1;33m(\u001b[0m\u001b[0mself\u001b[0m\u001b[1;33m,\u001b[0m \u001b[0mname\u001b[0m\u001b[1;33m)\u001b[0m\u001b[1;33m\u001b[0m\u001b[1;33m\u001b[0m\u001b[0m\n\u001b[0m\u001b[0;32m   5180\u001b[0m \u001b[1;33m\u001b[0m\u001b[0m\n\u001b[0;32m   5181\u001b[0m     \u001b[1;32mdef\u001b[0m \u001b[0m__setattr__\u001b[0m\u001b[1;33m(\u001b[0m\u001b[0mself\u001b[0m\u001b[1;33m,\u001b[0m \u001b[0mname\u001b[0m\u001b[1;33m,\u001b[0m \u001b[0mvalue\u001b[0m\u001b[1;33m)\u001b[0m\u001b[1;33m:\u001b[0m\u001b[1;33m\u001b[0m\u001b[1;33m\u001b[0m\u001b[0m\n",
      "\u001b[1;31mAttributeError\u001b[0m: 'Series' object has no attribute 'to_numeric'"
     ]
    }
   ],
   "source": [
    "bitcoin_price.Volume.to_numeric()"
   ]
  },
  {
   "cell_type": "code",
   "execution_count": 26,
   "metadata": {},
   "outputs": [
    {
     "data": {
      "text/plain": [
       "[<matplotlib.lines.Line2D at 0x25c34fa2b48>]"
      ]
     },
     "execution_count": 26,
     "metadata": {},
     "output_type": "execute_result"
    },
    {
     "data": {
      "image/png": "[encoded data removed]",
      "text/plain": [
       "<Figure size 432x288 with 1 Axes>"
      ]
     },
     "metadata": {
      "needs_background": "light"
     },
     "output_type": "display_data"
    }
   ],
   "source": [
    "plt.plot(bitcoin_price.Open, color='blue')\n",
    "plt.plot(bitcoin_price.Close, color='red')\n",
    "plt.plot(bitcoin_price.High, color = 'green')"
   ]
  },
  {
   "cell_type": "code",
   "execution_count": 27,
   "metadata": {},
   "outputs": [
    {
     "data": {
      "text/plain": [
       "<matplotlib.axes._subplots.AxesSubplot at 0x25c35013688>"
      ]
     },
     "execution_count": 27,
     "metadata": {},
     "output_type": "execute_result"
    },
    {
     "data": {
      "image/png": "[encoded data removed]",
      "text/plain": [
       "<Figure size 432x288 with 1 Axes>"
      ]
     },
     "metadata": {
      "needs_background": "light"
     },
     "output_type": "display_data"
    }
   ],
   "source": [
    "sns.boxplot(bitcoin_price.High)"
   ]
  },
  {
   "cell_type": "code",
   "execution_count": 28,
   "metadata": {},
   "outputs": [
    {
     "data": {
      "text/plain": [
       "<matplotlib.axes._subplots.AxesSubplot at 0x25c350a6248>"
      ]
     },
     "execution_count": 28,
     "metadata": {},
     "output_type": "execute_result"
    },
    {
     "data": {
      "image/png": "[encoded data removed]",
      "text/plain": [
       "<Figure size 432x288 with 1 Axes>"
      ]
     },
     "metadata": {
      "needs_background": "light"
     },
     "output_type": "display_data"
    }
   ],
   "source": [
    "sns.boxplot(bitcoin_price.Low)"
   ]
  },
  {
   "cell_type": "code",
   "execution_count": 33,
   "metadata": {},
   "outputs": [
    {
     "data": {
      "text/html": [
       "<div>\n",
       "<style scoped>\n",
       "    .dataframe tbody tr th:only-of-type {\n",
       "        vertical-align: middle;\n",
       "    }\n",
       "\n",
       "    .dataframe tbody tr th {\n",
       "        vertical-align: top;\n",
       "    }\n",
       "\n",
       "    .dataframe thead th {\n",
       "        text-align: right;\n",
       "    }\n",
       "</style>\n",
       "<table border=\"1\" class=\"dataframe\">\n",
       "  <thead>\n",
       "    <tr style=\"text-align: right;\">\n",
       "      <th></th>\n",
       "      <th>Date</th>\n",
       "      <th>High</th>\n",
       "    </tr>\n",
       "  </thead>\n",
       "  <tbody>\n",
       "    <tr>\n",
       "      <td>1759</td>\n",
       "      <td>2013-04-28</td>\n",
       "      <td>135.98</td>\n",
       "    </tr>\n",
       "    <tr>\n",
       "      <td>1758</td>\n",
       "      <td>2013-04-29</td>\n",
       "      <td>147.49</td>\n",
       "    </tr>\n",
       "    <tr>\n",
       "      <td>1757</td>\n",
       "      <td>2013-04-30</td>\n",
       "      <td>146.93</td>\n",
       "    </tr>\n",
       "    <tr>\n",
       "      <td>1756</td>\n",
       "      <td>2013-05-01</td>\n",
       "      <td>139.89</td>\n",
       "    </tr>\n",
       "    <tr>\n",
       "      <td>1755</td>\n",
       "      <td>2013-05-02</td>\n",
       "      <td>125.60</td>\n",
       "    </tr>\n",
       "  </tbody>\n",
       "</table>\n",
       "</div>"
      ],
      "text/plain": [
       "           Date    High\n",
       "1759 2013-04-28  135.98\n",
       "1758 2013-04-29  147.49\n",
       "1757 2013-04-30  146.93\n",
       "1756 2013-05-01  139.89\n",
       "1755 2013-05-02  125.60"
      ]
     },
     "execution_count": 33,
     "metadata": {},
     "output_type": "execute_result"
    }
   ],
   "source": [
    "bitcoin_price_high = bitcoin_price.iloc[:,[0,2]]\n",
    "bitcoin_price_high.head()"
   ]
  },
  {
   "cell_type": "code",
   "execution_count": 34,
   "metadata": {},
   "outputs": [
    {
     "data": {
      "text/html": [
       "<div>\n",
       "<style scoped>\n",
       "    .dataframe tbody tr th:only-of-type {\n",
       "        vertical-align: middle;\n",
       "    }\n",
       "\n",
       "    .dataframe tbody tr th {\n",
       "        vertical-align: top;\n",
       "    }\n",
       "\n",
       "    .dataframe thead th {\n",
       "        text-align: right;\n",
       "    }\n",
       "</style>\n",
       "<table border=\"1\" class=\"dataframe\">\n",
       "  <thead>\n",
       "    <tr style=\"text-align: right;\">\n",
       "      <th></th>\n",
       "      <th>Date</th>\n",
       "      <th>High</th>\n",
       "    </tr>\n",
       "  </thead>\n",
       "  <tbody>\n",
       "    <tr>\n",
       "      <td>4</td>\n",
       "      <td>2018-02-16</td>\n",
       "      <td>10324.1</td>\n",
       "    </tr>\n",
       "    <tr>\n",
       "      <td>3</td>\n",
       "      <td>2018-02-17</td>\n",
       "      <td>11139.5</td>\n",
       "    </tr>\n",
       "    <tr>\n",
       "      <td>2</td>\n",
       "      <td>2018-02-18</td>\n",
       "      <td>11349.8</td>\n",
       "    </tr>\n",
       "    <tr>\n",
       "      <td>1</td>\n",
       "      <td>2018-02-19</td>\n",
       "      <td>11273.8</td>\n",
       "    </tr>\n",
       "    <tr>\n",
       "      <td>0</td>\n",
       "      <td>2018-02-20</td>\n",
       "      <td>11958.5</td>\n",
       "    </tr>\n",
       "  </tbody>\n",
       "</table>\n",
       "</div>"
      ],
      "text/plain": [
       "        Date     High\n",
       "4 2018-02-16  10324.1\n",
       "3 2018-02-17  11139.5\n",
       "2 2018-02-18  11349.8\n",
       "1 2018-02-19  11273.8\n",
       "0 2018-02-20  11958.5"
      ]
     },
     "execution_count": 34,
     "metadata": {},
     "output_type": "execute_result"
    }
   ],
   "source": [
    "bitcoin_price_high.tail()"
   ]
  },
  {
   "cell_type": "code",
   "execution_count": 35,
   "metadata": {},
   "outputs": [
    {
     "data": {
      "text/plain": [
       "[<matplotlib.lines.Line2D at 0x25c353353c8>]"
      ]
     },
     "execution_count": 35,
     "metadata": {},
     "output_type": "execute_result"
    },
    {
     "data": {
      "image/png": "[encoded data removed]",
      "text/plain": [
       "<Figure size 432x288 with 1 Axes>"
      ]
     },
     "metadata": {
      "needs_background": "light"
     },
     "output_type": "display_data"
    }
   ],
   "source": [
    "plt.plot(bitcoin_price_high.High)"
   ]
  },
  {
   "cell_type": "code",
   "execution_count": null,
   "metadata": {},
   "outputs": [],
   "source": []
  }
 ],
 "metadata": {
  "kernelspec": {
   "display_name": "Python 3",
   "language": "python",
   "name": "python3"
  },
  "language_info": {
   "codemirror_mode": {
    "name": "ipython",
    "version": 3
   },
   "file_extension": ".py",
   "mimetype": "text/x-python",
   "name": "python",
   "nbconvert_exporter": "python",
   "pygments_lexer": "ipython3",
   "version": "3.7.4"
  }
 },
 "nbformat": 4,
 "nbformat_minor": 2
}
